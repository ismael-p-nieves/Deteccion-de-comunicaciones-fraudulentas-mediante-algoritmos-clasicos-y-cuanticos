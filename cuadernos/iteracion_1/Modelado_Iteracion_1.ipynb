{
  "cells": [
    {
      "cell_type": "markdown",
      "metadata": {
        "id": "DnFvZFTa4ERz"
      },
      "source": [
        "# Preparación"
      ]
    },
    {
      "cell_type": "code",
      "execution_count": null,
      "metadata": {
        "id": "_Two1MTOlv3C"
      },
      "outputs": [],
      "source": [
        "import numpy as np\n",
        "import csv\n",
        "import pandas as pd\n",
        "from sklearn.tree import DecisionTreeClassifier\n",
        "from sklearn.model_selection import train_test_split\n",
        "from sklearn.metrics import f1_score, confusion_matrix, accuracy_score, ConfusionMatrixDisplay\n",
        "from sklearn import svm, preprocessing\n",
        "from sklearn.ensemble import AdaBoostClassifier\n",
        "from tabulate import tabulate\n",
        "import matplotlib.pyplot as plt"
      ]
    },
    {
      "cell_type": "code",
      "source": [
        "!pip show numpy"
      ],
      "metadata": {
        "colab": {
          "base_uri": "https://localhost:8080/"
        },
        "id": "qo0t4BALHxri",
        "outputId": "7be75ff2-8f94-41f9-c5c0-eb8cef966f67"
      },
      "execution_count": null,
      "outputs": [
        {
          "output_type": "stream",
          "name": "stdout",
          "text": [
            "Name: numpy\n",
            "Version: 1.22.4\n",
            "Summary: NumPy is the fundamental package for array computing with Python.\n",
            "Home-page: https://www.numpy.org\n",
            "Author: Travis E. Oliphant et al.\n",
            "Author-email: \n",
            "License: BSD\n",
            "Location: /usr/local/lib/python3.10/dist-packages\n",
            "Requires: \n",
            "Required-by: albumentations, altair, arviz, astropy, autograd, blis, bokeh, chex, cmdstanpy, contourpy, cufflinks, cvxpy, datascience, db-dtypes, dopamine-rl, ecos, flax, folium, gensim, gym, h5py, holoviews, hyperopt, imageio, imbalanced-learn, imgaug, jax, jaxlib, librosa, lightgbm, matplotlib, matplotlib-venn, missingno, mizani, ml-dtypes, mlxtend, moviepy, music21, nibabel, numba, numexpr, opencv-contrib-python, opencv-python, opencv-python-headless, opt-einsum, optax, orbax-checkpoint, osqp, pandas, pandas-gbq, patsy, plotnine, prophet, pyarrow, pycocotools, pyerfa, pymc, pytensor, python-louvain, PyWavelets, qdldl, qudida, scikit-image, scikit-learn, scipy, scs, seaborn, shapely, sklearn-pandas, soxr, spacy, statsmodels, tables, tensorboard, tensorflow, tensorflow-datasets, tensorflow-hub, tensorflow-probability, tensorstore, thinc, tifffile, torchtext, torchvision, wordcloud, xarray, xarray-einstats, xgboost, yellowbrick, yfinance\n"
          ]
        }
      ]
    },
    {
      "cell_type": "code",
      "execution_count": null,
      "metadata": {
        "colab": {
          "base_uri": "https://localhost:8080/"
        },
        "id": "ne_45RdBvtY_",
        "outputId": "27a1989b-f03b-438c-8c77-fa9d36e97f12"
      },
      "outputs": [
        {
          "output_type": "stream",
          "name": "stdout",
          "text": [
            "Mounted at /content/drive\n"
          ]
        }
      ],
      "source": [
        "from google.colab import drive\n",
        "drive.mount('/content/drive')"
      ]
    },
    {
      "cell_type": "code",
      "execution_count": null,
      "metadata": {
        "colab": {
          "base_uri": "https://localhost:8080/"
        },
        "id": "6g2Z4-cilrML",
        "outputId": "75271839-25cb-4ea5-8c1b-f50503e18405"
      },
      "outputs": [
        {
          "output_type": "stream",
          "name": "stdout",
          "text": [
            "Requirement already satisfied: ipywidgets in /usr/local/lib/python3.10/dist-packages (7.7.1)\n",
            "Requirement already satisfied: ipykernel>=4.5.1 in /usr/local/lib/python3.10/dist-packages (from ipywidgets) (5.5.6)\n",
            "Requirement already satisfied: ipython-genutils~=0.2.0 in /usr/local/lib/python3.10/dist-packages (from ipywidgets) (0.2.0)\n",
            "Requirement already satisfied: traitlets>=4.3.1 in /usr/local/lib/python3.10/dist-packages (from ipywidgets) (5.7.1)\n",
            "Requirement already satisfied: widgetsnbextension~=3.6.0 in /usr/local/lib/python3.10/dist-packages (from ipywidgets) (3.6.4)\n",
            "Requirement already satisfied: ipython>=4.0.0 in /usr/local/lib/python3.10/dist-packages (from ipywidgets) (7.34.0)\n",
            "Requirement already satisfied: jupyterlab-widgets>=1.0.0 in /usr/local/lib/python3.10/dist-packages (from ipywidgets) (3.0.7)\n",
            "Requirement already satisfied: jupyter-client in /usr/local/lib/python3.10/dist-packages (from ipykernel>=4.5.1->ipywidgets) (6.1.12)\n",
            "Requirement already satisfied: tornado>=4.2 in /usr/local/lib/python3.10/dist-packages (from ipykernel>=4.5.1->ipywidgets) (6.3.1)\n",
            "Requirement already satisfied: setuptools>=18.5 in /usr/local/lib/python3.10/dist-packages (from ipython>=4.0.0->ipywidgets) (67.7.2)\n",
            "Collecting jedi>=0.16 (from ipython>=4.0.0->ipywidgets)\n",
            "  Downloading jedi-0.18.2-py2.py3-none-any.whl (1.6 MB)\n",
            "\u001b[2K     \u001b[90m━━━━━━━━━━━━━━━━━━━━━━━━━━━━━━━━━━━━━━━━\u001b[0m \u001b[32m1.6/1.6 MB\u001b[0m \u001b[31m42.8 MB/s\u001b[0m eta \u001b[36m0:00:00\u001b[0m\n",
            "\u001b[?25hRequirement already satisfied: decorator in /usr/local/lib/python3.10/dist-packages (from ipython>=4.0.0->ipywidgets) (4.4.2)\n",
            "Requirement already satisfied: pickleshare in /usr/local/lib/python3.10/dist-packages (from ipython>=4.0.0->ipywidgets) (0.7.5)\n",
            "Requirement already satisfied: prompt-toolkit!=3.0.0,!=3.0.1,<3.1.0,>=2.0.0 in /usr/local/lib/python3.10/dist-packages (from ipython>=4.0.0->ipywidgets) (3.0.38)\n",
            "Requirement already satisfied: pygments in /usr/local/lib/python3.10/dist-packages (from ipython>=4.0.0->ipywidgets) (2.14.0)\n",
            "Requirement already satisfied: backcall in /usr/local/lib/python3.10/dist-packages (from ipython>=4.0.0->ipywidgets) (0.2.0)\n",
            "Requirement already satisfied: matplotlib-inline in /usr/local/lib/python3.10/dist-packages (from ipython>=4.0.0->ipywidgets) (0.1.6)\n",
            "Requirement already satisfied: pexpect>4.3 in /usr/local/lib/python3.10/dist-packages (from ipython>=4.0.0->ipywidgets) (4.8.0)\n",
            "Requirement already satisfied: notebook>=4.4.1 in /usr/local/lib/python3.10/dist-packages (from widgetsnbextension~=3.6.0->ipywidgets) (6.4.8)\n",
            "Requirement already satisfied: parso<0.9.0,>=0.8.0 in /usr/local/lib/python3.10/dist-packages (from jedi>=0.16->ipython>=4.0.0->ipywidgets) (0.8.3)\n",
            "Requirement already satisfied: jinja2 in /usr/local/lib/python3.10/dist-packages (from notebook>=4.4.1->widgetsnbextension~=3.6.0->ipywidgets) (3.1.2)\n",
            "Requirement already satisfied: pyzmq>=17 in /usr/local/lib/python3.10/dist-packages (from notebook>=4.4.1->widgetsnbextension~=3.6.0->ipywidgets) (23.2.1)\n",
            "Requirement already satisfied: argon2-cffi in /usr/local/lib/python3.10/dist-packages (from notebook>=4.4.1->widgetsnbextension~=3.6.0->ipywidgets) (21.3.0)\n",
            "Requirement already satisfied: jupyter-core>=4.6.1 in /usr/local/lib/python3.10/dist-packages (from notebook>=4.4.1->widgetsnbextension~=3.6.0->ipywidgets) (5.3.1)\n",
            "Requirement already satisfied: nbformat in /usr/local/lib/python3.10/dist-packages (from notebook>=4.4.1->widgetsnbextension~=3.6.0->ipywidgets) (5.9.0)\n",
            "Requirement already satisfied: nbconvert in /usr/local/lib/python3.10/dist-packages (from notebook>=4.4.1->widgetsnbextension~=3.6.0->ipywidgets) (6.5.4)\n",
            "Requirement already satisfied: nest-asyncio>=1.5 in /usr/local/lib/python3.10/dist-packages (from notebook>=4.4.1->widgetsnbextension~=3.6.0->ipywidgets) (1.5.6)\n",
            "Requirement already satisfied: Send2Trash>=1.8.0 in /usr/local/lib/python3.10/dist-packages (from notebook>=4.4.1->widgetsnbextension~=3.6.0->ipywidgets) (1.8.2)\n",
            "Requirement already satisfied: terminado>=0.8.3 in /usr/local/lib/python3.10/dist-packages (from notebook>=4.4.1->widgetsnbextension~=3.6.0->ipywidgets) (0.17.1)\n",
            "Requirement already satisfied: prometheus-client in /usr/local/lib/python3.10/dist-packages (from notebook>=4.4.1->widgetsnbextension~=3.6.0->ipywidgets) (0.17.0)\n",
            "Requirement already satisfied: python-dateutil>=2.1 in /usr/local/lib/python3.10/dist-packages (from jupyter-client->ipykernel>=4.5.1->ipywidgets) (2.8.2)\n",
            "Requirement already satisfied: ptyprocess>=0.5 in /usr/local/lib/python3.10/dist-packages (from pexpect>4.3->ipython>=4.0.0->ipywidgets) (0.7.0)\n",
            "Requirement already satisfied: wcwidth in /usr/local/lib/python3.10/dist-packages (from prompt-toolkit!=3.0.0,!=3.0.1,<3.1.0,>=2.0.0->ipython>=4.0.0->ipywidgets) (0.2.6)\n",
            "Requirement already satisfied: platformdirs>=2.5 in /usr/local/lib/python3.10/dist-packages (from jupyter-core>=4.6.1->notebook>=4.4.1->widgetsnbextension~=3.6.0->ipywidgets) (3.7.0)\n",
            "Requirement already satisfied: six>=1.5 in /usr/local/lib/python3.10/dist-packages (from python-dateutil>=2.1->jupyter-client->ipykernel>=4.5.1->ipywidgets) (1.16.0)\n",
            "Requirement already satisfied: argon2-cffi-bindings in /usr/local/lib/python3.10/dist-packages (from argon2-cffi->notebook>=4.4.1->widgetsnbextension~=3.6.0->ipywidgets) (21.2.0)\n",
            "Requirement already satisfied: MarkupSafe>=2.0 in /usr/local/lib/python3.10/dist-packages (from jinja2->notebook>=4.4.1->widgetsnbextension~=3.6.0->ipywidgets) (2.1.3)\n",
            "Requirement already satisfied: lxml in /usr/local/lib/python3.10/dist-packages (from nbconvert->notebook>=4.4.1->widgetsnbextension~=3.6.0->ipywidgets) (4.9.2)\n",
            "Requirement already satisfied: beautifulsoup4 in /usr/local/lib/python3.10/dist-packages (from nbconvert->notebook>=4.4.1->widgetsnbextension~=3.6.0->ipywidgets) (4.11.2)\n",
            "Requirement already satisfied: bleach in /usr/local/lib/python3.10/dist-packages (from nbconvert->notebook>=4.4.1->widgetsnbextension~=3.6.0->ipywidgets) (6.0.0)\n",
            "Requirement already satisfied: defusedxml in /usr/local/lib/python3.10/dist-packages (from nbconvert->notebook>=4.4.1->widgetsnbextension~=3.6.0->ipywidgets) (0.7.1)\n",
            "Requirement already satisfied: entrypoints>=0.2.2 in /usr/local/lib/python3.10/dist-packages (from nbconvert->notebook>=4.4.1->widgetsnbextension~=3.6.0->ipywidgets) (0.4)\n",
            "Requirement already satisfied: jupyterlab-pygments in /usr/local/lib/python3.10/dist-packages (from nbconvert->notebook>=4.4.1->widgetsnbextension~=3.6.0->ipywidgets) (0.2.2)\n",
            "Requirement already satisfied: mistune<2,>=0.8.1 in /usr/local/lib/python3.10/dist-packages (from nbconvert->notebook>=4.4.1->widgetsnbextension~=3.6.0->ipywidgets) (0.8.4)\n",
            "Requirement already satisfied: nbclient>=0.5.0 in /usr/local/lib/python3.10/dist-packages (from nbconvert->notebook>=4.4.1->widgetsnbextension~=3.6.0->ipywidgets) (0.8.0)\n",
            "Requirement already satisfied: packaging in /usr/local/lib/python3.10/dist-packages (from nbconvert->notebook>=4.4.1->widgetsnbextension~=3.6.0->ipywidgets) (23.1)\n",
            "Requirement already satisfied: pandocfilters>=1.4.1 in /usr/local/lib/python3.10/dist-packages (from nbconvert->notebook>=4.4.1->widgetsnbextension~=3.6.0->ipywidgets) (1.5.0)\n",
            "Requirement already satisfied: tinycss2 in /usr/local/lib/python3.10/dist-packages (from nbconvert->notebook>=4.4.1->widgetsnbextension~=3.6.0->ipywidgets) (1.2.1)\n",
            "Requirement already satisfied: fastjsonschema in /usr/local/lib/python3.10/dist-packages (from nbformat->notebook>=4.4.1->widgetsnbextension~=3.6.0->ipywidgets) (2.17.1)\n",
            "Requirement already satisfied: jsonschema>=2.6 in /usr/local/lib/python3.10/dist-packages (from nbformat->notebook>=4.4.1->widgetsnbextension~=3.6.0->ipywidgets) (4.3.3)\n",
            "Requirement already satisfied: attrs>=17.4.0 in /usr/local/lib/python3.10/dist-packages (from jsonschema>=2.6->nbformat->notebook>=4.4.1->widgetsnbextension~=3.6.0->ipywidgets) (23.1.0)\n",
            "Requirement already satisfied: pyrsistent!=0.17.0,!=0.17.1,!=0.17.2,>=0.14.0 in /usr/local/lib/python3.10/dist-packages (from jsonschema>=2.6->nbformat->notebook>=4.4.1->widgetsnbextension~=3.6.0->ipywidgets) (0.19.3)\n",
            "Requirement already satisfied: cffi>=1.0.1 in /usr/local/lib/python3.10/dist-packages (from argon2-cffi-bindings->argon2-cffi->notebook>=4.4.1->widgetsnbextension~=3.6.0->ipywidgets) (1.15.1)\n",
            "Requirement already satisfied: soupsieve>1.2 in /usr/local/lib/python3.10/dist-packages (from beautifulsoup4->nbconvert->notebook>=4.4.1->widgetsnbextension~=3.6.0->ipywidgets) (2.4.1)\n",
            "Requirement already satisfied: webencodings in /usr/local/lib/python3.10/dist-packages (from bleach->nbconvert->notebook>=4.4.1->widgetsnbextension~=3.6.0->ipywidgets) (0.5.1)\n",
            "Requirement already satisfied: pycparser in /usr/local/lib/python3.10/dist-packages (from cffi>=1.0.1->argon2-cffi-bindings->argon2-cffi->notebook>=4.4.1->widgetsnbextension~=3.6.0->ipywidgets) (2.21)\n",
            "Installing collected packages: jedi\n",
            "Successfully installed jedi-0.18.2\n",
            "Enabling notebook extension jupyter-js-widgets/extension...\n",
            "Paths used for configuration of notebook: \n",
            "    \t/root/.jupyter/nbconfig/notebook.json\n",
            "Paths used for configuration of notebook: \n",
            "    \t\n",
            "      - Validating: \u001b[32mOK\u001b[0m\n",
            "Paths used for configuration of notebook: \n",
            "    \t/root/.jupyter/nbconfig/notebook.json\n"
          ]
        }
      ],
      "source": [
        "!pip install ipywidgets\n",
        "# To enable `ipywidgets`\n",
        "!jupyter nbextension enable --py widgetsnbextension"
      ]
    },
    {
      "cell_type": "code",
      "execution_count": null,
      "metadata": {
        "id": "wK4Pgk0hluFn"
      },
      "outputs": [],
      "source": [
        "from ipywidgets import widgets\n",
        "from IPython.display import display"
      ]
    },
    {
      "cell_type": "code",
      "execution_count": null,
      "metadata": {
        "colab": {
          "base_uri": "https://localhost:8080/"
        },
        "id": "XgjWQh2yuJBv",
        "outputId": "42e3c558-dc2d-4201-dfc8-5ddcbd801638"
      },
      "outputs": [
        {
          "output_type": "stream",
          "name": "stdout",
          "text": [
            "\u001b[2K     \u001b[90m━━━━━━━━━━━━━━━━━━━━━━━━━━━━━━━━━━━━━━━━\u001b[0m \u001b[32m1.4/1.4 MB\u001b[0m \u001b[31m16.5 MB/s\u001b[0m eta \u001b[36m0:00:00\u001b[0m\n",
            "\u001b[2K     \u001b[90m━━━━━━━━━━━━━━━━━━━━━━━━━━━━━━━━━━━━━━━━\u001b[0m \u001b[32m45.4/45.4 kB\u001b[0m \u001b[31m3.3 MB/s\u001b[0m eta \u001b[36m0:00:00\u001b[0m\n",
            "\u001b[2K     \u001b[90m━━━━━━━━━━━━━━━━━━━━━━━━━━━━━━━━━━━━━━━━\u001b[0m \u001b[32m51.0/51.0 kB\u001b[0m \u001b[31m4.6 MB/s\u001b[0m eta \u001b[36m0:00:00\u001b[0m\n",
            "\u001b[?25h  Preparing metadata (setup.py) ... \u001b[?25l\u001b[?25hdone\n",
            "\u001b[2K     \u001b[90m━━━━━━━━━━━━━━━━━━━━━━━━━━━━━━━━━━━━━━━━\u001b[0m \u001b[32m4.3/4.3 MB\u001b[0m \u001b[31m56.8 MB/s\u001b[0m eta \u001b[36m0:00:00\u001b[0m\n",
            "\u001b[?25h  Building wheel for ligo-segments (setup.py) ... \u001b[?25l\u001b[?25hdone\n"
          ]
        }
      ],
      "source": [
        "!pip install -q gwpy"
      ]
    },
    {
      "cell_type": "markdown",
      "metadata": {
        "id": "F36xNCiwyqrV"
      },
      "source": [
        "Esta librería nos va a permitir ver el tiempo de ejecución de todas las celdas en el cuaderno."
      ]
    },
    {
      "cell_type": "code",
      "execution_count": null,
      "metadata": {
        "colab": {
          "base_uri": "https://localhost:8080/"
        },
        "id": "cRWA_Zmbh5k-",
        "outputId": "3569f17c-4123-48d6-d5e0-4708d712f335"
      },
      "outputs": [
        {
          "output_type": "stream",
          "name": "stdout",
          "text": [
            "time: 687 µs (started: 2023-06-28 20:44:33 +00:00)\n"
          ]
        }
      ],
      "source": [
        "%%capture\n",
        "!pip install ipython-autotime\n",
        "%load_ext autotime"
      ]
    },
    {
      "cell_type": "markdown",
      "metadata": {
        "id": "WI06Dt9AqTin"
      },
      "source": [
        "# Recolección de datos"
      ]
    },
    {
      "cell_type": "markdown",
      "metadata": {
        "id": "jnRSvdxluQJf"
      },
      "source": [
        "Gracias a la celda de abajo, el usuario puede seleccionar el conjunto de datos que se va a utilizar en esta ejecución.\n",
        "\n",
        "Se recomienda ejecutar esta celda antes de ejecutar el resto del cuaderno. Por defecto, se utilizará el conjunto DoS_stratified.csv"
      ]
    },
    {
      "cell_type": "code",
      "execution_count": null,
      "metadata": {
        "id": "0P-BMc6YqW5-",
        "colab": {
          "base_uri": "https://localhost:8080/",
          "height": 66,
          "referenced_widgets": [
            "0de48c4b276a46de9fb2e8a60643602c",
            "acb17e9e8dd548b7acd9a4702ea35ef2",
            "fd0adfcea2114af0989e26b6166709b7",
            "bdd8a2135642409a84d5df47dbb2a3d6",
            "6e4ac3791f1c4e85b2c2602a648a30e3"
          ]
        },
        "outputId": "0a6851d6-9f8c-44ab-b86d-9346d420be5f"
      },
      "outputs": [
        {
          "output_type": "display_data",
          "data": {
            "text/plain": [
              "Dropdown(options=('DoS', 'Fuzzy', 'Gear', 'RPM'), value='DoS')"
            ],
            "application/vnd.jupyter.widget-view+json": {
              "version_major": 2,
              "version_minor": 0,
              "model_id": "0de48c4b276a46de9fb2e8a60643602c"
            }
          },
          "metadata": {}
        },
        {
          "output_type": "display_data",
          "data": {
            "text/plain": [
              "Output()"
            ],
            "application/vnd.jupyter.widget-view+json": {
              "version_major": 2,
              "version_minor": 0,
              "model_id": "bdd8a2135642409a84d5df47dbb2a3d6"
            }
          },
          "metadata": {}
        },
        {
          "output_type": "stream",
          "name": "stdout",
          "text": [
            "time: 20.9 ms (started: 2023-06-28 21:17:49 +00:00)\n"
          ]
        }
      ],
      "source": [
        "dropdown = widgets.Dropdown(options =[\"DoS\", \"Fuzzy\", \"Gear\", \"RPM\"])\n",
        "output = widgets.Output()\n",
        "path = '/content/drive/MyDrive/tfg/datasets/DoS_stratified.csv'\n",
        "\n",
        "def select(change):\n",
        "  global path\n",
        "  output.clear_output()\n",
        "  if(change.new == 'DoS'):\n",
        "    with output:\n",
        "      path = '/content/drive/MyDrive/tfg/datasets/DoS_stratified.csv'\n",
        "  elif(change.new == 'Fuzzy'):\n",
        "    with output:\n",
        "      path = '/content/drive/MyDrive/tfg/datasets/Fuzzy_stratified.csv'\n",
        "  elif(change.new == 'Gear'):\n",
        "    with output:\n",
        "      path = '/content/drive/MyDrive/tfg/datasets/gear_stratified.csv'\n",
        "  elif(change.new == 'RPM'):\n",
        "    with output:\n",
        "      path = '/content/drive/MyDrive/tfg/datasets/RPM_stratified.csv'\n",
        "  else:\n",
        "    with output:\n",
        "      display(\"Error: option not found\")\n",
        "\n",
        "dropdown.observe(select, names=\"value\")\n",
        "display(dropdown)\n",
        "display(output)"
      ]
    },
    {
      "cell_type": "code",
      "execution_count": null,
      "metadata": {
        "colab": {
          "base_uri": "https://localhost:8080/"
        },
        "id": "VvOYWXYMqcep",
        "outputId": "e196170a-6191-4eed-e2b7-f7cded9b5053"
      },
      "outputs": [
        {
          "output_type": "stream",
          "name": "stdout",
          "text": [
            "time: 38.7 s (started: 2023-06-28 21:17:56 +00:00)\n"
          ]
        }
      ],
      "source": [
        "columns = ['Tiempo', 'ID', 'DLC', 'M1', 'M2', 'M3', 'M4', 'M5', 'M6', 'M7', 'M8', 'Etiqueta', 'Delta']\n",
        "df = pd.read_csv(path, delimiter=',', header=0, names=columns,\n",
        "                 dtype={'ID':int, 'DLC':int, 'M1':int, 'M2':int, 'M3':int, 'M4':int,\n",
        "                         'M5':int, 'M6':int, 'M7':int, 'M8':int, 'Etiqueta':int, 'Delta':'float32'},\n",
        "                 parse_dates = ['Tiempo'], engine='python')"
      ]
    },
    {
      "cell_type": "code",
      "execution_count": null,
      "metadata": {
        "colab": {
          "base_uri": "https://localhost:8080/"
        },
        "id": "8GIiJoszWfLG",
        "outputId": "7e81ee5c-c08f-4c92-cf59-c89a3093dc36"
      },
      "outputs": [
        {
          "output_type": "stream",
          "name": "stdout",
          "text": [
            "time: 709 µs (started: 2023-06-28 21:18:34 +00:00)\n"
          ]
        }
      ],
      "source": [
        "%%capture\n",
        "time_column = ['Tiempo']\n",
        "x_columns = ['ID', 'DLC', 'M1', 'M2', 'M3', 'M4', 'M5', 'M6', 'M7', 'M8', 'Delta']\n",
        "y_columns = ['Etiqueta']"
      ]
    },
    {
      "cell_type": "markdown",
      "metadata": {
        "id": "K_ykgxncwo2W"
      },
      "source": [
        "# Modelling\n"
      ]
    },
    {
      "cell_type": "markdown",
      "metadata": {
        "id": "Z0oT7-jYOwKS"
      },
      "source": [
        "## Instalación de D-Wave"
      ]
    },
    {
      "cell_type": "code",
      "execution_count": null,
      "metadata": {
        "colab": {
          "base_uri": "https://localhost:8080/"
        },
        "id": "ThFE-FeCO0Ar",
        "outputId": "5533761d-c9ae-4c96-f81c-b3a728e14981"
      },
      "outputs": [
        {
          "output_type": "stream",
          "name": "stdout",
          "text": [
            "time: 5.94 s (started: 2023-06-28 21:18:34 +00:00)\n"
          ]
        }
      ],
      "source": [
        "%%capture\n",
        "!pip install dwave-ocean-sdk"
      ]
    },
    {
      "cell_type": "code",
      "execution_count": null,
      "metadata": {
        "colab": {
          "base_uri": "https://localhost:8080/"
        },
        "id": "TF5Mdlj2O2vh",
        "outputId": "88b763aa-d041-4f9b-c185-47a2180ad5f1"
      },
      "outputs": [
        {
          "output_type": "stream",
          "name": "stdout",
          "text": [
            "time: 312 ms (started: 2023-06-28 21:18:40 +00:00)\n"
          ]
        }
      ],
      "source": [
        "%%capture\n",
        "!git clone https://github.com/dwavesystems/dwave-ocean-sdk.git\n",
        "!cd dwave-ocean-sdk\n",
        "!python setup.py install"
      ]
    },
    {
      "cell_type": "code",
      "execution_count": null,
      "metadata": {
        "colab": {
          "base_uri": "https://localhost:8080/"
        },
        "id": "QfpEksx2O6xD",
        "outputId": "fbc30e02-7a86-477f-bb25-02014ef302e3"
      },
      "outputs": [
        {
          "output_type": "stream",
          "name": "stdout",
          "text": [
            "time: 797 µs (started: 2023-06-28 21:18:41 +00:00)\n"
          ]
        }
      ],
      "source": [
        "import numpy.lib.recfunctions as rfn\n",
        "import dimod\n",
        "from dwave.system import LeapHybridSampler, EmbeddingComposite\n",
        "from dwave.system.samplers import DWaveSampler"
      ]
    },
    {
      "cell_type": "markdown",
      "metadata": {
        "id": "jz2Hqmti5ldC"
      },
      "source": [
        "Para poder acceder a los ordenadores de D-Wave, es necesario crear una cuenta en D-Wave Leap. Después de hacerlo, es necesario guardar el token asociado con tu cuenta en un archivo llamado \"token.txt\" y subirlo al entorno de ejecución."
      ]
    },
    {
      "cell_type": "code",
      "execution_count": null,
      "metadata": {
        "colab": {
          "base_uri": "https://localhost:8080/"
        },
        "id": "_B_tuCA50ETa",
        "outputId": "dd9fe20a-d85d-4ecb-80ea-2725c9e9049e"
      },
      "outputs": [
        {
          "output_type": "stream",
          "name": "stdout",
          "text": [
            "time: 688 µs (started: 2023-06-28 21:18:41 +00:00)\n"
          ]
        }
      ],
      "source": [
        "def get_token(path):\n",
        "  with open(\"token.txt\", \"r\") as file:\n",
        "    token = file.read()\n",
        "\n",
        "  return token"
      ]
    },
    {
      "cell_type": "code",
      "execution_count": null,
      "metadata": {
        "colab": {
          "base_uri": "https://localhost:8080/"
        },
        "id": "vWd0pEPzPBeU",
        "outputId": "c2822b80-91b7-4f89-aad7-fec8488cf7f9"
      },
      "outputs": [
        {
          "output_type": "stream",
          "name": "stdout",
          "text": [
            "time: 443 µs (started: 2023-06-28 21:18:41 +00:00)\n"
          ]
        }
      ],
      "source": [
        "%%capture\n",
        "endpoint = 'https://cloud.dwavesys.com/sapi'\n",
        "token = get_token('token.txt')"
      ]
    },
    {
      "cell_type": "markdown",
      "metadata": {
        "id": "WRY6ElJFsjB0"
      },
      "source": [
        "## Algoritmos clásicos"
      ]
    },
    {
      "cell_type": "markdown",
      "metadata": {
        "id": "WUGzeSSKslPS"
      },
      "source": [
        "El objetivo de esta sección es la creación de modelos de aprendizaje clásicos en condiciones normales, con el conjunto de datos de entrada en su totalidad."
      ]
    },
    {
      "cell_type": "code",
      "execution_count": null,
      "metadata": {
        "colab": {
          "base_uri": "https://localhost:8080/"
        },
        "id": "pHd22TNlTAYZ",
        "outputId": "76194571-d987-4643-bbe7-42d4d0e1a6a8"
      },
      "outputs": [
        {
          "output_type": "stream",
          "name": "stdout",
          "text": [
            "time: 1.74 s (started: 2023-06-28 21:18:41 +00:00)\n"
          ]
        }
      ],
      "source": [
        "ds = df.drop(time_column, axis=1)\n",
        "\n",
        "train, test = train_test_split(ds, test_size=0.2, random_state=42)\n",
        "\n",
        "x_train = train[x_columns]\n",
        "y_train = train[y_columns]\n",
        "\n",
        "x_test = test[x_columns]\n",
        "y_test = test[y_columns]"
      ]
    },
    {
      "cell_type": "markdown",
      "metadata": {
        "id": "OO7OVaPtaUj1"
      },
      "source": [
        "### SVM"
      ]
    },
    {
      "cell_type": "code",
      "execution_count": null,
      "metadata": {
        "colab": {
          "base_uri": "https://localhost:8080/"
        },
        "id": "vtUlhPZSaUj8",
        "outputId": "8f5c72db-7fba-4923-cf12-a5ca1f9813b0"
      },
      "outputs": [
        {
          "output_type": "stream",
          "name": "stdout",
          "text": [
            "time: 6.97 s (started: 2023-06-28 21:18:43 +00:00)\n"
          ]
        }
      ],
      "source": [
        "%%capture\n",
        "svmClf = svm.SVC(kernel='linear', max_iter=100, class_weight='balanced')\n",
        "svmClf.fit(x_train, y_train)"
      ]
    },
    {
      "cell_type": "code",
      "execution_count": null,
      "metadata": {
        "colab": {
          "base_uri": "https://localhost:8080/"
        },
        "id": "tjNH7ua5aUj9",
        "outputId": "52200ad0-d0f7-4f14-b5c8-e2796bd41627"
      },
      "outputs": [
        {
          "output_type": "stream",
          "name": "stdout",
          "text": [
            "time: 639 ms (started: 2023-06-28 21:18:49 +00:00)\n"
          ]
        }
      ],
      "source": [
        "y_pred = svmClf.predict(x_test)"
      ]
    },
    {
      "cell_type": "code",
      "execution_count": null,
      "metadata": {
        "colab": {
          "base_uri": "https://localhost:8080/"
        },
        "id": "rQ4tR8EAaUj9",
        "outputId": "930d961a-6295-4a71-e1e0-304bc388c37d"
      },
      "outputs": [
        {
          "output_type": "stream",
          "name": "stdout",
          "text": [
            "F1 Score Result: 1.0\n",
            "time: 427 ms (started: 2023-06-28 21:18:50 +00:00)\n"
          ]
        }
      ],
      "source": [
        "f1_sc = f1_score(y_test, y_pred, average='micro')\n",
        "print(f'F1 Score Result: {f1_sc}')"
      ]
    },
    {
      "cell_type": "code",
      "execution_count": null,
      "metadata": {
        "colab": {
          "base_uri": "https://localhost:8080/",
          "height": 466
        },
        "id": "tQ3bqO4qaUj9",
        "outputId": "83403f87-0476-40e6-944e-ecf910de4681"
      },
      "outputs": [
        {
          "output_type": "display_data",
          "data": {
            "text/plain": [
              "<Figure size 640x480 with 2 Axes>"
            ],
            "image/png": "[encoded data removed]"
          },
          "metadata": {}
        },
        {
          "output_type": "stream",
          "name": "stdout",
          "text": [
            "time: 519 ms (started: 2023-06-28 21:18:51 +00:00)\n"
          ]
        }
      ],
      "source": [
        "cm = confusion_matrix(y_test, y_pred, labels=svmClf.classes_)\n",
        "disp = ConfusionMatrixDisplay(confusion_matrix=cm, display_labels=svmClf.classes_)\n",
        "disp.plot()\n",
        "plt.show()"
      ]
    },
    {
      "cell_type": "markdown",
      "metadata": {
        "id": "Uta17rUkaUj-"
      },
      "source": [
        "### AdaBoost"
      ]
    },
    {
      "cell_type": "code",
      "execution_count": null,
      "metadata": {
        "colab": {
          "base_uri": "https://localhost:8080/",
          "height": 190
        },
        "id": "F1s_UdK0aUj-",
        "outputId": "a3ea7609-08f7-44a1-e970-81b22dd77f08"
      },
      "outputs": [
        {
          "output_type": "stream",
          "name": "stderr",
          "text": [
            "/usr/local/lib/python3.10/dist-packages/sklearn/utils/validation.py:1143: DataConversionWarning: A column-vector y was passed when a 1d array was expected. Please change the shape of y to (n_samples, ), for example using ravel().\n",
            "  y = column_or_1d(y, warn=True)\n"
          ]
        },
        {
          "output_type": "execute_result",
          "data": {
            "text/plain": [
              "AdaBoostClassifier(estimator=DecisionTreeClassifier(class_weight='balanced',\n",
              "                                                    random_state=42),\n",
              "                   n_estimators=100, random_state=42)"
            ],
            "text/html": [
              "<style>#sk-container-id-14 {color: black;background-color: white;}#sk-container-id-14 pre{padding: 0;}#sk-container-id-14 div.sk-toggleable {background-color: white;}#sk-container-id-14 label.sk-toggleable__label {cursor: pointer;display: block;width: 100%;margin-bottom: 0;padding: 0.3em;box-sizing: border-box;text-align: center;}#sk-container-id-14 label.sk-toggleable__label-arrow:before {content: \"▸\";float: left;margin-right: 0.25em;color: #696969;}#sk-container-id-14 label.sk-toggleable__label-arrow:hover:before {color: black;}#sk-container-id-14 div.sk-estimator:hover label.sk-toggleable__label-arrow:before {color: black;}#sk-container-id-14 div.sk-toggleable__content {max-height: 0;max-width: 0;overflow: hidden;text-align: left;background-color: #f0f8ff;}#sk-container-id-14 div.sk-toggleable__content pre {margin: 0.2em;color: black;border-radius: 0.25em;background-color: #f0f8ff;}#sk-container-id-14 input.sk-toggleable__control:checked~div.sk-toggleable__content {max-height: 200px;max-width: 100%;overflow: auto;}#sk-container-id-14 input.sk-toggleable__control:checked~label.sk-toggleable__label-arrow:before {content: \"▾\";}#sk-container-id-14 div.sk-estimator input.sk-toggleable__control:checked~label.sk-toggleable__label {background-color: #d4ebff;}#sk-container-id-14 div.sk-label input.sk-toggleable__control:checked~label.sk-toggleable__label {background-color: #d4ebff;}#sk-container-id-14 input.sk-hidden--visually {border: 0;clip: rect(1px 1px 1px 1px);clip: rect(1px, 1px, 1px, 1px);height: 1px;margin: -1px;overflow: hidden;padding: 0;position: absolute;width: 1px;}#sk-container-id-14 div.sk-estimator {font-family: monospace;background-color: #f0f8ff;border: 1px dotted black;border-radius: 0.25em;box-sizing: border-box;margin-bottom: 0.5em;}#sk-container-id-14 div.sk-estimator:hover {background-color: #d4ebff;}#sk-container-id-14 div.sk-parallel-item::after {content: \"\";width: 100%;border-bottom: 1px solid gray;flex-grow: 1;}#sk-container-id-14 div.sk-label:hover label.sk-toggleable__label {background-color: #d4ebff;}#sk-container-id-14 div.sk-serial::before {content: \"\";position: absolute;border-left: 1px solid gray;box-sizing: border-box;top: 0;bottom: 0;left: 50%;z-index: 0;}#sk-container-id-14 div.sk-serial {display: flex;flex-direction: column;align-items: center;background-color: white;padding-right: 0.2em;padding-left: 0.2em;position: relative;}#sk-container-id-14 div.sk-item {position: relative;z-index: 1;}#sk-container-id-14 div.sk-parallel {display: flex;align-items: stretch;justify-content: center;background-color: white;position: relative;}#sk-container-id-14 div.sk-item::before, #sk-container-id-14 div.sk-parallel-item::before {content: \"\";position: absolute;border-left: 1px solid gray;box-sizing: border-box;top: 0;bottom: 0;left: 50%;z-index: -1;}#sk-container-id-14 div.sk-parallel-item {display: flex;flex-direction: column;z-index: 1;position: relative;background-color: white;}#sk-container-id-14 div.sk-parallel-item:first-child::after {align-self: flex-end;width: 50%;}#sk-container-id-14 div.sk-parallel-item:last-child::after {align-self: flex-start;width: 50%;}#sk-container-id-14 div.sk-parallel-item:only-child::after {width: 0;}#sk-container-id-14 div.sk-dashed-wrapped {border: 1px dashed gray;margin: 0 0.4em 0.5em 0.4em;box-sizing: border-box;padding-bottom: 0.4em;background-color: white;}#sk-container-id-14 div.sk-label label {font-family: monospace;font-weight: bold;display: inline-block;line-height: 1.2em;}#sk-container-id-14 div.sk-label-container {text-align: center;}#sk-container-id-14 div.sk-container {/* jupyter's `normalize.less` sets `[hidden] { display: none; }` but bootstrap.min.css set `[hidden] { display: none !important; }` so we also need the `!important` here to be able to override the default hidden behavior on the sphinx rendered scikit-learn.org. See: https://github.com/scikit-learn/scikit-learn/issues/21755 */display: inline-block !important;position: relative;}#sk-container-id-14 div.sk-text-repr-fallback {display: none;}</style><div id=\"sk-container-id-14\" class=\"sk-top-container\"><div class=\"sk-text-repr-fallback\"><pre>AdaBoostClassifier(estimator=DecisionTreeClassifier(class_weight=&#x27;balanced&#x27;,\n",
              "                                                    random_state=42),\n",
              "                   n_estimators=100, random_state=42)</pre><b>In a Jupyter environment, please rerun this cell to show the HTML representation or trust the notebook. <br />On GitHub, the HTML representation is unable to render, please try loading this page with nbviewer.org.</b></div><div class=\"sk-container\" hidden><div class=\"sk-item sk-dashed-wrapped\"><div class=\"sk-label-container\"><div class=\"sk-label sk-toggleable\"><input class=\"sk-toggleable__control sk-hidden--visually\" id=\"sk-estimator-id-26\" type=\"checkbox\" ><label for=\"sk-estimator-id-26\" class=\"sk-toggleable__label sk-toggleable__label-arrow\">AdaBoostClassifier</label><div class=\"sk-toggleable__content\"><pre>AdaBoostClassifier(estimator=DecisionTreeClassifier(class_weight=&#x27;balanced&#x27;,\n",
              "                                                    random_state=42),\n",
              "                   n_estimators=100, random_state=42)</pre></div></div></div><div class=\"sk-parallel\"><div class=\"sk-parallel-item\"><div class=\"sk-item\"><div class=\"sk-label-container\"><div class=\"sk-label sk-toggleable\"><input class=\"sk-toggleable__control sk-hidden--visually\" id=\"sk-estimator-id-27\" type=\"checkbox\" ><label for=\"sk-estimator-id-27\" class=\"sk-toggleable__label sk-toggleable__label-arrow\">estimator: DecisionTreeClassifier</label><div class=\"sk-toggleable__content\"><pre>DecisionTreeClassifier(class_weight=&#x27;balanced&#x27;, random_state=42)</pre></div></div></div><div class=\"sk-serial\"><div class=\"sk-item\"><div class=\"sk-estimator sk-toggleable\"><input class=\"sk-toggleable__control sk-hidden--visually\" id=\"sk-estimator-id-28\" type=\"checkbox\" ><label for=\"sk-estimator-id-28\" class=\"sk-toggleable__label sk-toggleable__label-arrow\">DecisionTreeClassifier</label><div class=\"sk-toggleable__content\"><pre>DecisionTreeClassifier(class_weight=&#x27;balanced&#x27;, random_state=42)</pre></div></div></div></div></div></div></div></div></div></div>"
            ]
          },
          "metadata": {},
          "execution_count": 161
        },
        {
          "output_type": "stream",
          "name": "stdout",
          "text": [
            "time: 9.33 s (started: 2023-06-28 21:18:51 +00:00)\n"
          ]
        }
      ],
      "source": [
        "clf = DecisionTreeClassifier(random_state=42, class_weight='balanced')\n",
        "adaClf = AdaBoostClassifier(estimator=clf, n_estimators=100, random_state=42)\n",
        "adaClf.fit(x_train, y_train)"
      ]
    },
    {
      "cell_type": "code",
      "execution_count": null,
      "metadata": {
        "colab": {
          "base_uri": "https://localhost:8080/"
        },
        "id": "SP3gYMpQaUj-",
        "outputId": "8783405c-a97f-49c4-eb9a-d7ac403527eb"
      },
      "outputs": [
        {
          "output_type": "stream",
          "name": "stdout",
          "text": [
            "time: 352 ms (started: 2023-06-28 21:19:01 +00:00)\n"
          ]
        }
      ],
      "source": [
        "y_pred = adaClf.predict(x_test)"
      ]
    },
    {
      "cell_type": "code",
      "execution_count": null,
      "metadata": {
        "colab": {
          "base_uri": "https://localhost:8080/"
        },
        "id": "31vj9g9QaUj-",
        "outputId": "67532a7e-2046-4872-eb48-c1a4abe0a6b3"
      },
      "outputs": [
        {
          "output_type": "stream",
          "name": "stdout",
          "text": [
            "F1 Score Result: 1.0\n",
            "time: 719 ms (started: 2023-06-28 21:19:01 +00:00)\n"
          ]
        }
      ],
      "source": [
        "f1_sc = f1_score(y_test, y_pred, average='micro')\n",
        "print(f'F1 Score Result: {f1_sc}')"
      ]
    },
    {
      "cell_type": "code",
      "execution_count": null,
      "metadata": {
        "colab": {
          "base_uri": "https://localhost:8080/",
          "height": 466
        },
        "id": "cuCMNmo0cYbs",
        "outputId": "d211e22f-d444-44ac-d4d7-8c6c451d51bc"
      },
      "outputs": [
        {
          "output_type": "display_data",
          "data": {
            "text/plain": [
              "<Figure size 640x480 with 2 Axes>"
            ],
            "image/png": "[encoded data removed]"
          },
          "metadata": {}
        },
        {
          "output_type": "stream",
          "name": "stdout",
          "text": [
            "time: 846 ms (started: 2023-06-28 21:19:02 +00:00)\n"
          ]
        }
      ],
      "source": [
        "cm = confusion_matrix(y_test, y_pred, labels=adaClf.classes_)\n",
        "disp = ConfusionMatrixDisplay(confusion_matrix=cm, display_labels=adaClf.classes_)\n",
        "disp.plot()\n",
        "plt.show()"
      ]
    },
    {
      "cell_type": "markdown",
      "metadata": {
        "id": "0NkNfBAEw0U6"
      },
      "source": [
        "## Comparación de algoritmos SVM"
      ]
    },
    {
      "cell_type": "markdown",
      "metadata": {
        "id": "RNv1Q9OcszIQ"
      },
      "source": [
        "El objetivo de esta sección es la comparación de modelos basados en Support Vector Machine, tanto el clásico como el basado en Quantum Support Vector Machine, bajo las mismas condiciones. Ambos utilizarán un conjunto de datos de entrada reducido debido a las limitaciones que tiene el modelo basado en QSVM."
      ]
    },
    {
      "cell_type": "markdown",
      "metadata": {
        "id": "fmDmKJMn5_6Z"
      },
      "source": [
        "En caso de que se quiera ejecutar el QSVM, es necesario muestrear el conjunto de datos para reducir su tamaño. Esto es debido a que, con un conjunto de datos más grande, es necesario utilizar mas cúbits de los que D-Wave nos puede brindar."
      ]
    },
    {
      "cell_type": "code",
      "execution_count": null,
      "metadata": {
        "colab": {
          "base_uri": "https://localhost:8080/"
        },
        "id": "kVbHZnZs7WJw",
        "outputId": "d1ce3ae8-7ad1-434b-869c-5e605248c988"
      },
      "outputs": [
        {
          "output_type": "stream",
          "name": "stdout",
          "text": [
            "time: 187 ms (started: 2023-06-28 21:19:03 +00:00)\n"
          ]
        }
      ],
      "source": [
        "ds = df.sample(n=40, replace=False, random_state=42)"
      ]
    },
    {
      "cell_type": "code",
      "execution_count": null,
      "metadata": {
        "colab": {
          "base_uri": "https://localhost:8080/"
        },
        "id": "tLv_NpmVu5qd",
        "outputId": "1e884d5e-c07c-44ed-fc6f-7d79405ab12a"
      },
      "outputs": [
        {
          "output_type": "stream",
          "name": "stdout",
          "text": [
            "time: 10.8 ms (started: 2023-06-28 21:19:03 +00:00)\n"
          ]
        }
      ],
      "source": [
        "ds = ds.drop(time_column, axis=1)\n",
        "\n",
        "train, test = train_test_split(ds, test_size=0.2, random_state=42)\n",
        "\n",
        "x_train = train[x_columns]\n",
        "y_train = train[y_columns]\n",
        "\n",
        "x_test = test[x_columns]\n",
        "y_test = test[y_columns]"
      ]
    },
    {
      "cell_type": "markdown",
      "metadata": {
        "id": "V9FfWPiwTLbA"
      },
      "source": [
        "### Classic"
      ]
    },
    {
      "cell_type": "code",
      "execution_count": null,
      "metadata": {
        "colab": {
          "base_uri": "https://localhost:8080/"
        },
        "id": "Y3JUiyOyTKw1",
        "outputId": "d97e5378-9b0f-4ebc-d735-a9a5b96248a3"
      },
      "outputs": [
        {
          "output_type": "stream",
          "name": "stdout",
          "text": [
            "time: 21.2 ms (started: 2023-06-28 21:19:03 +00:00)\n"
          ]
        }
      ],
      "source": [
        "%%capture\n",
        "svmClf = svm.SVC(kernel='linear', max_iter=100, class_weight='balanced')\n",
        "svmClf.fit(x_train, y_train)"
      ]
    },
    {
      "cell_type": "code",
      "execution_count": null,
      "metadata": {
        "colab": {
          "base_uri": "https://localhost:8080/"
        },
        "id": "-valS6H2TKw9",
        "outputId": "67cd699f-ccf7-4d95-a8ce-e4e3ced11225"
      },
      "outputs": [
        {
          "output_type": "stream",
          "name": "stdout",
          "text": [
            "time: 4.04 ms (started: 2023-06-28 21:19:03 +00:00)\n"
          ]
        }
      ],
      "source": [
        "y_pred = svmClf.predict(x_test)"
      ]
    },
    {
      "cell_type": "code",
      "execution_count": null,
      "metadata": {
        "colab": {
          "base_uri": "https://localhost:8080/"
        },
        "id": "FH-EFW3zTKw9",
        "outputId": "4e4f0892-c96b-421e-ca15-3fd1b6821c22"
      },
      "outputs": [
        {
          "output_type": "stream",
          "name": "stdout",
          "text": [
            "F1 Score Result: 1.0\n",
            "time: 24.4 ms (started: 2023-06-28 21:19:03 +00:00)\n"
          ]
        }
      ],
      "source": [
        "f1_sc = f1_score(y_test, y_pred, average='micro')\n",
        "print(f'F1 Score Result: {f1_sc}')"
      ]
    },
    {
      "cell_type": "code",
      "execution_count": null,
      "metadata": {
        "colab": {
          "base_uri": "https://localhost:8080/",
          "height": 472
        },
        "id": "0AZcztpAce3U",
        "outputId": "9587a2e2-048f-4301-cb77-3f291c454726"
      },
      "outputs": [
        {
          "output_type": "display_data",
          "data": {
            "text/plain": [
              "<Figure size 640x480 with 2 Axes>"
            ],
            "image/png": "[encoded data removed]"
          },
          "metadata": {}
        },
        {
          "output_type": "stream",
          "name": "stdout",
          "text": [
            "time: 855 ms (started: 2023-06-28 21:19:03 +00:00)\n"
          ]
        }
      ],
      "source": [
        "cm = confusion_matrix(y_test, y_pred, labels=adaClf.classes_)\n",
        "disp = ConfusionMatrixDisplay(confusion_matrix=cm, display_labels=adaClf.classes_)\n",
        "disp.plot()\n",
        "plt.show()"
      ]
    },
    {
      "cell_type": "markdown",
      "metadata": {
        "id": "10GcD-TQ33T0"
      },
      "source": [
        "### Adiabatic (QSVM)"
      ]
    },
    {
      "cell_type": "markdown",
      "metadata": {
        "id": "pvfPhwxZ7Fs1"
      },
      "source": [
        "Es necesario realizar una serie de transformaciones a los conjuntos de entrenamiento y de prueba para poder utilizarlos en un modelo QSVM."
      ]
    },
    {
      "cell_type": "code",
      "execution_count": null,
      "metadata": {
        "colab": {
          "base_uri": "https://localhost:8080/"
        },
        "id": "RdTfs0Y-DxVO",
        "outputId": "2e5f28c3-d4aa-4690-ec7b-9708eacac97c"
      },
      "outputs": [
        {
          "output_type": "stream",
          "name": "stdout",
          "text": [
            "time: 13.6 ms (started: 2023-06-28 21:19:04 +00:00)\n"
          ]
        },
        {
          "output_type": "stream",
          "name": "stderr",
          "text": [
            "<ipython-input-171-3e0a7d7ff7f9>:5: SettingWithCopyWarning: \n",
            "A value is trying to be set on a copy of a slice from a DataFrame.\n",
            "Try using .loc[row_indexer,col_indexer] = value instead\n",
            "\n",
            "See the caveats in the documentation: https://pandas.pydata.org/pandas-docs/stable/user_guide/indexing.html#returning-a-view-versus-a-copy\n",
            "  y_train['Etiqueta'] = y_train['Etiqueta'].apply(lambda cell : -1 if cell == 0 else 1)\n",
            "<ipython-input-171-3e0a7d7ff7f9>:10: SettingWithCopyWarning: \n",
            "A value is trying to be set on a copy of a slice from a DataFrame.\n",
            "Try using .loc[row_indexer,col_indexer] = value instead\n",
            "\n",
            "See the caveats in the documentation: https://pandas.pydata.org/pandas-docs/stable/user_guide/indexing.html#returning-a-view-versus-a-copy\n",
            "  y_test['Etiqueta'] = y_test['Etiqueta'].apply(lambda cell : -1 if cell == 0 else 1)\n"
          ]
        }
      ],
      "source": [
        "train, test = train_test_split(ds, test_size=0.2, random_state=42)\n",
        "\n",
        "x_train = preprocessing.scale(train[x_columns].to_numpy())\n",
        "y_train = train[y_columns]\n",
        "y_train['Etiqueta'] = y_train['Etiqueta'].apply(lambda cell : -1 if cell == 0 else 1)\n",
        "y_train = y_train.to_numpy()\n",
        "\n",
        "x_test = preprocessing.scale(test[x_columns].to_numpy())\n",
        "y_test = test[y_columns]\n",
        "y_test['Etiqueta'] = y_test['Etiqueta'].apply(lambda cell : -1 if cell == 0 else 1)\n",
        "y_test = y_test.to_numpy()"
      ]
    },
    {
      "cell_type": "markdown",
      "metadata": {
        "id": "CkX9gP0y7Qjk"
      },
      "source": [
        "Estas funciones son las que vamos a utilizar para construir nuestro modelo QSVM."
      ]
    },
    {
      "cell_type": "code",
      "execution_count": null,
      "metadata": {
        "colab": {
          "base_uri": "https://localhost:8080/"
        },
        "id": "OvwyBPAw8ZLX",
        "outputId": "8b56c5a2-b3bd-4b4e-f1fc-0767e91c1ec1"
      },
      "outputs": [
        {
          "output_type": "stream",
          "name": "stdout",
          "text": [
            "time: 7.11 ms (started: 2023-06-28 21:19:04 +00:00)\n"
          ]
        }
      ],
      "source": [
        "def kernel(xn, xm, gamma=-1):\n",
        "    if gamma == -1:\n",
        "        return xn @ xm.T\n",
        "    xn = np.atleast_2d(xn)\n",
        "    xm = np.atleast_2d(xm)\n",
        "    return np.exp(-gamma * np.sum((xn[:,None] - xm[None,:])**2, axis=-1))\n",
        "\n",
        "def gen_svm_qubos(B,K,xi,gamma, train, labels):\n",
        "    N = len(train)\n",
        "\n",
        "    Q = np.zeros((K*N,K*N))\n",
        "    print(f'Creating the QUBO of size {Q.shape}')\n",
        "    for n in range(N):\n",
        "        for m in range(N):\n",
        "            for k in range(K):\n",
        "                for j in range(K):\n",
        "                    Q[K*n+k,K*m+j] = .5 * B**(k+j) * labels[n] * labels[m] * (kernel(train[n], train[m], gamma) + xi)\n",
        "                    if n == m and k == j:\n",
        "                        Q[K*n+k,K*m+j] += - B**k\n",
        "\n",
        "    Q = np.triu(Q) + np.tril(Q,-1).T # turn the symmetric matrix into upper triangular\n",
        "\n",
        "    return Q"
      ]
    },
    {
      "cell_type": "code",
      "execution_count": null,
      "metadata": {
        "colab": {
          "base_uri": "https://localhost:8080/"
        },
        "id": "bU-r2NqM_CBl",
        "outputId": "e57df806-87b9-4656-adc5-8267ee023735"
      },
      "outputs": [
        {
          "output_type": "stream",
          "name": "stdout",
          "text": [
            "time: 836 µs (started: 2023-06-28 21:19:04 +00:00)\n"
          ]
        }
      ],
      "source": [
        "def train_qsvm(B, K, xi, gamma):\n",
        "  Q = gen_svm_qubos(B, K, xi, gamma, x_train, y_train)\n",
        "\n",
        "  sampler = EmbeddingComposite(DWaveSampler(token=token, endpoint=endpoint))\n",
        "  response = sampler.sample_qubo(Q, label='QBoost')\n",
        "\n",
        "  return response"
      ]
    },
    {
      "cell_type": "code",
      "execution_count": null,
      "metadata": {
        "colab": {
          "base_uri": "https://localhost:8080/"
        },
        "id": "DBjpKea2LmTJ",
        "outputId": "c7fec891-407f-44dd-d1e8-daf2b675824d"
      },
      "outputs": [
        {
          "output_type": "stream",
          "name": "stdout",
          "text": [
            "time: 1.42 ms (started: 2023-06-28 21:19:04 +00:00)\n"
          ]
        }
      ],
      "source": [
        "def predict(B, K, xi, gamma, alphas, data, label, datatest):\n",
        "\n",
        "    C=(B**np.arange(K)).sum()\n",
        "\n",
        "    b = calculate_bias(alphas, data, label, gamma, C)\n",
        "\n",
        "    scoretest = distance_to_hyperplane(datatest, alphas, data, label, gamma, b)\n",
        "\n",
        "    return scoretest\n",
        "\n",
        "def distance_to_hyperplane(x, alphas, data, label, gamma, b=0): # evaluates the distance to the hyper plane according to 16.5.32 on p. 891 (Numerical Recipes); sign is the assigned class; x.shape = ...xD\n",
        "    return np.sum((alphas * label)[:,None] * kernel(data, x, gamma), axis=0) + b\n",
        "\n",
        "def calculate_bias(alphas, data, label, gamma, C): # evaluates offset b according to 16.5.33\n",
        "    cross = distance_to_hyperplane(data, alphas, data, label, gamma)\n",
        "    return np.sum(alphas * (C-alphas) * (label - cross)) / np.sum(alphas * (C-alphas))\n"
      ]
    },
    {
      "cell_type": "code",
      "execution_count": null,
      "metadata": {
        "colab": {
          "base_uri": "https://localhost:8080/"
        },
        "id": "S1tcRUpwLlrd",
        "outputId": "894e8e72-90d0-46ff-83f1-d5f60e212bd8"
      },
      "outputs": [
        {
          "output_type": "stream",
          "name": "stdout",
          "text": [
            "time: 4.67 ms (started: 2023-06-28 21:19:04 +00:00)\n"
          ]
        }
      ],
      "source": [
        "def decode(binary, B=2, K=3):\n",
        "  N = len(binary) // K\n",
        "  Bvec = B ** np.arange(K)\n",
        "  return np.fromiter(binary,float).reshape(N,K) @ Bvec\n",
        "\n",
        "def predict_score_qsvm(B, K, xi, gamma, data, label, x_test, response):\n",
        "  samples = np.array([''.join(map(str,sample)) for sample in response.record['sample']])\n",
        "  unique_samples, unique_idx, unique_counts = np.unique(samples, return_index=True, return_counts=True)\n",
        "  unique_records = response.record[unique_idx]\n",
        "  result = rfn.merge_arrays((unique_samples, unique_records['energy'], unique_counts, unique_records['chain_break_fraction']))\n",
        "  result = result[np.argsort(result['f1'])]\n",
        "  MAXRESULTS = 20\n",
        "\n",
        "  alphas = np.array([decode(sample,B,K) for sample in result['f0'][:MAXRESULTS]])\n",
        "  alphas = alphas.reshape(len(alphas[0]), 1)\n",
        "  scores = predict(B, K, xi, gamma, alphas, data, label, x_test)\n",
        "\n",
        "  return scores"
      ]
    },
    {
      "cell_type": "code",
      "execution_count": null,
      "metadata": {
        "colab": {
          "base_uri": "https://localhost:8080/"
        },
        "id": "EO7FYAIsW0Pz",
        "outputId": "9f808a60-1fcb-4af4-a46f-ff68de38e739"
      },
      "outputs": [
        {
          "output_type": "stream",
          "name": "stdout",
          "text": [
            "time: 2.03 ms (started: 2023-06-28 21:19:04 +00:00)\n"
          ]
        }
      ],
      "source": [
        "def predict_labels_qsvm(scores):\n",
        "  avg_scores=np.zeros((scores[0].shape[0]))\n",
        "  Y_predicted=np.zeros((scores[0].shape[0]),int)\n",
        "\n",
        "  for i in range(0,scores[0].shape[0]):\n",
        "      tmp=0\n",
        "      for y in range(0,1):\n",
        "          tmp=tmp+scores[y][i]\n",
        "      avg_scores[i]=tmp/1\n",
        "\n",
        "  for i in range(0,scores[0].shape[0]):\n",
        "      if(avg_scores[i]<0):\n",
        "          Y_predicted[i]=-1\n",
        "      else:\n",
        "          Y_predicted[i]=1\n",
        "\n",
        "\n",
        "  return Y_predicted\n",
        "\n",
        "def f1_score_qsvm(y_pred, y_test):\n",
        "  tp = 0\n",
        "  fn = 0\n",
        "  fp = 0\n",
        "\n",
        "  for i in range(len(y_pred)):\n",
        "    if(y_pred[i] == y_test[i] and y_pred[i] == 1):\n",
        "      tp += 1\n",
        "    elif(y_pred[i] == 1 and y_test[i] == -1):\n",
        "      fp += 1\n",
        "    elif(y_pred[i] == -1 and y_test[i] == 1):\n",
        "      fn += 1\n",
        "\n",
        "  if tp + fn == 0 or tp + fp == 0:\n",
        "    return 0\n",
        "\n",
        "  recall = tp / (tp + fn)\n",
        "  precision = tp / (tp + fp)\n",
        "  f1_score = 2 * precision * recall / (precision + recall)\n",
        "\n",
        "  return f1_score"
      ]
    },
    {
      "cell_type": "markdown",
      "metadata": {
        "id": "Awyleqrr7atm"
      },
      "source": [
        "Vamos a utilizar estos parámetros recomendados por D-Wave para esta primera iteración."
      ]
    },
    {
      "cell_type": "code",
      "execution_count": null,
      "metadata": {
        "colab": {
          "base_uri": "https://localhost:8080/"
        },
        "id": "f_V6opxmu1ia",
        "outputId": "7e7b8f60-1cd7-4a1f-eeb4-13d109c33160"
      },
      "outputs": [
        {
          "output_type": "stream",
          "name": "stdout",
          "text": [
            "time: 1.1 ms (started: 2023-06-28 21:19:04 +00:00)\n"
          ]
        }
      ],
      "source": [
        "B = 2\n",
        "K = 2\n",
        "xi = 0\n",
        "gamma = -1"
      ]
    },
    {
      "cell_type": "code",
      "execution_count": null,
      "metadata": {
        "colab": {
          "base_uri": "https://localhost:8080/"
        },
        "id": "hbkXm4CVcmFa",
        "outputId": "dc8080d2-46fa-43b2-8ec6-be63622269c4"
      },
      "outputs": [
        {
          "output_type": "stream",
          "name": "stdout",
          "text": [
            "Creating the QUBO of size (64, 64)\n",
            "time: 42.2 s (started: 2023-06-28 21:19:04 +00:00)\n"
          ]
        }
      ],
      "source": [
        "response = train_qsvm(B, K, xi, gamma)"
      ]
    },
    {
      "cell_type": "code",
      "execution_count": null,
      "metadata": {
        "id": "8SXHKkqqGObE",
        "colab": {
          "base_uri": "https://localhost:8080/"
        },
        "outputId": "677e4402-e9e5-4dc0-8cd6-14ee2b11c36e"
      },
      "outputs": [
        {
          "output_type": "stream",
          "name": "stdout",
          "text": [
            "time: 1.93 s (started: 2023-06-28 21:19:46 +00:00)\n"
          ]
        }
      ],
      "source": [
        "scores = predict_score_qsvm(B, K, xi, gamma, x_train, y_train, x_test, response)\n",
        "y_pred = predict_labels_qsvm(scores)"
      ]
    },
    {
      "cell_type": "code",
      "execution_count": null,
      "metadata": {
        "id": "gIoVaKnvc-1v",
        "colab": {
          "base_uri": "https://localhost:8080/"
        },
        "outputId": "7dec7bd9-97cc-48c1-dd2f-9727a624d9b6"
      },
      "outputs": [
        {
          "output_type": "stream",
          "name": "stdout",
          "text": [
            "[-1  1 -1  1 -1  1  1 -1]\n",
            "[ 1  1  1  1  1  1 -1  1]\n",
            "0.5454545454545454\n",
            "time: 6.68 ms (started: 2023-06-28 21:19:48 +00:00)\n"
          ]
        }
      ],
      "source": [
        "print(y_pred)\n",
        "test_labels = y_test.reshape(1, len(y_test))[0]\n",
        "print(test_labels)\n",
        "print(f1_score_qsvm(y_pred, test_labels))"
      ]
    },
    {
      "cell_type": "code",
      "execution_count": null,
      "metadata": {
        "id": "Li-q5ieVdUi4",
        "colab": {
          "base_uri": "https://localhost:8080/",
          "height": 472
        },
        "outputId": "ec267740-99d4-4e7b-d49b-a515feac678b"
      },
      "outputs": [
        {
          "output_type": "display_data",
          "data": {
            "text/plain": [
              "<Figure size 640x480 with 2 Axes>"
            ],
            "image/png": "[encoded data removed]"
          },
          "metadata": {}
        },
        {
          "output_type": "stream",
          "name": "stdout",
          "text": [
            "time: 394 ms (started: 2023-06-28 21:19:48 +00:00)\n"
          ]
        }
      ],
      "source": [
        "cm = confusion_matrix(y_test, y_pred)\n",
        "disp = ConfusionMatrixDisplay(confusion_matrix=cm, display_labels={-1, 1})\n",
        "disp.plot()\n",
        "plt.show()"
      ]
    },
    {
      "cell_type": "markdown",
      "metadata": {
        "id": "9KNTo8dW2iwz"
      },
      "source": [
        "## Comparación de algoritmos AdaBoost"
      ]
    },
    {
      "cell_type": "markdown",
      "metadata": {
        "id": "X4X7EQgmtK8l"
      },
      "source": [
        "El objetivo de esta sección es la comparación de modelos basados en Gradient Boosting, tanto Adaptive Boosting clásico como Quantum Boosting, bajo las mismas condiciones. Ambos utilizarán un conjunto de datos de entrada reducido debido a las limitaciones que tiene el modelo basado en QBoost."
      ]
    },
    {
      "cell_type": "markdown",
      "metadata": {
        "id": "MOkC1wdT_eYa"
      },
      "source": [
        "En caso de que se quiera ejecutar el QBoost, es necesario muestrear el conjunto de datos para reducir su tamaño. Esto es debido a que es necesaria una gran cantidad de almacenamiento si queremos utilizar conjuntos más grandes."
      ]
    },
    {
      "cell_type": "code",
      "execution_count": null,
      "metadata": {
        "id": "-SfuaJvQ_Vkg",
        "colab": {
          "base_uri": "https://localhost:8080/"
        },
        "outputId": "7d3a1640-36f7-4271-ce73-20baa8054b48"
      },
      "outputs": [
        {
          "output_type": "stream",
          "name": "stdout",
          "text": [
            "time: 212 ms (started: 2023-06-28 21:19:49 +00:00)\n"
          ]
        }
      ],
      "source": [
        "ds = df.sample(n=10000, replace=False, random_state=42)"
      ]
    },
    {
      "cell_type": "code",
      "execution_count": null,
      "metadata": {
        "id": "iqSbahB8_Vkp",
        "colab": {
          "base_uri": "https://localhost:8080/"
        },
        "outputId": "5fa7cc6b-6d2f-44a9-a4a5-78d5820caeaf"
      },
      "outputs": [
        {
          "output_type": "stream",
          "name": "stdout",
          "text": [
            "time: 19 ms (started: 2023-06-28 21:19:49 +00:00)\n"
          ]
        }
      ],
      "source": [
        "%%capture\n",
        "ds = ds.drop(time_column, axis=1)\n",
        "\n",
        "train, test = train_test_split(ds, test_size=0.2, random_state=42)\n",
        "\n",
        "x_train = train[x_columns]\n",
        "y_train = train[y_columns]\n",
        "\n",
        "x_test = test[x_columns]\n",
        "y_test = test[y_columns]"
      ]
    },
    {
      "cell_type": "markdown",
      "metadata": {
        "id": "67ZHfwzl2k4F"
      },
      "source": [
        "### Classic"
      ]
    },
    {
      "cell_type": "code",
      "execution_count": null,
      "metadata": {
        "id": "7zb_uIYa2mYF",
        "colab": {
          "base_uri": "https://localhost:8080/",
          "height": 190
        },
        "outputId": "fc5f421e-3037-4caf-8fbb-3b4e348c12a8"
      },
      "outputs": [
        {
          "output_type": "stream",
          "name": "stderr",
          "text": [
            "/usr/local/lib/python3.10/dist-packages/sklearn/utils/validation.py:1143: DataConversionWarning: A column-vector y was passed when a 1d array was expected. Please change the shape of y to (n_samples, ), for example using ravel().\n",
            "  y = column_or_1d(y, warn=True)\n"
          ]
        },
        {
          "output_type": "execute_result",
          "data": {
            "text/plain": [
              "AdaBoostClassifier(estimator=DecisionTreeClassifier(class_weight='balanced',\n",
              "                                                    random_state=42),\n",
              "                   n_estimators=100, random_state=42)"
            ],
            "text/html": [
              "<style>#sk-container-id-16 {color: black;background-color: white;}#sk-container-id-16 pre{padding: 0;}#sk-container-id-16 div.sk-toggleable {background-color: white;}#sk-container-id-16 label.sk-toggleable__label {cursor: pointer;display: block;width: 100%;margin-bottom: 0;padding: 0.3em;box-sizing: border-box;text-align: center;}#sk-container-id-16 label.sk-toggleable__label-arrow:before {content: \"▸\";float: left;margin-right: 0.25em;color: #696969;}#sk-container-id-16 label.sk-toggleable__label-arrow:hover:before {color: black;}#sk-container-id-16 div.sk-estimator:hover label.sk-toggleable__label-arrow:before {color: black;}#sk-container-id-16 div.sk-toggleable__content {max-height: 0;max-width: 0;overflow: hidden;text-align: left;background-color: #f0f8ff;}#sk-container-id-16 div.sk-toggleable__content pre {margin: 0.2em;color: black;border-radius: 0.25em;background-color: #f0f8ff;}#sk-container-id-16 input.sk-toggleable__control:checked~div.sk-toggleable__content {max-height: 200px;max-width: 100%;overflow: auto;}#sk-container-id-16 input.sk-toggleable__control:checked~label.sk-toggleable__label-arrow:before {content: \"▾\";}#sk-container-id-16 div.sk-estimator input.sk-toggleable__control:checked~label.sk-toggleable__label {background-color: #d4ebff;}#sk-container-id-16 div.sk-label input.sk-toggleable__control:checked~label.sk-toggleable__label {background-color: #d4ebff;}#sk-container-id-16 input.sk-hidden--visually {border: 0;clip: rect(1px 1px 1px 1px);clip: rect(1px, 1px, 1px, 1px);height: 1px;margin: -1px;overflow: hidden;padding: 0;position: absolute;width: 1px;}#sk-container-id-16 div.sk-estimator {font-family: monospace;background-color: #f0f8ff;border: 1px dotted black;border-radius: 0.25em;box-sizing: border-box;margin-bottom: 0.5em;}#sk-container-id-16 div.sk-estimator:hover {background-color: #d4ebff;}#sk-container-id-16 div.sk-parallel-item::after {content: \"\";width: 100%;border-bottom: 1px solid gray;flex-grow: 1;}#sk-container-id-16 div.sk-label:hover label.sk-toggleable__label {background-color: #d4ebff;}#sk-container-id-16 div.sk-serial::before {content: \"\";position: absolute;border-left: 1px solid gray;box-sizing: border-box;top: 0;bottom: 0;left: 50%;z-index: 0;}#sk-container-id-16 div.sk-serial {display: flex;flex-direction: column;align-items: center;background-color: white;padding-right: 0.2em;padding-left: 0.2em;position: relative;}#sk-container-id-16 div.sk-item {position: relative;z-index: 1;}#sk-container-id-16 div.sk-parallel {display: flex;align-items: stretch;justify-content: center;background-color: white;position: relative;}#sk-container-id-16 div.sk-item::before, #sk-container-id-16 div.sk-parallel-item::before {content: \"\";position: absolute;border-left: 1px solid gray;box-sizing: border-box;top: 0;bottom: 0;left: 50%;z-index: -1;}#sk-container-id-16 div.sk-parallel-item {display: flex;flex-direction: column;z-index: 1;position: relative;background-color: white;}#sk-container-id-16 div.sk-parallel-item:first-child::after {align-self: flex-end;width: 50%;}#sk-container-id-16 div.sk-parallel-item:last-child::after {align-self: flex-start;width: 50%;}#sk-container-id-16 div.sk-parallel-item:only-child::after {width: 0;}#sk-container-id-16 div.sk-dashed-wrapped {border: 1px dashed gray;margin: 0 0.4em 0.5em 0.4em;box-sizing: border-box;padding-bottom: 0.4em;background-color: white;}#sk-container-id-16 div.sk-label label {font-family: monospace;font-weight: bold;display: inline-block;line-height: 1.2em;}#sk-container-id-16 div.sk-label-container {text-align: center;}#sk-container-id-16 div.sk-container {/* jupyter's `normalize.less` sets `[hidden] { display: none; }` but bootstrap.min.css set `[hidden] { display: none !important; }` so we also need the `!important` here to be able to override the default hidden behavior on the sphinx rendered scikit-learn.org. See: https://github.com/scikit-learn/scikit-learn/issues/21755 */display: inline-block !important;position: relative;}#sk-container-id-16 div.sk-text-repr-fallback {display: none;}</style><div id=\"sk-container-id-16\" class=\"sk-top-container\"><div class=\"sk-text-repr-fallback\"><pre>AdaBoostClassifier(estimator=DecisionTreeClassifier(class_weight=&#x27;balanced&#x27;,\n",
              "                                                    random_state=42),\n",
              "                   n_estimators=100, random_state=42)</pre><b>In a Jupyter environment, please rerun this cell to show the HTML representation or trust the notebook. <br />On GitHub, the HTML representation is unable to render, please try loading this page with nbviewer.org.</b></div><div class=\"sk-container\" hidden><div class=\"sk-item sk-dashed-wrapped\"><div class=\"sk-label-container\"><div class=\"sk-label sk-toggleable\"><input class=\"sk-toggleable__control sk-hidden--visually\" id=\"sk-estimator-id-30\" type=\"checkbox\" ><label for=\"sk-estimator-id-30\" class=\"sk-toggleable__label sk-toggleable__label-arrow\">AdaBoostClassifier</label><div class=\"sk-toggleable__content\"><pre>AdaBoostClassifier(estimator=DecisionTreeClassifier(class_weight=&#x27;balanced&#x27;,\n",
              "                                                    random_state=42),\n",
              "                   n_estimators=100, random_state=42)</pre></div></div></div><div class=\"sk-parallel\"><div class=\"sk-parallel-item\"><div class=\"sk-item\"><div class=\"sk-label-container\"><div class=\"sk-label sk-toggleable\"><input class=\"sk-toggleable__control sk-hidden--visually\" id=\"sk-estimator-id-31\" type=\"checkbox\" ><label for=\"sk-estimator-id-31\" class=\"sk-toggleable__label sk-toggleable__label-arrow\">estimator: DecisionTreeClassifier</label><div class=\"sk-toggleable__content\"><pre>DecisionTreeClassifier(class_weight=&#x27;balanced&#x27;, random_state=42)</pre></div></div></div><div class=\"sk-serial\"><div class=\"sk-item\"><div class=\"sk-estimator sk-toggleable\"><input class=\"sk-toggleable__control sk-hidden--visually\" id=\"sk-estimator-id-32\" type=\"checkbox\" ><label for=\"sk-estimator-id-32\" class=\"sk-toggleable__label sk-toggleable__label-arrow\">DecisionTreeClassifier</label><div class=\"sk-toggleable__content\"><pre>DecisionTreeClassifier(class_weight=&#x27;balanced&#x27;, random_state=42)</pre></div></div></div></div></div></div></div></div></div></div>"
            ]
          },
          "metadata": {},
          "execution_count": 184
        },
        {
          "output_type": "stream",
          "name": "stdout",
          "text": [
            "time: 44.6 ms (started: 2023-06-28 21:19:49 +00:00)\n"
          ]
        }
      ],
      "source": [
        "clf = DecisionTreeClassifier(random_state=42, class_weight='balanced')\n",
        "adaClf = AdaBoostClassifier(estimator=clf, n_estimators=100, random_state=42)\n",
        "adaClf.fit(x_train, y_train)"
      ]
    },
    {
      "cell_type": "code",
      "execution_count": null,
      "metadata": {
        "id": "yB7wXjULiKsI",
        "colab": {
          "base_uri": "https://localhost:8080/"
        },
        "outputId": "3c3f3006-e43e-48cf-f74f-4b7a0aba3b27"
      },
      "outputs": [
        {
          "output_type": "stream",
          "name": "stdout",
          "text": [
            "time: 8.18 ms (started: 2023-06-28 21:19:49 +00:00)\n"
          ]
        }
      ],
      "source": [
        "y_pred = adaClf.predict(x_test)"
      ]
    },
    {
      "cell_type": "code",
      "execution_count": null,
      "metadata": {
        "id": "6BzwWfwR231s",
        "colab": {
          "base_uri": "https://localhost:8080/"
        },
        "outputId": "ec466a9b-4d0d-4910-8de2-109883dfda95"
      },
      "outputs": [
        {
          "output_type": "stream",
          "name": "stdout",
          "text": [
            "F1 Score Result: 0.9995\n",
            "time: 24.8 ms (started: 2023-06-28 21:19:49 +00:00)\n"
          ]
        }
      ],
      "source": [
        "f1_sc = f1_score(y_test, y_pred, average='micro')\n",
        "print(f'F1 Score Result: {f1_sc}')"
      ]
    },
    {
      "cell_type": "code",
      "execution_count": null,
      "metadata": {
        "id": "E9a9u5Cv25k1",
        "colab": {
          "base_uri": "https://localhost:8080/"
        },
        "outputId": "13f2465e-075f-4939-8e73-b7975cad6633"
      },
      "outputs": [
        {
          "output_type": "stream",
          "name": "stdout",
          "text": [
            "[[ 586    0]\n",
            " [   1 1413]]\n",
            "time: 10.2 ms (started: 2023-06-28 21:19:49 +00:00)\n"
          ]
        }
      ],
      "source": [
        "print(confusion_matrix(y_test, y_pred, labels=adaClf.classes_))"
      ]
    },
    {
      "cell_type": "code",
      "execution_count": null,
      "metadata": {
        "id": "vVP5NnB-clYh",
        "colab": {
          "base_uri": "https://localhost:8080/",
          "height": 468
        },
        "outputId": "3304a935-0d1a-45c5-922a-8695233aaff9"
      },
      "outputs": [
        {
          "output_type": "display_data",
          "data": {
            "text/plain": [
              "<Figure size 640x480 with 2 Axes>"
            ],
            "image/png": "[encoded data removed]"
          },
          "metadata": {}
        },
        {
          "output_type": "stream",
          "name": "stdout",
          "text": [
            "time: 404 ms (started: 2023-06-28 21:19:49 +00:00)\n"
          ]
        }
      ],
      "source": [
        "cm = confusion_matrix(y_test, y_pred, labels=adaClf.classes_)\n",
        "disp = ConfusionMatrixDisplay(confusion_matrix=cm, display_labels=adaClf.classes_)\n",
        "disp.plot()\n",
        "plt.show()"
      ]
    },
    {
      "cell_type": "markdown",
      "metadata": {
        "id": "noYlfRueQweR"
      },
      "source": [
        "### Adiabatic (QBoost)"
      ]
    },
    {
      "cell_type": "markdown",
      "metadata": {
        "id": "PEM_ssPX7j15"
      },
      "source": [
        "Es necesario realizar una serie de transformaciones a los conjuntos de entrenamiento y de prueba para poder utilizarlos en un modelo QBoost."
      ]
    },
    {
      "cell_type": "code",
      "execution_count": null,
      "metadata": {
        "id": "J54p8wOHZWn8",
        "colab": {
          "base_uri": "https://localhost:8080/"
        },
        "outputId": "e7bb4c1e-84d4-4a1a-b036-98fe4206fa97"
      },
      "outputs": [
        {
          "output_type": "stream",
          "name": "stdout",
          "text": [
            "time: 17.3 ms (started: 2023-06-28 21:19:49 +00:00)\n"
          ]
        },
        {
          "output_type": "stream",
          "name": "stderr",
          "text": [
            "<ipython-input-189-372b33ff9e50>:1: SettingWithCopyWarning: \n",
            "A value is trying to be set on a copy of a slice from a DataFrame.\n",
            "Try using .loc[row_indexer,col_indexer] = value instead\n",
            "\n",
            "See the caveats in the documentation: https://pandas.pydata.org/pandas-docs/stable/user_guide/indexing.html#returning-a-view-versus-a-copy\n",
            "  y_train['Etiqueta'] = y_train['Etiqueta'].apply(lambda cell : -1 if cell == 0 else 1)\n",
            "<ipython-input-189-372b33ff9e50>:5: SettingWithCopyWarning: \n",
            "A value is trying to be set on a copy of a slice from a DataFrame.\n",
            "Try using .loc[row_indexer,col_indexer] = value instead\n",
            "\n",
            "See the caveats in the documentation: https://pandas.pydata.org/pandas-docs/stable/user_guide/indexing.html#returning-a-view-versus-a-copy\n",
            "  y_test['Etiqueta'] = y_test['Etiqueta'].apply(lambda cell : -1 if cell == 0 else 1)\n"
          ]
        }
      ],
      "source": [
        "y_train['Etiqueta'] = y_train['Etiqueta'].apply(lambda cell : -1 if cell == 0 else 1)\n",
        "y_train = y_train.to_numpy()\n",
        "x_train = x_train.to_numpy()\n",
        "\n",
        "y_test['Etiqueta'] = y_test['Etiqueta'].apply(lambda cell : -1 if cell == 0 else 1)\n",
        "y_test = y_test.to_numpy()\n",
        "x_test = x_test.to_numpy()"
      ]
    },
    {
      "cell_type": "markdown",
      "metadata": {
        "id": "eNMNNdrs7nCa"
      },
      "source": [
        "Estas funciones son las que vamos a utilizar para construir nuestro modelo QBoost."
      ]
    },
    {
      "cell_type": "code",
      "execution_count": null,
      "metadata": {
        "id": "RnQiyrevQ0Pv",
        "colab": {
          "base_uri": "https://localhost:8080/"
        },
        "outputId": "2c854d60-b73c-4567-e83b-c259dbe58668"
      },
      "outputs": [
        {
          "output_type": "stream",
          "name": "stdout",
          "text": [
            "time: 8.29 ms (started: 2023-06-28 21:19:49 +00:00)\n"
          ]
        }
      ],
      "source": [
        "class DecisionStumpClassifier:\n",
        "    \"\"\"Decision tree classifier that operates on a single feature with a single splitting rule.\n",
        "\n",
        "    The index of the feature used in the decision rule is stored\n",
        "    relative to the original data frame.\n",
        "    \"\"\"\n",
        "\n",
        "    def __init__(self, X, y, feature_index):\n",
        "        \"\"\"Initialize and fit the classifier.\n",
        "\n",
        "        Args:\n",
        "            X (array):\n",
        "                2D array of feature vectors.  Note that the array\n",
        "                contains all features, while the weak classifier\n",
        "                itself uses only a single feature.\n",
        "            y (array):\n",
        "                1D array of class labels, as ints.  Labels should be\n",
        "                +/- 1.\n",
        "            feature_index (int):\n",
        "                Index for the feature used by the weak classifier,\n",
        "                relative to the overall data frame.\n",
        "        \"\"\"\n",
        "        self.i = feature_index\n",
        "\n",
        "        self.clf = DecisionTreeClassifier(max_depth=1)\n",
        "        self.clf.fit(X[:, [feature_index]], y)\n",
        "\n",
        "    def predict(self, X):\n",
        "        \"\"\"Predict class.\n",
        "\n",
        "        Args:\n",
        "            X (array):\n",
        "                2D array of feature vectors.  Note that the array\n",
        "                contains all features, while the weak classifier\n",
        "                itself will make a prediction based only a single\n",
        "                feature.\n",
        "\n",
        "        Returns:\n",
        "            Array of class labels.\n",
        "        \"\"\"\n",
        "        return self.clf.predict(X[:, [self.i]])\n",
        "\n",
        "class EnsembleClassifier:\n",
        "    \"\"\"Ensemble of weak classifiers.\"\"\"\n",
        "\n",
        "    def __init__(self, weak_classifiers, weights, weak_classifier_scaling, offset=1e-9):\n",
        "        \"\"\"Initialize ensemble from list of weak classifiers and weights.\n",
        "\n",
        "        Args:\n",
        "            weak_classifiers (list):\n",
        "                List of classifier instances.\n",
        "            weights (array):\n",
        "                Weights associated with the weak classifiers.\n",
        "            weak_classifier_scaling (float):\n",
        "                Scaling for weak classifier outputs.\n",
        "            offset (float):\n",
        "                Offset value for ensemble classifier.  The default\n",
        "                value is a small positive number used to prevent\n",
        "                ambiguous 0 predictions when weak classifiers exactly\n",
        "                balance each other out.\n",
        "        \"\"\"\n",
        "        self.classifiers = weak_classifiers\n",
        "        self.w = weights\n",
        "        self.weak_clf_scale = weak_classifier_scaling\n",
        "        self.offset = offset\n",
        "\n",
        "    def predict(self, X):\n",
        "        \"\"\"Compute ensemble prediction.\n",
        "\n",
        "        Note that this function returns the numerical value of the\n",
        "        ensemble predictor, not the class label.  The predicted class\n",
        "        is sign(predict()).\n",
        "        \"\"\"\n",
        "        H = _build_H(self.classifiers, X, self.weak_clf_scale)\n",
        "\n",
        "        # If we've already filtered out those with w=0 and we are only\n",
        "        # using binary weights, this is just a sum\n",
        "        preds = np.dot(H, self.w)\n",
        "        return preds - self.offset\n",
        "\n",
        "    def predict_class(self, X):\n",
        "        \"\"\"Compute ensemble prediction of class label.\"\"\"\n",
        "        preds = self.predict(X)\n",
        "\n",
        "        # Add a small perturbation to any predictions that are exactly\n",
        "        # 0, because these will not count towards either class when\n",
        "        # passed through the sign function.  Such zero predictions can\n",
        "        # happen when the weak classifiers exactly balance each other\n",
        "        # out.\n",
        "        preds[preds == 0] = 1e-9\n",
        "\n",
        "        return np.sign(preds)\n",
        "\n",
        "    def score(self, X, y):\n",
        "        \"\"\"Compute accuracy score on given data.\"\"\"\n",
        "        if sum(self.w) == 0:\n",
        "            # Avoid difficulties that occur with handling this below\n",
        "            return 0.0\n",
        "        return f1_score(y, self.predict_class(X))\n",
        "\n",
        "    def squared_error(self, X, y):\n",
        "        \"\"\"Compute squared error between predicted and true labels.\n",
        "\n",
        "        Provided for testing purposes.\n",
        "        \"\"\"\n",
        "        p = self.predict(X)\n",
        "        return sum((p - y)**2)\n",
        "\n",
        "    def fit_offset(self, X):\n",
        "        \"\"\"Fit offset value based on class-balanced feature vectors.\n",
        "\n",
        "        Currently, this assumes that the feature vectors in X\n",
        "        correspond to an even split between both classes.\n",
        "        \"\"\"\n",
        "        self.offset = 0.0\n",
        "        # Todo: review whether it would be appropriate to subtract\n",
        "        # mean(y) here to account for unbalanced classes.\n",
        "        self.offset = np.mean(self.predict(X))\n",
        "\n",
        "    def get_selected_features(self):\n",
        "        \"\"\"Return list of features corresponding to the selected weak classifiers.\"\"\"\n",
        "        return [clf.i for clf, w in zip(self.classifiers, self.w) if w > 0]\n",
        "\n",
        "    def get_confusion_matrix(self, X, y):\n",
        "        return confusion_matrix(y, self.predict_class(X), labels=[-1, 1])\n",
        "\n",
        "class QBoostClassifier(EnsembleClassifier):\n",
        "    \"\"\"Construct an ensemble classifier using quadratic loss minimization.\n",
        "\n",
        "    \"\"\"\n",
        "\n",
        "    def __init__(self, X, y, lam, weak_clf_scale=None, drop_unused=True):\n",
        "        \"\"\"Initialize and fit QBoost classifier.\n",
        "\n",
        "        X should already include all candidate features (e.g., interactions).\n",
        "\n",
        "        Args:\n",
        "            X (array):\n",
        "                2D array of feature vectors.\n",
        "            y (array):\n",
        "                1D array of class labels (+/- 1).\n",
        "            lam (float):\n",
        "                regularization parameter.\n",
        "            weak_clf_scale (float or None):\n",
        "                scale factor to apply to weak classifier outputs.  If\n",
        "                None, scale by 1/num_classifiers.\n",
        "            drop_unused (bool):\n",
        "                if True, only retain the nonzero weighted classifiers.\n",
        "        \"\"\"\n",
        "        if not all(np.isin(y, [-1, 1])):\n",
        "            raise ValueError(\"Class labels should be +/- 1\")\n",
        "\n",
        "        num_features = np.size(X, 1)\n",
        "\n",
        "        if weak_clf_scale is None:\n",
        "            weak_clf_scale = 1 / num_features\n",
        "\n",
        "        wclf_candidates = [DecisionStumpClassifier(\n",
        "            X, y, i) for i in range(num_features)]\n",
        "\n",
        "        H = _build_H(wclf_candidates, X, weak_clf_scale)\n",
        "\n",
        "        # For reference, store individual weak classifier scores.\n",
        "        # Note: we don't check equality h==y here because H might be rescaled.\n",
        "        self.weak_scores = np.array([np.mean(np.sign(h) * y > 0) for h in H.T])\n",
        "\n",
        "        weights, self.energy = _minimize_squared_loss_binary(H, y, lam)\n",
        "\n",
        "        # Store only the selected classifiers\n",
        "        if drop_unused:\n",
        "            weak_classifiers = [wclf for wclf, w in zip(\n",
        "                wclf_candidates, weights) if w > 0]\n",
        "            weights = weights[weights > 0]\n",
        "        else:\n",
        "            weak_classifiers = wclf_candidates\n",
        "\n",
        "        super().__init__(weak_classifiers, weights, weak_clf_scale)\n",
        "        self.fit_offset(X)\n",
        "\n",
        "        # Save candidates so we can provide a baseline accuracy report.\n",
        "        self._wclf_candidates = wclf_candidates\n",
        "\n",
        "    def report_baseline(self, X, y):\n",
        "        \"\"\"Report accuracy of weak classifiers.\n",
        "\n",
        "        This provides context for interpreting the performance of the boosted\n",
        "        classifier.\n",
        "        \"\"\"\n",
        "        scores = np.array([accuracy_score(y, clf.predict(X))\n",
        "                           for clf in self._wclf_candidates])\n",
        "        data = [[len(scores), scores.min(), scores.mean(), scores.max(), scores.std()]]\n",
        "        headers = ['count', 'min', 'mean', 'max', 'std']\n",
        "\n",
        "        print('Accuracy of weak classifiers (score on test set):')\n",
        "        print(tabulate(data, headers=headers, floatfmt='.3f'))"
      ]
    },
    {
      "cell_type": "code",
      "execution_count": null,
      "metadata": {
        "id": "RdHtcUWyRA3k",
        "colab": {
          "base_uri": "https://localhost:8080/"
        },
        "outputId": "2887e507-03f7-440b-e995-59119177a1f3"
      },
      "outputs": [
        {
          "output_type": "stream",
          "name": "stdout",
          "text": [
            "time: 3.48 ms (started: 2023-06-28 21:19:49 +00:00)\n"
          ]
        }
      ],
      "source": [
        "def _build_H(classifiers, X, output_scale):\n",
        "    \"\"\"Construct matrix of weak classifier predictions on given set of input vectors.\"\"\"\n",
        "    H = np.array([clf.predict(X) for clf in classifiers], dtype=float).T\n",
        "\n",
        "    # Rescale H\n",
        "    H *= output_scale\n",
        "\n",
        "    return H\n",
        "\n",
        "def qboost_lambda_sweep(X, y, lambda_vals, val_fraction=0.4, verbose=False, **kwargs):\n",
        "    \"\"\"Run QBoost using a series of lambda values and check accuracy against a validation set.\n",
        "\n",
        "    Args:\n",
        "        X (array):\n",
        "            2D array of feature vectors.\n",
        "        y (array):\n",
        "            1D array of class labels (+/- 1).\n",
        "        lambda_vals (array):\n",
        "            Array of values for regularization parameter, lambda.\n",
        "        val_fraction (float):\n",
        "            Fraction of given data to set aside for validation.\n",
        "        verbose (bool):\n",
        "            Print out diagnostic information to screen.\n",
        "        kwargs:\n",
        "            Passed to QBoost.__init__.\n",
        "\n",
        "    Returns:\n",
        "        QBoostClassifier:\n",
        "            QBoost instance with best validation score.\n",
        "        lambda:\n",
        "            Lambda value corresponding to the best validation score.\n",
        "    \"\"\"\n",
        "    X_train, X_val, y_train, y_val = train_test_split(\n",
        "        X, y, test_size=val_fraction)\n",
        "\n",
        "    best_score = -1\n",
        "    best_lambda = None\n",
        "    best_clf = None\n",
        "\n",
        "    if verbose:\n",
        "        print('{:7} {} {}:'.format('lambda', 'n_features', 'score'))\n",
        "\n",
        "    for lam in lambda_vals:\n",
        "        qb = QBoostClassifier(X_train, y_train, lam, **kwargs)\n",
        "        score = qb.score(X_val, y_val)\n",
        "        if verbose:\n",
        "            print('{:<7.4f} {:<10} {:<6.3f}'.format(\n",
        "                lam, len(qb.get_selected_features()), score))\n",
        "        if score > best_score:\n",
        "            best_score = score\n",
        "            best_clf = qb\n",
        "            best_lambda = lam\n",
        "\n",
        "    return best_clf, lam\n",
        "\n",
        "def _build_bqm(H, y, lam):\n",
        "    \"\"\"Build BQM.\n",
        "\n",
        "    Args:\n",
        "        H (array):\n",
        "            2D array of weak classifier predictions.  Each row is a\n",
        "            sample point, each column is a classifier.\n",
        "        y (array):\n",
        "            Outputs\n",
        "        lam (float):\n",
        "            Coefficient that controls strength of regularization term\n",
        "            (larger values encourage decreased model complexity).\n",
        "    \"\"\"\n",
        "    n_samples = np.size(H, 0)\n",
        "    n_classifiers = np.size(H, 1)\n",
        "\n",
        "    # samples_factor is a factor that appears in front of the squared\n",
        "    # loss term in the objective.  In theory, it does not affect the\n",
        "    # problem solution, but it does affect the relative weighting of\n",
        "    # the loss and regularization terms, which is otherwise absorbed\n",
        "    # into the lambda parameter.\n",
        "\n",
        "    # Using an average seems to be more intuitive, otherwise, lambda\n",
        "    # is sample-size dependent.\n",
        "    samples_factor = 1.0 / n_samples\n",
        "\n",
        "    bqm = dimod.BQM('BINARY')\n",
        "    bqm.offset = samples_factor * n_samples\n",
        "\n",
        "    for i in range(n_classifiers):\n",
        "        # Note: the last term with h_i^2 is part of the first term in\n",
        "        # Eq. (12) of Neven et al. (2008), where i=j.\n",
        "        bqm.add_variable(i, lam - 2.0 * samples_factor *\n",
        "                         np.dot(H[:, i], y) + samples_factor * np.dot(H[:, i], H[:, i]))\n",
        "\n",
        "    for i in range(n_classifiers):\n",
        "        for j in range(i+1, n_classifiers):\n",
        "            # Relative to Eq. (12) from Neven et al. (2008), the\n",
        "            # factor of 2 appears here because each term appears twice\n",
        "            # in a sum over all i,j.\n",
        "            bqm.add_interaction(\n",
        "                i, j, 2.0 * samples_factor * np.dot(H[:, i], H[:, j]))\n",
        "\n",
        "    return bqm\n",
        "\n",
        "\n",
        "def _minimize_squared_loss_binary(H, y, lam):\n",
        "    \"\"\"Minimize squared loss using binary weight variables.\"\"\"\n",
        "    bqm = _build_bqm(H, y, lam)\n",
        "\n",
        "    sampler = EmbeddingComposite(DWaveSampler(token=token, endpoint=endpoint))\n",
        "    results = sampler.sample(bqm, label='QBoost')\n",
        "    weights = np.array(list(results.first.sample.values()))\n",
        "    energy = results.first.energy\n",
        "\n",
        "    return weights, energy"
      ]
    },
    {
      "cell_type": "markdown",
      "metadata": {
        "id": "BGN8hLEa7ro8"
      },
      "source": [
        "El valor de lambda es el recomendado por el desarrollo del proyecto en el que nos estamos basando."
      ]
    },
    {
      "cell_type": "code",
      "execution_count": null,
      "metadata": {
        "id": "lhx-aOVFaCCW",
        "colab": {
          "base_uri": "https://localhost:8080/"
        },
        "outputId": "69f331b5-020b-4b4f-94b2-976d19c86c74"
      },
      "outputs": [
        {
          "output_type": "stream",
          "name": "stdout",
          "text": [
            "time: 7.62 s (started: 2023-06-28 21:19:50 +00:00)\n"
          ]
        }
      ],
      "source": [
        "lam = 0.0006944444444444445\n",
        "qboost = QBoostClassifier(x_train, y_train, lam)"
      ]
    },
    {
      "cell_type": "code",
      "execution_count": null,
      "metadata": {
        "id": "Z-G0cCJavqKw",
        "colab": {
          "base_uri": "https://localhost:8080/"
        },
        "outputId": "13c1f526-7218-4266-e61a-c0ca9baecb51"
      },
      "outputs": [
        {
          "output_type": "stream",
          "name": "stdout",
          "text": [
            "Score on test set: 0.949\n",
            "time: 11.5 ms (started: 2023-06-28 21:19:57 +00:00)\n"
          ]
        }
      ],
      "source": [
        "print('Score on test set: {:.3f}'.format(qboost.score(x_test, y_test)))"
      ]
    },
    {
      "cell_type": "code",
      "execution_count": null,
      "metadata": {
        "id": "NIrIBgFxfbH6",
        "colab": {
          "base_uri": "https://localhost:8080/",
          "height": 466
        },
        "outputId": "cd7bd501-11c5-46a6-a054-b8dcf322f23c"
      },
      "outputs": [
        {
          "output_type": "display_data",
          "data": {
            "text/plain": [
              "<Figure size 640x480 with 2 Axes>"
            ],
            "image/png": "[encoded data removed]"
          },
          "metadata": {}
        },
        {
          "output_type": "stream",
          "name": "stdout",
          "text": [
            "time: 262 ms (started: 2023-06-28 21:19:57 +00:00)\n"
          ]
        }
      ],
      "source": [
        "cm = qboost.get_confusion_matrix(x_test, y_test)\n",
        "disp = ConfusionMatrixDisplay(confusion_matrix=cm)\n",
        "disp.plot()\n",
        "plt.show()"
      ]
    }
  ],
  "metadata": {
    "colab": {
      "provenance": [],
      "toc_visible": true
    },
    "kernelspec": {
      "display_name": "Python 3",
      "name": "python3"
    },
    "language_info": {
      "name": "python"
    },
    "widgets": {
      "application/vnd.jupyter.widget-state+json": {
        "0de48c4b276a46de9fb2e8a60643602c": {
          "model_module": "@jupyter-widgets/controls",
          "model_name": "DropdownModel",
          "model_module_version": "1.5.0",
          "state": {
            "_dom_classes": [],
            "_model_module": "@jupyter-widgets/controls",
            "_model_module_version": "1.5.0",
            "_model_name": "DropdownModel",
            "_options_labels": [
              "DoS",
              "Fuzzy",
              "Gear",
              "RPM"
            ],
            "_view_count": null,
            "_view_module": "@jupyter-widgets/controls",
            "_view_module_version": "1.5.0",
            "_view_name": "DropdownView",
            "description": "",
            "description_tooltip": null,
            "disabled": false,
            "index": 3,
            "layout": "IPY_MODEL_acb17e9e8dd548b7acd9a4702ea35ef2",
            "style": "IPY_MODEL_fd0adfcea2114af0989e26b6166709b7"
          }
        },
        "acb17e9e8dd548b7acd9a4702ea35ef2": {
          "model_module": "@jupyter-widgets/base",
          "model_name": "LayoutModel",
          "model_module_version": "1.2.0",
          "state": {
            "_model_module": "@jupyter-widgets/base",
            "_model_module_version": "1.2.0",
            "_model_name": "LayoutModel",
            "_view_count": null,
            "_view_module": "@jupyter-widgets/base",
            "_view_module_version": "1.2.0",
            "_view_name": "LayoutView",
            "align_content": null,
            "align_items": null,
            "align_self": null,
            "border": null,
            "bottom": null,
            "display": null,
            "flex": null,
            "flex_flow": null,
            "grid_area": null,
            "grid_auto_columns": null,
            "grid_auto_flow": null,
            "grid_auto_rows": null,
            "grid_column": null,
            "grid_gap": null,
            "grid_row": null,
            "grid_template_areas": null,
            "grid_template_columns": null,
            "grid_template_rows": null,
            "height": null,
            "justify_content": null,
            "justify_items": null,
            "left": null,
            "margin": null,
            "max_height": null,
            "max_width": null,
            "min_height": null,
            "min_width": null,
            "object_fit": null,
            "object_position": null,
            "order": null,
            "overflow": null,
            "overflow_x": null,
            "overflow_y": null,
            "padding": null,
            "right": null,
            "top": null,
            "visibility": null,
            "width": null
          }
        },
        "fd0adfcea2114af0989e26b6166709b7": {
          "model_module": "@jupyter-widgets/controls",
          "model_name": "DescriptionStyleModel",
          "model_module_version": "1.5.0",
          "state": {
            "_model_module": "@jupyter-widgets/controls",
            "_model_module_version": "1.5.0",
            "_model_name": "DescriptionStyleModel",
            "_view_count": null,
            "_view_module": "@jupyter-widgets/base",
            "_view_module_version": "1.2.0",
            "_view_name": "StyleView",
            "description_width": ""
          }
        },
        "bdd8a2135642409a84d5df47dbb2a3d6": {
          "model_module": "@jupyter-widgets/output",
          "model_name": "OutputModel",
          "model_module_version": "1.0.0",
          "state": {
            "_dom_classes": [],
            "_model_module": "@jupyter-widgets/output",
            "_model_module_version": "1.0.0",
            "_model_name": "OutputModel",
            "_view_count": null,
            "_view_module": "@jupyter-widgets/output",
            "_view_module_version": "1.0.0",
            "_view_name": "OutputView",
            "layout": "IPY_MODEL_6e4ac3791f1c4e85b2c2602a648a30e3",
            "msg_id": "",
            "outputs": []
          }
        },
        "6e4ac3791f1c4e85b2c2602a648a30e3": {
          "model_module": "@jupyter-widgets/base",
          "model_name": "LayoutModel",
          "model_module_version": "1.2.0",
          "state": {
            "_model_module": "@jupyter-widgets/base",
            "_model_module_version": "1.2.0",
            "_model_name": "LayoutModel",
            "_view_count": null,
            "_view_module": "@jupyter-widgets/base",
            "_view_module_version": "1.2.0",
            "_view_name": "LayoutView",
            "align_content": null,
            "align_items": null,
            "align_self": null,
            "border": null,
            "bottom": null,
            "display": null,
            "flex": null,
            "flex_flow": null,
            "grid_area": null,
            "grid_auto_columns": null,
            "grid_auto_flow": null,
            "grid_auto_rows": null,
            "grid_column": null,
            "grid_gap": null,
            "grid_row": null,
            "grid_template_areas": null,
            "grid_template_columns": null,
            "grid_template_rows": null,
            "height": null,
            "justify_content": null,
            "justify_items": null,
            "left": null,
            "margin": null,
            "max_height": null,
            "max_width": null,
            "min_height": null,
            "min_width": null,
            "object_fit": null,
            "object_position": null,
            "order": null,
            "overflow": null,
            "overflow_x": null,
            "overflow_y": null,
            "padding": null,
            "right": null,
            "top": null,
            "visibility": null,
            "width": null
          }
        }
      }
    }
  },
  "nbformat": 4,
  "nbformat_minor": 0
}