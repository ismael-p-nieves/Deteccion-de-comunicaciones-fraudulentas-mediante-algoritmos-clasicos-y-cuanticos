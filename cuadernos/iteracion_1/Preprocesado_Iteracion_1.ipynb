{
  "cells": [
    {
      "cell_type": "markdown",
      "metadata": {
        "id": "DnFvZFTa4ERz"
      },
      "source": [
        "# Preparación"
      ]
    },
    {
      "cell_type": "code",
      "execution_count": null,
      "metadata": {
        "id": "_Two1MTOlv3C"
      },
      "outputs": [],
      "source": [
        "import numpy as np\n",
        "import csv\n",
        "import math\n",
        "import random\n",
        "import time\n",
        "import sys\n",
        "import pandas as pd\n",
        "import seaborn as sns"
      ]
    },
    {
      "cell_type": "code",
      "source": [
        "from google.colab import drive\n",
        "drive.mount('/content/drive')"
      ],
      "metadata": {
        "colab": {
          "base_uri": "https://localhost:8080/"
        },
        "id": "ne_45RdBvtY_",
        "outputId": "abf40173-4326-4f0f-d20b-f03620bf219f"
      },
      "execution_count": null,
      "outputs": [
        {
          "output_type": "stream",
          "name": "stdout",
          "text": [
            "Mounted at /content/drive\n"
          ]
        }
      ]
    },
    {
      "cell_type": "code",
      "source": [
        "!pip install ipywidgets\n",
        "# To enable `ipywidgets`\n",
        "!jupyter nbextension enable --py widgetsnbextension"
      ],
      "metadata": {
        "colab": {
          "base_uri": "https://localhost:8080/"
        },
        "id": "6g2Z4-cilrML",
        "outputId": "b32f4d76-51f7-454a-ac0d-be3dba9f3835"
      },
      "execution_count": null,
      "outputs": [
        {
          "output_type": "stream",
          "name": "stdout",
          "text": [
            "Looking in indexes: https://pypi.org/simple, https://us-python.pkg.dev/colab-wheels/public/simple/\n",
            "Requirement already satisfied: ipywidgets in /usr/local/lib/python3.10/dist-packages (7.7.1)\n",
            "Requirement already satisfied: ipykernel>=4.5.1 in /usr/local/lib/python3.10/dist-packages (from ipywidgets) (5.5.6)\n",
            "Requirement already satisfied: ipython-genutils~=0.2.0 in /usr/local/lib/python3.10/dist-packages (from ipywidgets) (0.2.0)\n",
            "Requirement already satisfied: traitlets>=4.3.1 in /usr/local/lib/python3.10/dist-packages (from ipywidgets) (5.7.1)\n",
            "Requirement already satisfied: widgetsnbextension~=3.6.0 in /usr/local/lib/python3.10/dist-packages (from ipywidgets) (3.6.4)\n",
            "Requirement already satisfied: ipython>=4.0.0 in /usr/local/lib/python3.10/dist-packages (from ipywidgets) (7.34.0)\n",
            "Requirement already satisfied: jupyterlab-widgets>=1.0.0 in /usr/local/lib/python3.10/dist-packages (from ipywidgets) (3.0.7)\n",
            "Requirement already satisfied: jupyter-client in /usr/local/lib/python3.10/dist-packages (from ipykernel>=4.5.1->ipywidgets) (6.1.12)\n",
            "Requirement already satisfied: tornado>=4.2 in /usr/local/lib/python3.10/dist-packages (from ipykernel>=4.5.1->ipywidgets) (6.3.1)\n",
            "Requirement already satisfied: setuptools>=18.5 in /usr/local/lib/python3.10/dist-packages (from ipython>=4.0.0->ipywidgets) (67.7.2)\n",
            "Collecting jedi>=0.16 (from ipython>=4.0.0->ipywidgets)\n",
            "  Downloading jedi-0.18.2-py2.py3-none-any.whl (1.6 MB)\n",
            "\u001b[2K     \u001b[90m━━━━━━━━━━━━━━━━━━━━━━━━━━━━━━━━━━━━━━━━\u001b[0m \u001b[32m1.6/1.6 MB\u001b[0m \u001b[31m22.0 MB/s\u001b[0m eta \u001b[36m0:00:00\u001b[0m\n",
            "\u001b[?25hRequirement already satisfied: decorator in /usr/local/lib/python3.10/dist-packages (from ipython>=4.0.0->ipywidgets) (4.4.2)\n",
            "Requirement already satisfied: pickleshare in /usr/local/lib/python3.10/dist-packages (from ipython>=4.0.0->ipywidgets) (0.7.5)\n",
            "Requirement already satisfied: prompt-toolkit!=3.0.0,!=3.0.1,<3.1.0,>=2.0.0 in /usr/local/lib/python3.10/dist-packages (from ipython>=4.0.0->ipywidgets) (3.0.38)\n",
            "Requirement already satisfied: pygments in /usr/local/lib/python3.10/dist-packages (from ipython>=4.0.0->ipywidgets) (2.14.0)\n",
            "Requirement already satisfied: backcall in /usr/local/lib/python3.10/dist-packages (from ipython>=4.0.0->ipywidgets) (0.2.0)\n",
            "Requirement already satisfied: matplotlib-inline in /usr/local/lib/python3.10/dist-packages (from ipython>=4.0.0->ipywidgets) (0.1.6)\n",
            "Requirement already satisfied: pexpect>4.3 in /usr/local/lib/python3.10/dist-packages (from ipython>=4.0.0->ipywidgets) (4.8.0)\n",
            "Requirement already satisfied: notebook>=4.4.1 in /usr/local/lib/python3.10/dist-packages (from widgetsnbextension~=3.6.0->ipywidgets) (6.4.8)\n",
            "Requirement already satisfied: parso<0.9.0,>=0.8.0 in /usr/local/lib/python3.10/dist-packages (from jedi>=0.16->ipython>=4.0.0->ipywidgets) (0.8.3)\n",
            "Requirement already satisfied: jinja2 in /usr/local/lib/python3.10/dist-packages (from notebook>=4.4.1->widgetsnbextension~=3.6.0->ipywidgets) (3.1.2)\n",
            "Requirement already satisfied: pyzmq>=17 in /usr/local/lib/python3.10/dist-packages (from notebook>=4.4.1->widgetsnbextension~=3.6.0->ipywidgets) (23.2.1)\n",
            "Requirement already satisfied: argon2-cffi in /usr/local/lib/python3.10/dist-packages (from notebook>=4.4.1->widgetsnbextension~=3.6.0->ipywidgets) (21.3.0)\n",
            "Requirement already satisfied: jupyter-core>=4.6.1 in /usr/local/lib/python3.10/dist-packages (from notebook>=4.4.1->widgetsnbextension~=3.6.0->ipywidgets) (5.3.0)\n",
            "Requirement already satisfied: nbformat in /usr/local/lib/python3.10/dist-packages (from notebook>=4.4.1->widgetsnbextension~=3.6.0->ipywidgets) (5.8.0)\n",
            "Requirement already satisfied: nbconvert in /usr/local/lib/python3.10/dist-packages (from notebook>=4.4.1->widgetsnbextension~=3.6.0->ipywidgets) (6.5.4)\n",
            "Requirement already satisfied: nest-asyncio>=1.5 in /usr/local/lib/python3.10/dist-packages (from notebook>=4.4.1->widgetsnbextension~=3.6.0->ipywidgets) (1.5.6)\n",
            "Requirement already satisfied: Send2Trash>=1.8.0 in /usr/local/lib/python3.10/dist-packages (from notebook>=4.4.1->widgetsnbextension~=3.6.0->ipywidgets) (1.8.0)\n",
            "Requirement already satisfied: terminado>=0.8.3 in /usr/local/lib/python3.10/dist-packages (from notebook>=4.4.1->widgetsnbextension~=3.6.0->ipywidgets) (0.17.1)\n",
            "Requirement already satisfied: prometheus-client in /usr/local/lib/python3.10/dist-packages (from notebook>=4.4.1->widgetsnbextension~=3.6.0->ipywidgets) (0.16.0)\n",
            "Requirement already satisfied: python-dateutil>=2.1 in /usr/local/lib/python3.10/dist-packages (from jupyter-client->ipykernel>=4.5.1->ipywidgets) (2.8.2)\n",
            "Requirement already satisfied: ptyprocess>=0.5 in /usr/local/lib/python3.10/dist-packages (from pexpect>4.3->ipython>=4.0.0->ipywidgets) (0.7.0)\n",
            "Requirement already satisfied: wcwidth in /usr/local/lib/python3.10/dist-packages (from prompt-toolkit!=3.0.0,!=3.0.1,<3.1.0,>=2.0.0->ipython>=4.0.0->ipywidgets) (0.2.6)\n",
            "Requirement already satisfied: platformdirs>=2.5 in /usr/local/lib/python3.10/dist-packages (from jupyter-core>=4.6.1->notebook>=4.4.1->widgetsnbextension~=3.6.0->ipywidgets) (3.3.0)\n",
            "Requirement already satisfied: six>=1.5 in /usr/local/lib/python3.10/dist-packages (from python-dateutil>=2.1->jupyter-client->ipykernel>=4.5.1->ipywidgets) (1.16.0)\n",
            "Requirement already satisfied: argon2-cffi-bindings in /usr/local/lib/python3.10/dist-packages (from argon2-cffi->notebook>=4.4.1->widgetsnbextension~=3.6.0->ipywidgets) (21.2.0)\n",
            "Requirement already satisfied: MarkupSafe>=2.0 in /usr/local/lib/python3.10/dist-packages (from jinja2->notebook>=4.4.1->widgetsnbextension~=3.6.0->ipywidgets) (2.1.2)\n",
            "Requirement already satisfied: lxml in /usr/local/lib/python3.10/dist-packages (from nbconvert->notebook>=4.4.1->widgetsnbextension~=3.6.0->ipywidgets) (4.9.2)\n",
            "Requirement already satisfied: beautifulsoup4 in /usr/local/lib/python3.10/dist-packages (from nbconvert->notebook>=4.4.1->widgetsnbextension~=3.6.0->ipywidgets) (4.11.2)\n",
            "Requirement already satisfied: bleach in /usr/local/lib/python3.10/dist-packages (from nbconvert->notebook>=4.4.1->widgetsnbextension~=3.6.0->ipywidgets) (6.0.0)\n",
            "Requirement already satisfied: defusedxml in /usr/local/lib/python3.10/dist-packages (from nbconvert->notebook>=4.4.1->widgetsnbextension~=3.6.0->ipywidgets) (0.7.1)\n",
            "Requirement already satisfied: entrypoints>=0.2.2 in /usr/local/lib/python3.10/dist-packages (from nbconvert->notebook>=4.4.1->widgetsnbextension~=3.6.0->ipywidgets) (0.4)\n",
            "Requirement already satisfied: jupyterlab-pygments in /usr/local/lib/python3.10/dist-packages (from nbconvert->notebook>=4.4.1->widgetsnbextension~=3.6.0->ipywidgets) (0.2.2)\n",
            "Requirement already satisfied: mistune<2,>=0.8.1 in /usr/local/lib/python3.10/dist-packages (from nbconvert->notebook>=4.4.1->widgetsnbextension~=3.6.0->ipywidgets) (0.8.4)\n",
            "Requirement already satisfied: nbclient>=0.5.0 in /usr/local/lib/python3.10/dist-packages (from nbconvert->notebook>=4.4.1->widgetsnbextension~=3.6.0->ipywidgets) (0.7.4)\n",
            "Requirement already satisfied: packaging in /usr/local/lib/python3.10/dist-packages (from nbconvert->notebook>=4.4.1->widgetsnbextension~=3.6.0->ipywidgets) (23.1)\n",
            "Requirement already satisfied: pandocfilters>=1.4.1 in /usr/local/lib/python3.10/dist-packages (from nbconvert->notebook>=4.4.1->widgetsnbextension~=3.6.0->ipywidgets) (1.5.0)\n",
            "Requirement already satisfied: tinycss2 in /usr/local/lib/python3.10/dist-packages (from nbconvert->notebook>=4.4.1->widgetsnbextension~=3.6.0->ipywidgets) (1.2.1)\n",
            "Requirement already satisfied: fastjsonschema in /usr/local/lib/python3.10/dist-packages (from nbformat->notebook>=4.4.1->widgetsnbextension~=3.6.0->ipywidgets) (2.16.3)\n",
            "Requirement already satisfied: jsonschema>=2.6 in /usr/local/lib/python3.10/dist-packages (from nbformat->notebook>=4.4.1->widgetsnbextension~=3.6.0->ipywidgets) (4.3.3)\n",
            "Requirement already satisfied: attrs>=17.4.0 in /usr/local/lib/python3.10/dist-packages (from jsonschema>=2.6->nbformat->notebook>=4.4.1->widgetsnbextension~=3.6.0->ipywidgets) (23.1.0)\n",
            "Requirement already satisfied: pyrsistent!=0.17.0,!=0.17.1,!=0.17.2,>=0.14.0 in /usr/local/lib/python3.10/dist-packages (from jsonschema>=2.6->nbformat->notebook>=4.4.1->widgetsnbextension~=3.6.0->ipywidgets) (0.19.3)\n",
            "Requirement already satisfied: cffi>=1.0.1 in /usr/local/lib/python3.10/dist-packages (from argon2-cffi-bindings->argon2-cffi->notebook>=4.4.1->widgetsnbextension~=3.6.0->ipywidgets) (1.15.1)\n",
            "Requirement already satisfied: soupsieve>1.2 in /usr/local/lib/python3.10/dist-packages (from beautifulsoup4->nbconvert->notebook>=4.4.1->widgetsnbextension~=3.6.0->ipywidgets) (2.4.1)\n",
            "Requirement already satisfied: webencodings in /usr/local/lib/python3.10/dist-packages (from bleach->nbconvert->notebook>=4.4.1->widgetsnbextension~=3.6.0->ipywidgets) (0.5.1)\n",
            "Requirement already satisfied: pycparser in /usr/local/lib/python3.10/dist-packages (from cffi>=1.0.1->argon2-cffi-bindings->argon2-cffi->notebook>=4.4.1->widgetsnbextension~=3.6.0->ipywidgets) (2.21)\n",
            "Installing collected packages: jedi\n",
            "Successfully installed jedi-0.18.2\n",
            "Enabling notebook extension jupyter-js-widgets/extension...\n",
            "Paths used for configuration of notebook: \n",
            "    \t/root/.jupyter/nbconfig/notebook.json\n",
            "Paths used for configuration of notebook: \n",
            "    \t\n",
            "      - Validating: \u001b[32mOK\u001b[0m\n",
            "Paths used for configuration of notebook: \n",
            "    \t/root/.jupyter/nbconfig/notebook.json\n"
          ]
        }
      ]
    },
    {
      "cell_type": "code",
      "source": [
        "from ipywidgets import widgets\n",
        "from IPython.display import display"
      ],
      "metadata": {
        "id": "wK4Pgk0hluFn"
      },
      "execution_count": null,
      "outputs": []
    },
    {
      "cell_type": "code",
      "execution_count": null,
      "metadata": {
        "colab": {
          "base_uri": "https://localhost:8080/"
        },
        "id": "XgjWQh2yuJBv",
        "outputId": "c1f5f0ab-8d03-4293-818d-a08b255ca8d2"
      },
      "outputs": [
        {
          "output_type": "stream",
          "name": "stdout",
          "text": [
            "\u001b[2K     \u001b[90m━━━━━━━━━━━━━━━━━━━━━━━━━━━━━━━━━━━━━━━━\u001b[0m \u001b[32m1.4/1.4 MB\u001b[0m \u001b[31m19.7 MB/s\u001b[0m eta \u001b[36m0:00:00\u001b[0m\n",
            "\u001b[2K     \u001b[90m━━━━━━━━━━━━━━━━━━━━━━━━━━━━━━━━━━━━━━━━\u001b[0m \u001b[32m45.4/45.4 kB\u001b[0m \u001b[31m4.6 MB/s\u001b[0m eta \u001b[36m0:00:00\u001b[0m\n",
            "\u001b[2K     \u001b[90m━━━━━━━━━━━━━━━━━━━━━━━━━━━━━━━━━━━━━━━━\u001b[0m \u001b[32m51.0/51.0 kB\u001b[0m \u001b[31m5.9 MB/s\u001b[0m eta \u001b[36m0:00:00\u001b[0m\n",
            "\u001b[?25h  Preparing metadata (setup.py) ... \u001b[?25l\u001b[?25hdone\n",
            "  Building wheel for ligo-segments (setup.py) ... \u001b[?25l\u001b[?25hdone\n"
          ]
        }
      ],
      "source": [
        "!pip install -q gwpy"
      ]
    },
    {
      "cell_type": "markdown",
      "metadata": {
        "id": "F36xNCiwyqrV"
      },
      "source": [
        "Esta librería nos va a permitir ver el tiempo de ejecución de todas las celdas en el cuaderno."
      ]
    },
    {
      "cell_type": "code",
      "execution_count": null,
      "metadata": {
        "colab": {
          "base_uri": "https://localhost:8080/"
        },
        "id": "cRWA_Zmbh5k-",
        "outputId": "ecab6af8-1ab8-4ea6-c96a-852ea4811153"
      },
      "outputs": [
        {
          "output_type": "stream",
          "name": "stdout",
          "text": [
            "time: 693 µs (started: 2023-06-19 20:30:31 +00:00)\n"
          ]
        }
      ],
      "source": [
        "%%capture\n",
        "!pip install ipython-autotime\n",
        "%load_ext autotime"
      ]
    },
    {
      "cell_type": "markdown",
      "metadata": {
        "id": "-s1o4o0lk3s5"
      },
      "source": [
        "# Business Understanding\n",
        "\n",
        "El objetivo del Business Understanding es determinar los objetivos, requisitos y condiciones del proyecto. Parte desde conversaciones con la empresa para conseguir esta información por medio de técnicas de capturas de requisitos. Una vez obtenidos los objetivos de la empresa en terminología empresarial, se debe de analizar la situación y, finalmente, determinar cuáles van a ser los objetivos que va a tener la minería de datos.\n",
        "\n",
        "Esta fase no tiene código asociado, pues trata de entender el ámbito del problema antes de empezar a analizar los datos aportados.\n",
        "from sklearn.model_selection import train_test_split"
      ]
    },
    {
      "cell_type": "markdown",
      "metadata": {
        "id": "mRR2Gac3mTh-"
      },
      "source": [
        "# Data Understanding\n",
        "\n",
        "La fase de Data Understanding tiene como objetivo principal comprender a fondo los datos disponibles y establecer una base sólida para el futuro análisis y modelado. Al obtener un conocimiento profundo de los datos, se pueden tomar decisiones informadas en futuras decisiones como la técnica de minería de datos o la preparación de datos."
      ]
    },
    {
      "cell_type": "markdown",
      "metadata": {
        "id": "dIrObFL_k9Vk"
      },
      "source": [
        "## Recolección de datos"
      ]
    },
    {
      "cell_type": "markdown",
      "metadata": {
        "id": "qTkrVpC8zhZU"
      },
      "source": [
        "Todos los conjuntos de datos están disponibles en Google Drive"
      ]
    },
    {
      "cell_type": "code",
      "source": [
        "dropdown = widgets.Dropdown(options =[\"DoS\", \"Fuzzy\", \"Gear\", \"RPM\"])\n",
        "output = widgets.Output()\n",
        "path = '/content/drive/MyDrive/tfg/datasets/DoS_dataset.csv'\n",
        "\n",
        "def select(change):\n",
        "  global path\n",
        "  output.clear_output()\n",
        "  if(change.new == 'DoS'):\n",
        "    with output:\n",
        "      path = '/content/drive/MyDrive/tfg/datasets/DoS_dataset.csv'\n",
        "  elif(change.new == 'Fuzzy'):\n",
        "    with output:\n",
        "      path = '/content/drive/MyDrive/tfg/datasets/Fuzzy_dataset.csv'\n",
        "  elif(change.new == 'Gear'):\n",
        "    with output:\n",
        "      path = '/content/drive/MyDrive/tfg/datasets/Gear_dataset.csv'\n",
        "  elif(change.new == 'RPM'):\n",
        "    with output:\n",
        "      path = '/content/drive/MyDrive/tfg/datasets/RPM_dataset.csv'\n",
        "  else:\n",
        "    with output:\n",
        "      display(\"Error: option not found\")\n",
        "\n",
        "dropdown.observe(select, names=\"value\")\n",
        "display(dropdown)\n",
        "display(output)"
      ],
      "metadata": {
        "colab": {
          "base_uri": "https://localhost:8080/",
          "height": 66,
          "referenced_widgets": [
            "b3fd8e5cb96c4fe79f0ad11197242b21",
            "c73843a1c42748ba8a316760eb182d8b",
            "78640e3f103d4fae94e7e4c826426d4c",
            "e066905bec0e480cb687eca422db5d85",
            "fe186ed12b8448f1b84826d274ce2e99"
          ]
        },
        "id": "LBfsBczcnH5f",
        "outputId": "1ddaf7b2-7d52-45a3-eb9e-70e7530a7654"
      },
      "execution_count": null,
      "outputs": [
        {
          "output_type": "display_data",
          "data": {
            "text/plain": [
              "Dropdown(options=('DoS', 'Fuzzy', 'RPM', 'Gear'), value='DoS')"
            ],
            "application/vnd.jupyter.widget-view+json": {
              "version_major": 2,
              "version_minor": 0,
              "model_id": "b3fd8e5cb96c4fe79f0ad11197242b21"
            }
          },
          "metadata": {}
        },
        {
          "output_type": "display_data",
          "data": {
            "text/plain": [
              "Output()"
            ],
            "application/vnd.jupyter.widget-view+json": {
              "version_major": 2,
              "version_minor": 0,
              "model_id": "e066905bec0e480cb687eca422db5d85"
            }
          },
          "metadata": {}
        },
        {
          "output_type": "stream",
          "name": "stdout",
          "text": [
            "time: 35.9 ms (started: 2023-06-19 20:30:31 +00:00)\n"
          ]
        }
      ]
    },
    {
      "cell_type": "code",
      "execution_count": null,
      "metadata": {
        "colab": {
          "base_uri": "https://localhost:8080/"
        },
        "id": "IVIPWOaXkt8s",
        "outputId": "9e4d4fd8-294a-443f-93e8-b8e9faddb8a3"
      },
      "outputs": [
        {
          "output_type": "stream",
          "name": "stdout",
          "text": [
            "time: 12.3 s (started: 2023-06-19 20:30:31 +00:00)\n"
          ]
        }
      ],
      "source": [
        "columns = ['Tiempo', 'ID', 'DLC', 'M1', 'M2', 'M3', 'M4', 'M5', 'M6', 'M7', 'M8', 'Etiqueta']\n",
        "df = pd.read_csv(path, delimiter=',', header=None, names=columns)"
      ]
    },
    {
      "cell_type": "markdown",
      "metadata": {
        "id": "wpdYovG3lMs6"
      },
      "source": [
        "## Descripción de datos"
      ]
    },
    {
      "cell_type": "markdown",
      "metadata": {
        "id": "UM4q7MHjzllA"
      },
      "source": [
        "Vamos a ver cuántos mensajes son reales (R) y cuántos de ellos malintencionados (T)."
      ]
    },
    {
      "cell_type": "code",
      "execution_count": null,
      "metadata": {
        "id": "c8upJpNynvIK",
        "colab": {
          "base_uri": "https://localhost:8080/"
        },
        "outputId": "3fed2ec7-8b77-4b43-8ef4-93f5cc9469ae"
      },
      "outputs": [
        {
          "output_type": "stream",
          "name": "stdout",
          "text": [
            "time: 465 µs (started: 2023-06-19 20:30:43 +00:00)\n"
          ]
        }
      ],
      "source": [
        "%%capture\n",
        "def getStats(df):\n",
        "  print(len(df.index))\n",
        "  print(df['Etiqueta'].value_counts())"
      ]
    },
    {
      "cell_type": "code",
      "execution_count": null,
      "metadata": {
        "colab": {
          "base_uri": "https://localhost:8080/"
        },
        "id": "DJs3BpvAn0fR",
        "outputId": "9914fe17-20cd-4536-de6f-a56466d4e120"
      },
      "outputs": [
        {
          "output_type": "stream",
          "name": "stdout",
          "text": [
            "3665771\n",
            "R    3047062\n",
            "T     587521\n",
            "Name: Etiqueta, dtype: int64\n",
            "time: 395 ms (started: 2023-06-19 20:30:43 +00:00)\n"
          ]
        }
      ],
      "source": [
        "getStats(df)"
      ]
    },
    {
      "cell_type": "markdown",
      "metadata": {
        "id": "pOHJexAiprr6"
      },
      "source": [
        "## Exploración de datos"
      ]
    },
    {
      "cell_type": "markdown",
      "metadata": {
        "id": "k_rHkqiXzzsj"
      },
      "source": [
        "Vamos a ver qué tipos de datos tiene nuestro conjunto de datos."
      ]
    },
    {
      "cell_type": "code",
      "execution_count": null,
      "metadata": {
        "colab": {
          "base_uri": "https://localhost:8080/"
        },
        "id": "EALXKinuqguW",
        "outputId": "73d08784-a1f4-45fc-c32f-8b9e56c08c2f"
      },
      "outputs": [
        {
          "output_type": "stream",
          "name": "stdout",
          "text": [
            "Tiempo      float64\n",
            "ID           object\n",
            "DLC           int64\n",
            "M1           object\n",
            "M2           object\n",
            "M3           object\n",
            "M4           object\n",
            "M5           object\n",
            "M6           object\n",
            "M7           object\n",
            "M8           object\n",
            "Etiqueta     object\n",
            "dtype: object\n",
            "time: 2.36 ms (started: 2023-06-19 20:30:44 +00:00)\n"
          ]
        }
      ],
      "source": [
        "print(df.dtypes)"
      ]
    },
    {
      "cell_type": "code",
      "source": [
        "df.head()"
      ],
      "metadata": {
        "colab": {
          "base_uri": "https://localhost:8080/",
          "height": 223
        },
        "id": "5571Kx8D07WG",
        "outputId": "70bbe2df-5594-4568-9664-d4fb0db2ef2f"
      },
      "execution_count": null,
      "outputs": [
        {
          "output_type": "execute_result",
          "data": {
            "text/plain": [
              "         Tiempo    ID  DLC  M1  M2  M3  M4  M5  M6  M7  M8 Etiqueta\n",
              "0  1.478198e+09  0316    8  05  21  68  09  21  21  00  6f        R\n",
              "1  1.478198e+09  018f    8  fe  5b  00  00  00  3c  00  00        R\n",
              "2  1.478198e+09  0260    8  19  21  22  30  08  8e  6d  3a        R\n",
              "3  1.478198e+09  02a0    8  64  00  9a  1d  97  02  bd  00        R\n",
              "4  1.478198e+09  0329    8  40  bb  7f  14  11  20  00  14        R"
            ],
            "text/html": [
              "\n",
              "  <div id=\"df-d54de569-8bec-4a54-b3cc-c34e16904152\">\n",
              "    <div class=\"colab-df-container\">\n",
              "      <div>\n",
              "<style scoped>\n",
              "    .dataframe tbody tr th:only-of-type {\n",
              "        vertical-align: middle;\n",
              "    }\n",
              "\n",
              "    .dataframe tbody tr th {\n",
              "        vertical-align: top;\n",
              "    }\n",
              "\n",
              "    .dataframe thead th {\n",
              "        text-align: right;\n",
              "    }\n",
              "</style>\n",
              "<table border=\"1\" class=\"dataframe\">\n",
              "  <thead>\n",
              "    <tr style=\"text-align: right;\">\n",
              "      <th></th>\n",
              "      <th>Tiempo</th>\n",
              "      <th>ID</th>\n",
              "      <th>DLC</th>\n",
              "      <th>M1</th>\n",
              "      <th>M2</th>\n",
              "      <th>M3</th>\n",
              "      <th>M4</th>\n",
              "      <th>M5</th>\n",
              "      <th>M6</th>\n",
              "      <th>M7</th>\n",
              "      <th>M8</th>\n",
              "      <th>Etiqueta</th>\n",
              "    </tr>\n",
              "  </thead>\n",
              "  <tbody>\n",
              "    <tr>\n",
              "      <th>0</th>\n",
              "      <td>1.478198e+09</td>\n",
              "      <td>0316</td>\n",
              "      <td>8</td>\n",
              "      <td>05</td>\n",
              "      <td>21</td>\n",
              "      <td>68</td>\n",
              "      <td>09</td>\n",
              "      <td>21</td>\n",
              "      <td>21</td>\n",
              "      <td>00</td>\n",
              "      <td>6f</td>\n",
              "      <td>R</td>\n",
              "    </tr>\n",
              "    <tr>\n",
              "      <th>1</th>\n",
              "      <td>1.478198e+09</td>\n",
              "      <td>018f</td>\n",
              "      <td>8</td>\n",
              "      <td>fe</td>\n",
              "      <td>5b</td>\n",
              "      <td>00</td>\n",
              "      <td>00</td>\n",
              "      <td>00</td>\n",
              "      <td>3c</td>\n",
              "      <td>00</td>\n",
              "      <td>00</td>\n",
              "      <td>R</td>\n",
              "    </tr>\n",
              "    <tr>\n",
              "      <th>2</th>\n",
              "      <td>1.478198e+09</td>\n",
              "      <td>0260</td>\n",
              "      <td>8</td>\n",
              "      <td>19</td>\n",
              "      <td>21</td>\n",
              "      <td>22</td>\n",
              "      <td>30</td>\n",
              "      <td>08</td>\n",
              "      <td>8e</td>\n",
              "      <td>6d</td>\n",
              "      <td>3a</td>\n",
              "      <td>R</td>\n",
              "    </tr>\n",
              "    <tr>\n",
              "      <th>3</th>\n",
              "      <td>1.478198e+09</td>\n",
              "      <td>02a0</td>\n",
              "      <td>8</td>\n",
              "      <td>64</td>\n",
              "      <td>00</td>\n",
              "      <td>9a</td>\n",
              "      <td>1d</td>\n",
              "      <td>97</td>\n",
              "      <td>02</td>\n",
              "      <td>bd</td>\n",
              "      <td>00</td>\n",
              "      <td>R</td>\n",
              "    </tr>\n",
              "    <tr>\n",
              "      <th>4</th>\n",
              "      <td>1.478198e+09</td>\n",
              "      <td>0329</td>\n",
              "      <td>8</td>\n",
              "      <td>40</td>\n",
              "      <td>bb</td>\n",
              "      <td>7f</td>\n",
              "      <td>14</td>\n",
              "      <td>11</td>\n",
              "      <td>20</td>\n",
              "      <td>00</td>\n",
              "      <td>14</td>\n",
              "      <td>R</td>\n",
              "    </tr>\n",
              "  </tbody>\n",
              "</table>\n",
              "</div>\n",
              "      <button class=\"colab-df-convert\" onclick=\"convertToInteractive('df-d54de569-8bec-4a54-b3cc-c34e16904152')\"\n",
              "              title=\"Convert this dataframe to an interactive table.\"\n",
              "              style=\"display:none;\">\n",
              "        \n",
              "  <svg xmlns=\"http://www.w3.org/2000/svg\" height=\"24px\"viewBox=\"0 0 24 24\"\n",
              "       width=\"24px\">\n",
              "    <path d=\"M0 0h24v24H0V0z\" fill=\"none\"/>\n",
              "    <path d=\"M18.56 5.44l.94 2.06.94-2.06 2.06-.94-2.06-.94-.94-2.06-.94 2.06-2.06.94zm-11 1L8.5 8.5l.94-2.06 2.06-.94-2.06-.94L8.5 2.5l-.94 2.06-2.06.94zm10 10l.94 2.06.94-2.06 2.06-.94-2.06-.94-.94-2.06-.94 2.06-2.06.94z\"/><path d=\"M17.41 7.96l-1.37-1.37c-.4-.4-.92-.59-1.43-.59-.52 0-1.04.2-1.43.59L10.3 9.45l-7.72 7.72c-.78.78-.78 2.05 0 2.83L4 21.41c.39.39.9.59 1.41.59.51 0 1.02-.2 1.41-.59l7.78-7.78 2.81-2.81c.8-.78.8-2.07 0-2.86zM5.41 20L4 18.59l7.72-7.72 1.47 1.35L5.41 20z\"/>\n",
              "  </svg>\n",
              "      </button>\n",
              "      \n",
              "  <style>\n",
              "    .colab-df-container {\n",
              "      display:flex;\n",
              "      flex-wrap:wrap;\n",
              "      gap: 12px;\n",
              "    }\n",
              "\n",
              "    .colab-df-convert {\n",
              "      background-color: #E8F0FE;\n",
              "      border: none;\n",
              "      border-radius: 50%;\n",
              "      cursor: pointer;\n",
              "      display: none;\n",
              "      fill: #1967D2;\n",
              "      height: 32px;\n",
              "      padding: 0 0 0 0;\n",
              "      width: 32px;\n",
              "    }\n",
              "\n",
              "    .colab-df-convert:hover {\n",
              "      background-color: #E2EBFA;\n",
              "      box-shadow: 0px 1px 2px rgba(60, 64, 67, 0.3), 0px 1px 3px 1px rgba(60, 64, 67, 0.15);\n",
              "      fill: #174EA6;\n",
              "    }\n",
              "\n",
              "    [theme=dark] .colab-df-convert {\n",
              "      background-color: #3B4455;\n",
              "      fill: #D2E3FC;\n",
              "    }\n",
              "\n",
              "    [theme=dark] .colab-df-convert:hover {\n",
              "      background-color: #434B5C;\n",
              "      box-shadow: 0px 1px 3px 1px rgba(0, 0, 0, 0.15);\n",
              "      filter: drop-shadow(0px 1px 2px rgba(0, 0, 0, 0.3));\n",
              "      fill: #FFFFFF;\n",
              "    }\n",
              "  </style>\n",
              "\n",
              "      <script>\n",
              "        const buttonEl =\n",
              "          document.querySelector('#df-d54de569-8bec-4a54-b3cc-c34e16904152 button.colab-df-convert');\n",
              "        buttonEl.style.display =\n",
              "          google.colab.kernel.accessAllowed ? 'block' : 'none';\n",
              "\n",
              "        async function convertToInteractive(key) {\n",
              "          const element = document.querySelector('#df-d54de569-8bec-4a54-b3cc-c34e16904152');\n",
              "          const dataTable =\n",
              "            await google.colab.kernel.invokeFunction('convertToInteractive',\n",
              "                                                     [key], {});\n",
              "          if (!dataTable) return;\n",
              "\n",
              "          const docLinkHtml = 'Like what you see? Visit the ' +\n",
              "            '<a target=\"_blank\" href=https://colab.research.google.com/notebooks/data_table.ipynb>data table notebook</a>'\n",
              "            + ' to learn more about interactive tables.';\n",
              "          element.innerHTML = '';\n",
              "          dataTable['output_type'] = 'display_data';\n",
              "          await google.colab.output.renderOutput(dataTable, element);\n",
              "          const docLink = document.createElement('div');\n",
              "          docLink.innerHTML = docLinkHtml;\n",
              "          element.appendChild(docLink);\n",
              "        }\n",
              "      </script>\n",
              "    </div>\n",
              "  </div>\n",
              "  "
            ]
          },
          "metadata": {},
          "execution_count": 12
        },
        {
          "output_type": "stream",
          "name": "stdout",
          "text": [
            "time: 41.7 ms (started: 2023-06-19 20:30:44 +00:00)\n"
          ]
        }
      ]
    },
    {
      "cell_type": "markdown",
      "source": [
        "### Densidad de mensajes malintencionados"
      ],
      "metadata": {
        "id": "rMxMEYc_SQwO"
      }
    },
    {
      "cell_type": "markdown",
      "source": [
        "Para conseguir la densidad de mensajes malintencionados, vamos a agruparlos según las marcas de tiempo y mostrarlo en forma de gráfico. Esto se conseguiría con la siguiente función:\n",
        "\n",
        "```\n",
        "def getMessageConcentration(df):\n",
        "  df_R = df.copy(deep=True)\n",
        "  df_R.set_index('Tiempo', inplace=True)\n",
        "\n",
        "  df_R = df_R.groupby(pd.Grouper(freq='U')).mean()\n",
        "\n",
        "  df_R['Etiqueta'].plot()\n",
        "  plt.show()\n",
        "```"
      ],
      "metadata": {
        "id": "wbJhXfpBSWbM"
      }
    },
    {
      "cell_type": "code",
      "source": [
        "def getMessageConcentration(df):\n",
        "  df_R = df.copy(deep=True)\n",
        "  df_R.set_index('Tiempo', inplace=True)\n",
        "\n",
        "  df_R = df_R.groupby(pd.Grouper(freq='U')).mean()\n",
        "\n",
        "  df_R['Etiqueta'].plot()\n",
        "  plt.show()"
      ],
      "metadata": {
        "id": "TnI9i0VvDjAZ"
      },
      "execution_count": null,
      "outputs": []
    },
    {
      "cell_type": "markdown",
      "metadata": {
        "id": "5vx0PQQwo1-m"
      },
      "source": [
        "### Patrones superficiales en los mensajes malintencionados"
      ]
    },
    {
      "cell_type": "code",
      "execution_count": null,
      "metadata": {
        "id": "4rQHXiM4o3lw",
        "colab": {
          "base_uri": "https://localhost:8080/",
          "height": 67
        },
        "outputId": "e16bfbf1-f15b-45f2-c8d7-89e523230ddb"
      },
      "outputs": [
        {
          "output_type": "execute_result",
          "data": {
            "text/plain": [
              "Empty DataFrame\n",
              "Columns: [Tiempo, ID, DLC, M1, M2, M3, M4, M5, M6, M7, M8, Etiqueta]\n",
              "Index: []"
            ],
            "text/html": [
              "\n",
              "  <div id=\"df-d77c74e8-5adb-473f-a72d-13c023d2b0c6\">\n",
              "    <div class=\"colab-df-container\">\n",
              "      <div>\n",
              "<style scoped>\n",
              "    .dataframe tbody tr th:only-of-type {\n",
              "        vertical-align: middle;\n",
              "    }\n",
              "\n",
              "    .dataframe tbody tr th {\n",
              "        vertical-align: top;\n",
              "    }\n",
              "\n",
              "    .dataframe thead th {\n",
              "        text-align: right;\n",
              "    }\n",
              "</style>\n",
              "<table border=\"1\" class=\"dataframe\">\n",
              "  <thead>\n",
              "    <tr style=\"text-align: right;\">\n",
              "      <th></th>\n",
              "      <th>Tiempo</th>\n",
              "      <th>ID</th>\n",
              "      <th>DLC</th>\n",
              "      <th>M1</th>\n",
              "      <th>M2</th>\n",
              "      <th>M3</th>\n",
              "      <th>M4</th>\n",
              "      <th>M5</th>\n",
              "      <th>M6</th>\n",
              "      <th>M7</th>\n",
              "      <th>M8</th>\n",
              "      <th>Etiqueta</th>\n",
              "    </tr>\n",
              "  </thead>\n",
              "  <tbody>\n",
              "  </tbody>\n",
              "</table>\n",
              "</div>\n",
              "      <button class=\"colab-df-convert\" onclick=\"convertToInteractive('df-d77c74e8-5adb-473f-a72d-13c023d2b0c6')\"\n",
              "              title=\"Convert this dataframe to an interactive table.\"\n",
              "              style=\"display:none;\">\n",
              "        \n",
              "  <svg xmlns=\"http://www.w3.org/2000/svg\" height=\"24px\"viewBox=\"0 0 24 24\"\n",
              "       width=\"24px\">\n",
              "    <path d=\"M0 0h24v24H0V0z\" fill=\"none\"/>\n",
              "    <path d=\"M18.56 5.44l.94 2.06.94-2.06 2.06-.94-2.06-.94-.94-2.06-.94 2.06-2.06.94zm-11 1L8.5 8.5l.94-2.06 2.06-.94-2.06-.94L8.5 2.5l-.94 2.06-2.06.94zm10 10l.94 2.06.94-2.06 2.06-.94-2.06-.94-.94-2.06-.94 2.06-2.06.94z\"/><path d=\"M17.41 7.96l-1.37-1.37c-.4-.4-.92-.59-1.43-.59-.52 0-1.04.2-1.43.59L10.3 9.45l-7.72 7.72c-.78.78-.78 2.05 0 2.83L4 21.41c.39.39.9.59 1.41.59.51 0 1.02-.2 1.41-.59l7.78-7.78 2.81-2.81c.8-.78.8-2.07 0-2.86zM5.41 20L4 18.59l7.72-7.72 1.47 1.35L5.41 20z\"/>\n",
              "  </svg>\n",
              "      </button>\n",
              "      \n",
              "  <style>\n",
              "    .colab-df-container {\n",
              "      display:flex;\n",
              "      flex-wrap:wrap;\n",
              "      gap: 12px;\n",
              "    }\n",
              "\n",
              "    .colab-df-convert {\n",
              "      background-color: #E8F0FE;\n",
              "      border: none;\n",
              "      border-radius: 50%;\n",
              "      cursor: pointer;\n",
              "      display: none;\n",
              "      fill: #1967D2;\n",
              "      height: 32px;\n",
              "      padding: 0 0 0 0;\n",
              "      width: 32px;\n",
              "    }\n",
              "\n",
              "    .colab-df-convert:hover {\n",
              "      background-color: #E2EBFA;\n",
              "      box-shadow: 0px 1px 2px rgba(60, 64, 67, 0.3), 0px 1px 3px 1px rgba(60, 64, 67, 0.15);\n",
              "      fill: #174EA6;\n",
              "    }\n",
              "\n",
              "    [theme=dark] .colab-df-convert {\n",
              "      background-color: #3B4455;\n",
              "      fill: #D2E3FC;\n",
              "    }\n",
              "\n",
              "    [theme=dark] .colab-df-convert:hover {\n",
              "      background-color: #434B5C;\n",
              "      box-shadow: 0px 1px 3px 1px rgba(0, 0, 0, 0.15);\n",
              "      filter: drop-shadow(0px 1px 2px rgba(0, 0, 0, 0.3));\n",
              "      fill: #FFFFFF;\n",
              "    }\n",
              "  </style>\n",
              "\n",
              "      <script>\n",
              "        const buttonEl =\n",
              "          document.querySelector('#df-d77c74e8-5adb-473f-a72d-13c023d2b0c6 button.colab-df-convert');\n",
              "        buttonEl.style.display =\n",
              "          google.colab.kernel.accessAllowed ? 'block' : 'none';\n",
              "\n",
              "        async function convertToInteractive(key) {\n",
              "          const element = document.querySelector('#df-d77c74e8-5adb-473f-a72d-13c023d2b0c6');\n",
              "          const dataTable =\n",
              "            await google.colab.kernel.invokeFunction('convertToInteractive',\n",
              "                                                     [key], {});\n",
              "          if (!dataTable) return;\n",
              "\n",
              "          const docLinkHtml = 'Like what you see? Visit the ' +\n",
              "            '<a target=\"_blank\" href=https://colab.research.google.com/notebooks/data_table.ipynb>data table notebook</a>'\n",
              "            + ' to learn more about interactive tables.';\n",
              "          element.innerHTML = '';\n",
              "          dataTable['output_type'] = 'display_data';\n",
              "          await google.colab.output.renderOutput(dataTable, element);\n",
              "          const docLink = document.createElement('div');\n",
              "          docLink.innerHTML = docLinkHtml;\n",
              "          element.appendChild(docLink);\n",
              "        }\n",
              "      </script>\n",
              "    </div>\n",
              "  </div>\n",
              "  "
            ]
          },
          "metadata": {},
          "execution_count": 13
        },
        {
          "output_type": "stream",
          "name": "stdout",
          "text": [
            "time: 441 ms (started: 2023-06-19 20:30:44 +00:00)\n"
          ]
        }
      ],
      "source": [
        "fakeMessages = df[df['Etiqueta'] == 0]\n",
        "fakeMessages"
      ]
    },
    {
      "cell_type": "markdown",
      "metadata": {
        "id": "b6I_HxA3qXuG"
      },
      "source": [
        "## Transformación de tipos"
      ]
    },
    {
      "cell_type": "markdown",
      "metadata": {
        "id": "edzLEcnu2Tmt"
      },
      "source": [
        "Las transformaciones implementadas aquí están explicadas en el documento."
      ]
    },
    {
      "cell_type": "code",
      "execution_count": null,
      "metadata": {
        "id": "EdSn4uiyptrn",
        "colab": {
          "base_uri": "https://localhost:8080/"
        },
        "outputId": "d3637e43-62db-4db4-8c7c-31e6ad13b58e"
      },
      "outputs": [
        {
          "output_type": "stream",
          "name": "stdout",
          "text": [
            "time: 3.82 ms (started: 2023-06-19 20:30:44 +00:00)\n"
          ]
        }
      ],
      "source": [
        "def transformData(df):\n",
        "  df = df.fillna(0)\n",
        "  df = df.apply(normalizeMessages, axis=1)\n",
        "  df[['ID', 'M1', 'M2', 'M3', 'M4', 'M5', 'M6', 'M7', 'M8']] = df[['ID', 'M1', 'M2', 'M3', 'M4', 'M5', 'M6', 'M7', 'M8']].applymap(lambda cell : int(str(cell), 16))\n",
        "  df['Etiqueta'] = df['Etiqueta'].apply(lambda cell : 1 if cell == 'R' else 0)\n",
        "  df['Delta'] = df['Tiempo'].diff()\n",
        "  df.tail(1)['Delta'] = df[['Delta']].mean()\n",
        "  df['Delta'] = df['Delta'].apply(np.float32)\n",
        "  df['Tiempo'] = pd.to_datetime(df['Tiempo'], unit='us')\n",
        "  df = df.fillna(0)\n",
        "\n",
        "  return df\n",
        "\n",
        "def normalizeMessages(row):\n",
        "  dlc = row['DLC']\n",
        "  if dlc < 8:\n",
        "      messageIndex = 'M' + str(int(dlc + 1))\n",
        "      row['Etiqueta'] = row[messageIndex]\n",
        "      row[messageIndex] = 0\n",
        "\n",
        "  return row"
      ]
    },
    {
      "cell_type": "code",
      "execution_count": null,
      "metadata": {
        "colab": {
          "base_uri": "https://localhost:8080/"
        },
        "id": "jycGGDy8qzo2",
        "outputId": "2bbe39cd-3011-45ca-e20e-fa457aa5965e"
      },
      "outputs": [
        {
          "output_type": "stream",
          "name": "stderr",
          "text": [
            "<ipython-input-14-3e4bbd79c47c>:7: SettingWithCopyWarning: \n",
            "A value is trying to be set on a copy of a slice from a DataFrame.\n",
            "Try using .loc[row_indexer,col_indexer] = value instead\n",
            "\n",
            "See the caveats in the documentation: https://pandas.pydata.org/pandas-docs/stable/user_guide/indexing.html#returning-a-view-versus-a-copy\n",
            "  df.tail(1)['Delta'] = df[['Delta']].mean()\n"
          ]
        },
        {
          "output_type": "stream",
          "name": "stdout",
          "text": [
            "Tiempo      datetime64[ns]\n",
            "ID                   int64\n",
            "DLC                  int64\n",
            "M1                   int64\n",
            "M2                   int64\n",
            "M3                   int64\n",
            "M4                   int64\n",
            "M5                   int64\n",
            "M6                   int64\n",
            "M7                   int64\n",
            "M8                   int64\n",
            "Etiqueta             int64\n",
            "Delta              float32\n",
            "dtype: object\n",
            "time: 3min 36s (started: 2023-06-19 20:30:44 +00:00)\n"
          ]
        }
      ],
      "source": [
        "df = transformData(df)\n",
        "print(df.dtypes)"
      ]
    },
    {
      "cell_type": "markdown",
      "metadata": {
        "id": "tbJM7i9N28I-"
      },
      "source": [
        "Gracias a esta celda, podemos comprobar que para los conjuntos de ataques DoS y Spoofing, los mensajes malintencionados son exactamente iguales entre sí menos las marcas de tiempo."
      ]
    },
    {
      "cell_type": "markdown",
      "source": [
        "## Correlación de variables"
      ],
      "metadata": {
        "id": "6aK_tBv68kok"
      }
    },
    {
      "cell_type": "markdown",
      "source": [
        "Para obtener la correlación entre variables del conjunto de datos, se ejecutaría el siguiente código:\n",
        "```\n",
        "def getCorrelation(df):\n",
        "\t  var_list = ['Tiempo', 'ID', 'DLC', 'M1', 'M2', 'M3', 'M4', 'M5', 'M6', 'M7', 'M8', 'Delta']\n",
        "\t  coef_matrix = numpy.zeros(shape=(len(var_list), len(var_list)))\n",
        "\t  for var1, var2 in list(itertools.combinations(enumerate(var_list), 2)):\n",
        "\t      coef_matrix[var1[0]][var2[0]] = df[var1[1]].corr(df[var2[1]])\n",
        "\n",
        "\t  plt.figure(figsize=(10, 10))\n",
        "\t  sns.set(font_scale=1.5)\n",
        "\n",
        "\t  sns.heatmap(coef_matrix,\n",
        "\t              cmap='coolwarm',\n",
        "\t              annot=False,\n",
        "\t              fmt='.5g',\n",
        "\t              vmax=1,\n",
        "\t              vmin=-1)\n",
        "\n",
        "\t  plt.xlabel('Predicted',fontsize=22)\n",
        "\t  plt.ylabel('Actual',fontsize=22)\n",
        "\t  plt.show()\n",
        "\n",
        "```"
      ],
      "metadata": {
        "id": "ZUvQhBHh8ngA"
      }
    },
    {
      "cell_type": "markdown",
      "metadata": {
        "id": "iwbZEXaisRDS"
      },
      "source": [
        "# Data Preparation\n",
        "\n",
        "La fase de Data Preparation, como dice su nombre, consiste en utilizar los procesos necesarios para dejar los datos preparados para las siguientes fases. El objetivo de esta fase es realizar todas las transformaciones necesarias que se consideren necesarias para producir uno o más conjuntos de datos preparados para la fase de modelado; así como añadir nuevos conjuntos de datos para enriquecer la población."
      ]
    },
    {
      "cell_type": "markdown",
      "metadata": {
        "id": "LD892mVFsVwu"
      },
      "source": [
        "## Selección de datos"
      ]
    },
    {
      "cell_type": "markdown",
      "metadata": {
        "id": "hwS31sJ-sXUw"
      },
      "source": [
        "### Exclusión de datos"
      ]
    },
    {
      "cell_type": "markdown",
      "metadata": {
        "id": "WpmJ1n9k3gwa"
      },
      "source": [
        "Vamos a realizar un muestreo sistemático y un muestreo estratificado."
      ]
    },
    {
      "cell_type": "code",
      "execution_count": null,
      "metadata": {
        "id": "nW2QlOCosgVi",
        "colab": {
          "base_uri": "https://localhost:8080/"
        },
        "outputId": "69255fb2-0a12-4923-8213-01bf2fb0b1e3"
      },
      "outputs": [
        {
          "output_type": "stream",
          "name": "stdout",
          "text": [
            "time: 994 µs (started: 2023-06-19 20:34:20 +00:00)\n"
          ]
        }
      ],
      "source": [
        "def stratifiedSampling(df, percentage):\n",
        "  normalMessages = df[df['Etiqueta'] == 1]\n",
        "  fakeMessages = df[df['Etiqueta'] == 0]\n",
        "\n",
        "  sizeNormal = int((len(fakeMessages) * (1 - percentage))/percentage)\n",
        "  normalMessages = normalMessages.sample(n=sizeNormal, replace=False, random_state=42)\n",
        "\n",
        "  stratifiedSample = pd.concat([fakeMessages, normalMessages])\n",
        "\n",
        "  df_stratified = stratifiedSample.reset_index(drop=True)\n",
        "\n",
        "  return df_stratified"
      ]
    },
    {
      "cell_type": "markdown",
      "metadata": {
        "id": "n7nHkgUl37DL"
      },
      "source": [
        "Para el muestreo sistemático, vamos a permitir solo los grupos con una concentración mayor al 10% de mensajes malintencionados.\n",
        "\n",
        "Para el muestreo estratificado, vamos a muestrear el conjunto para que el porcentaje de mensajes malintencionados sea del 30%."
      ]
    },
    {
      "cell_type": "code",
      "execution_count": null,
      "metadata": {
        "id": "x_6pVWLdsnhj",
        "colab": {
          "base_uri": "https://localhost:8080/"
        },
        "outputId": "c7d2b556-e68d-49b2-898f-ebb69fd7cd7b"
      },
      "outputs": [
        {
          "output_type": "stream",
          "name": "stdout",
          "text": [
            "time: 755 ms (started: 2023-06-19 20:34:20 +00:00)\n"
          ]
        }
      ],
      "source": [
        "df_stratified = stratifiedSampling(df, 0.3)"
      ]
    },
    {
      "cell_type": "markdown",
      "metadata": {
        "id": "R4MggoCb4QgB"
      },
      "source": [
        "### Exportación de muestras"
      ]
    },
    {
      "cell_type": "code",
      "execution_count": null,
      "metadata": {
        "colab": {
          "base_uri": "https://localhost:8080/"
        },
        "id": "j0dtNTGutTXS",
        "outputId": "c3e863a5-2e84-4923-ff6a-22c47760c775"
      },
      "outputs": [
        {
          "output_type": "stream",
          "name": "stdout",
          "text": [
            "time: 436 µs (started: 2023-06-19 20:34:21 +00:00)\n"
          ]
        }
      ],
      "source": [
        "def writeDataset(df, original_path, sample_type=None):\n",
        "  path = original_path.split('/')[-1].split('_')[0] + '_' + str(sample_type) + '.csv'\n",
        "  df.to_csv(path, index=False)"
      ]
    },
    {
      "cell_type": "code",
      "execution_count": null,
      "metadata": {
        "colab": {
          "base_uri": "https://localhost:8080/"
        },
        "id": "UfrkEpG7tUkL",
        "outputId": "c76d1a6c-7222-4985-f009-74a0b81d39fd"
      },
      "outputs": [
        {
          "output_type": "stream",
          "name": "stdout",
          "text": [
            "time: 13.2 s (started: 2023-06-19 20:34:21 +00:00)\n"
          ]
        }
      ],
      "source": [
        "writeDataset(df_stratified, path, 'stratified')"
      ]
    }
  ],
  "metadata": {
    "colab": {
      "provenance": [],
      "toc_visible": true
    },
    "kernelspec": {
      "display_name": "Python 3",
      "name": "python3"
    },
    "language_info": {
      "name": "python"
    },
    "widgets": {
      "application/vnd.jupyter.widget-state+json": {
        "b3fd8e5cb96c4fe79f0ad11197242b21": {
          "model_module": "@jupyter-widgets/controls",
          "model_name": "DropdownModel",
          "model_module_version": "1.5.0",
          "state": {
            "_dom_classes": [],
            "_model_module": "@jupyter-widgets/controls",
            "_model_module_version": "1.5.0",
            "_model_name": "DropdownModel",
            "_options_labels": [
              "DoS",
              "Fuzzy",
              "RPM",
              "Gear"
            ],
            "_view_count": null,
            "_view_module": "@jupyter-widgets/controls",
            "_view_module_version": "1.5.0",
            "_view_name": "DropdownView",
            "description": "",
            "description_tooltip": null,
            "disabled": false,
            "index": 0,
            "layout": "IPY_MODEL_c73843a1c42748ba8a316760eb182d8b",
            "style": "IPY_MODEL_78640e3f103d4fae94e7e4c826426d4c"
          }
        },
        "c73843a1c42748ba8a316760eb182d8b": {
          "model_module": "@jupyter-widgets/base",
          "model_name": "LayoutModel",
          "model_module_version": "1.2.0",
          "state": {
            "_model_module": "@jupyter-widgets/base",
            "_model_module_version": "1.2.0",
            "_model_name": "LayoutModel",
            "_view_count": null,
            "_view_module": "@jupyter-widgets/base",
            "_view_module_version": "1.2.0",
            "_view_name": "LayoutView",
            "align_content": null,
            "align_items": null,
            "align_self": null,
            "border": null,
            "bottom": null,
            "display": null,
            "flex": null,
            "flex_flow": null,
            "grid_area": null,
            "grid_auto_columns": null,
            "grid_auto_flow": null,
            "grid_auto_rows": null,
            "grid_column": null,
            "grid_gap": null,
            "grid_row": null,
            "grid_template_areas": null,
            "grid_template_columns": null,
            "grid_template_rows": null,
            "height": null,
            "justify_content": null,
            "justify_items": null,
            "left": null,
            "margin": null,
            "max_height": null,
            "max_width": null,
            "min_height": null,
            "min_width": null,
            "object_fit": null,
            "object_position": null,
            "order": null,
            "overflow": null,
            "overflow_x": null,
            "overflow_y": null,
            "padding": null,
            "right": null,
            "top": null,
            "visibility": null,
            "width": null
          }
        },
        "78640e3f103d4fae94e7e4c826426d4c": {
          "model_module": "@jupyter-widgets/controls",
          "model_name": "DescriptionStyleModel",
          "model_module_version": "1.5.0",
          "state": {
            "_model_module": "@jupyter-widgets/controls",
            "_model_module_version": "1.5.0",
            "_model_name": "DescriptionStyleModel",
            "_view_count": null,
            "_view_module": "@jupyter-widgets/base",
            "_view_module_version": "1.2.0",
            "_view_name": "StyleView",
            "description_width": ""
          }
        },
        "e066905bec0e480cb687eca422db5d85": {
          "model_module": "@jupyter-widgets/output",
          "model_name": "OutputModel",
          "model_module_version": "1.0.0",
          "state": {
            "_dom_classes": [],
            "_model_module": "@jupyter-widgets/output",
            "_model_module_version": "1.0.0",
            "_model_name": "OutputModel",
            "_view_count": null,
            "_view_module": "@jupyter-widgets/output",
            "_view_module_version": "1.0.0",
            "_view_name": "OutputView",
            "layout": "IPY_MODEL_fe186ed12b8448f1b84826d274ce2e99",
            "msg_id": "",
            "outputs": []
          }
        },
        "fe186ed12b8448f1b84826d274ce2e99": {
          "model_module": "@jupyter-widgets/base",
          "model_name": "LayoutModel",
          "model_module_version": "1.2.0",
          "state": {
            "_model_module": "@jupyter-widgets/base",
            "_model_module_version": "1.2.0",
            "_model_name": "LayoutModel",
            "_view_count": null,
            "_view_module": "@jupyter-widgets/base",
            "_view_module_version": "1.2.0",
            "_view_name": "LayoutView",
            "align_content": null,
            "align_items": null,
            "align_self": null,
            "border": null,
            "bottom": null,
            "display": null,
            "flex": null,
            "flex_flow": null,
            "grid_area": null,
            "grid_auto_columns": null,
            "grid_auto_flow": null,
            "grid_auto_rows": null,
            "grid_column": null,
            "grid_gap": null,
            "grid_row": null,
            "grid_template_areas": null,
            "grid_template_columns": null,
            "grid_template_rows": null,
            "height": null,
            "justify_content": null,
            "justify_items": null,
            "left": null,
            "margin": null,
            "max_height": null,
            "max_width": null,
            "min_height": null,
            "min_width": null,
            "object_fit": null,
            "object_position": null,
            "order": null,
            "overflow": null,
            "overflow_x": null,
            "overflow_y": null,
            "padding": null,
            "right": null,
            "top": null,
            "visibility": null,
            "width": null
          }
        }
      }
    }
  },
  "nbformat": 4,
  "nbformat_minor": 0
}