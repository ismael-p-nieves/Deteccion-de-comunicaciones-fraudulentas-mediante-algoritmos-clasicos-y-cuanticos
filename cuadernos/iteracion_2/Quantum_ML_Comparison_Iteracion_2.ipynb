{
  "cells": [
    {
      "cell_type": "markdown",
      "metadata": {
        "id": "h-AWi9z_tkqo"
      },
      "source": [
        "# Preparación"
      ]
    },
    {
      "cell_type": "code",
      "execution_count": null,
      "metadata": {
        "id": "5k9RMZSMtjQ-"
      },
      "outputs": [],
      "source": [
        "import numpy as np\n",
        "import csv\n",
        "import math\n",
        "import pandas as pd\n",
        "import matplotlib.pyplot as plt\n",
        "from sklearn.utils import resample\n",
        "import statsmodels.api as sm\n",
        "from sklearn.tree import DecisionTreeClassifier\n",
        "from sklearn.model_selection import train_test_split, GridSearchCV\n",
        "from sklearn.metrics import f1_score, confusion_matrix, accuracy_score, ConfusionMatrixDisplay\n",
        "from sklearn import svm, preprocessing\n",
        "from sklearn.ensemble import AdaBoostClassifier\n",
        "from tabulate import tabulate"
      ]
    },
    {
      "cell_type": "code",
      "execution_count": null,
      "metadata": {
        "colab": {
          "base_uri": "https://localhost:8080/"
        },
        "id": "ne_45RdBvtY_",
        "outputId": "c0ee4b97-60a7-4760-db79-7373707004a3"
      },
      "outputs": [
        {
          "output_type": "stream",
          "name": "stdout",
          "text": [
            "Mounted at /content/drive\n"
          ]
        }
      ],
      "source": [
        "from google.colab import drive\n",
        "drive.mount('/content/drive')"
      ]
    },
    {
      "cell_type": "code",
      "execution_count": null,
      "metadata": {
        "id": "6g2Z4-cilrML"
      },
      "outputs": [],
      "source": [
        "%%capture\n",
        "!pip install ipywidgets\n",
        "# To enable `ipywidgets`\n",
        "!jupyter nbextension enable --py widgetsnbextension"
      ]
    },
    {
      "cell_type": "code",
      "execution_count": null,
      "metadata": {
        "id": "wK4Pgk0hluFn"
      },
      "outputs": [],
      "source": [
        "from ipywidgets import widgets\n",
        "from IPython.display import display"
      ]
    },
    {
      "cell_type": "code",
      "execution_count": null,
      "metadata": {
        "colab": {
          "base_uri": "https://localhost:8080/"
        },
        "id": "BEnGhHPLtpi0",
        "outputId": "c7016368-799a-4e8b-a3eb-3ac3f3c5c739"
      },
      "outputs": [
        {
          "output_type": "stream",
          "name": "stdout",
          "text": [
            "\u001b[2K     \u001b[90m━━━━━━━━━━━━━━━━━━━━━━━━━━━━━━━━━━━━━━━━\u001b[0m \u001b[32m1.4/1.4 MB\u001b[0m \u001b[31m16.8 MB/s\u001b[0m eta \u001b[36m0:00:00\u001b[0m\n",
            "\u001b[2K     \u001b[90m━━━━━━━━━━━━━━━━━━━━━━━━━━━━━━━━━━━━━━━━\u001b[0m \u001b[32m45.4/45.4 kB\u001b[0m \u001b[31m4.0 MB/s\u001b[0m eta \u001b[36m0:00:00\u001b[0m\n",
            "\u001b[2K     \u001b[90m━━━━━━━━━━━━━━━━━━━━━━━━━━━━━━━━━━━━━━━━\u001b[0m \u001b[32m51.0/51.0 kB\u001b[0m \u001b[31m4.5 MB/s\u001b[0m eta \u001b[36m0:00:00\u001b[0m\n",
            "\u001b[?25h  Preparing metadata (setup.py) ... \u001b[?25l\u001b[?25hdone\n",
            "\u001b[2K     \u001b[90m━━━━━━━━━━━━━━━━━━━━━━━━━━━━━━━━━━━━━━━━\u001b[0m \u001b[32m4.3/4.3 MB\u001b[0m \u001b[31m45.3 MB/s\u001b[0m eta \u001b[36m0:00:00\u001b[0m\n",
            "\u001b[?25h  Building wheel for ligo-segments (setup.py) ... \u001b[?25l\u001b[?25hdone\n"
          ]
        }
      ],
      "source": [
        "!pip install -q gwpy"
      ]
    },
    {
      "cell_type": "code",
      "execution_count": null,
      "metadata": {
        "colab": {
          "base_uri": "https://localhost:8080/"
        },
        "id": "Egoun6VltsHy",
        "outputId": "ca02323f-e5c0-4cbf-c04a-87289a42e4e5"
      },
      "outputs": [
        {
          "output_type": "stream",
          "name": "stdout",
          "text": [
            "time: 545 µs (started: 2023-06-30 15:40:35 +00:00)\n"
          ]
        }
      ],
      "source": [
        "%%capture\n",
        "!pip install ipython-autotime\n",
        "%load_ext autotime"
      ]
    },
    {
      "cell_type": "code",
      "execution_count": null,
      "metadata": {
        "colab": {
          "base_uri": "https://localhost:8080/"
        },
        "id": "VBVce6gBT9Bz",
        "outputId": "0e9dcc78-58cf-4764-bba8-f66eaf468818"
      },
      "outputs": [
        {
          "output_type": "stream",
          "name": "stdout",
          "text": [
            "time: 34.5 s (started: 2023-06-30 15:40:35 +00:00)\n"
          ]
        }
      ],
      "source": [
        "%%capture\n",
        "!pip install dwave-ocean-sdk"
      ]
    },
    {
      "cell_type": "code",
      "execution_count": null,
      "metadata": {
        "colab": {
          "base_uri": "https://localhost:8080/"
        },
        "id": "oyQ1G1xDT_Ia",
        "outputId": "d0d0eb81-0126-4855-ac32-22312a4a698f"
      },
      "outputs": [
        {
          "output_type": "stream",
          "name": "stdout",
          "text": [
            "time: 1.73 s (started: 2023-06-30 15:41:10 +00:00)\n"
          ]
        }
      ],
      "source": [
        "%%capture\n",
        "!git clone https://github.com/dwavesystems/dwave-ocean-sdk.git\n",
        "!cd dwave-ocean-sdk\n",
        "!python setup.py install"
      ]
    },
    {
      "cell_type": "code",
      "execution_count": null,
      "metadata": {
        "colab": {
          "base_uri": "https://localhost:8080/"
        },
        "id": "LGi3eg6RUEnJ",
        "outputId": "f2101ffd-118f-4afc-c15f-fad17b78d471"
      },
      "outputs": [
        {
          "output_type": "stream",
          "name": "stdout",
          "text": [
            "time: 824 ms (started: 2023-06-30 15:41:11 +00:00)\n"
          ]
        }
      ],
      "source": [
        "import numpy.lib.recfunctions as rfn\n",
        "import dimod\n",
        "from dwave.system import LeapHybridSampler, EmbeddingComposite\n",
        "from dwave.system.samplers import DWaveSampler"
      ]
    },
    {
      "cell_type": "code",
      "execution_count": 1,
      "metadata": {
        "id": "Q6_4Kq_cDVwk"
      },
      "outputs": [],
      "source": [
        "def get_token(path):\n",
        "  with open(\"token.txt\", \"r\") as file:\n",
        "    token = file.read()\n",
        "\n",
        "  return token"
      ]
    },
    {
      "cell_type": "code",
      "execution_count": 2,
      "metadata": {
        "id": "5HEsXZonPLl9"
      },
      "outputs": [],
      "source": [
        "endpoint = 'https://cloud.dwavesys.com/sapi'\n",
        "token = get_token('token.txt')"
      ]
    },
    {
      "cell_type": "markdown",
      "metadata": {
        "id": "zfZUzv-ht22J"
      },
      "source": [
        "# Recolección de datos"
      ]
    },
    {
      "cell_type": "markdown",
      "metadata": {
        "id": "qTkrVpC8zhZU"
      },
      "source": [
        "Todos los conjuntos de datos están disponibles en Google Drive"
      ]
    },
    {
      "cell_type": "code",
      "execution_count": null,
      "metadata": {
        "colab": {
          "base_uri": "https://localhost:8080/",
          "height": 66,
          "referenced_widgets": [
            "2f78724cb699434c86ac2f46f8b20a03",
            "6672e14199024f33b7ca368a30acd1ae",
            "038eec08751447f0ac7c2c551baa70e1",
            "14b32bf499674a98b659880b76f69c17",
            "7a498f2deb6c43cb86c00056ece70682"
          ]
        },
        "id": "LBfsBczcnH5f",
        "outputId": "39fde11d-8298-4a40-b1a5-1445ddd15348"
      },
      "outputs": [
        {
          "output_type": "display_data",
          "data": {
            "text/plain": [
              "Dropdown(options=('DoS', 'Fuzzy', 'Gear', 'RPM'), value='DoS')"
            ],
            "application/vnd.jupyter.widget-view+json": {
              "version_major": 2,
              "version_minor": 0,
              "model_id": "2f78724cb699434c86ac2f46f8b20a03"
            }
          },
          "metadata": {}
        },
        {
          "output_type": "display_data",
          "data": {
            "text/plain": [
              "Output()"
            ],
            "application/vnd.jupyter.widget-view+json": {
              "version_major": 2,
              "version_minor": 0,
              "model_id": "14b32bf499674a98b659880b76f69c17"
            }
          },
          "metadata": {}
        },
        {
          "output_type": "stream",
          "name": "stdout",
          "text": [
            "time: 18.4 ms (started: 2023-06-30 15:41:12 +00:00)\n"
          ]
        }
      ],
      "source": [
        "dropdown = widgets.Dropdown(options =[\"DoS\", \"Fuzzy\", \"Gear\", \"RPM\"])\n",
        "output = widgets.Output()\n",
        "path = '/content/drive/MyDrive/tfg/datasets/DoS_stratified.csv'\n",
        "\n",
        "def select(change):\n",
        "  global path\n",
        "  output.clear_output()\n",
        "  if(change.new == 'DoS'):\n",
        "    with output:\n",
        "      path = '/content/drive/MyDrive/tfg/datasets/DoS_stratified.csv'\n",
        "  elif(change.new == 'Fuzzy'):\n",
        "    with output:\n",
        "      path = '/content/drive/MyDrive/tfg/datasets/Fuzzy_stratified.csv'\n",
        "  elif(change.new == 'Gear'):\n",
        "    with output:\n",
        "      path = '/content/drive/MyDrive/tfg/datasets/gear_stratified.csv'\n",
        "  elif(change.new == 'RPM'):\n",
        "    with output:\n",
        "      path = '/content/drive/MyDrive/tfg/datasets/RPM_stratified.csv'\n",
        "  else:\n",
        "    with output:\n",
        "      display(\"Error: option not found\")\n",
        "\n",
        "dropdown.observe(select, names=\"value\")\n",
        "display(dropdown)\n",
        "display(output)"
      ]
    },
    {
      "cell_type": "code",
      "execution_count": null,
      "metadata": {
        "colab": {
          "base_uri": "https://localhost:8080/"
        },
        "id": "IVIPWOaXkt8s",
        "outputId": "a9a98824-ef1a-4536-8042-be0d8ace84d0"
      },
      "outputs": [
        {
          "output_type": "stream",
          "name": "stdout",
          "text": [
            "time: 5.67 s (started: 2023-06-30 15:53:01 +00:00)\n"
          ]
        }
      ],
      "source": [
        "columns = ['Tiempo', 'ID', 'DLC', 'M1', 'M2', 'M3', 'M4', 'M5', 'M6', 'M7', 'M8', 'Etiqueta', 'Delta']\n",
        "df = pd.read_csv(path, delimiter=',', header=0, names=columns)\n",
        "\n",
        "time_column = ['Tiempo']\n",
        "# x_columns = ['ID', 'M1', 'M2', 'M3', 'M4', 'M5', 'M6', 'M7', 'M8', 'Delta']\n",
        "x_columns = ['ID', 'M1', 'M2', 'M3', 'M4', 'M5', 'M6', 'M7', 'M8']\n",
        "y_columns = ['Etiqueta']"
      ]
    },
    {
      "cell_type": "markdown",
      "metadata": {
        "id": "yma03Ws4txLG"
      },
      "source": [
        "# Data Understanding"
      ]
    },
    {
      "cell_type": "markdown",
      "metadata": {
        "id": "Zu7WuBvcuGD8"
      },
      "source": [
        "## Transformación de tipos"
      ]
    },
    {
      "cell_type": "markdown",
      "metadata": {
        "id": "-ZTUPasVDiDC"
      },
      "source": [
        "Vamos a cambiar los tipos de datos de las columnas para que el conjunto de datos ocupe menos."
      ]
    },
    {
      "cell_type": "code",
      "execution_count": null,
      "metadata": {
        "colab": {
          "base_uri": "https://localhost:8080/"
        },
        "id": "YtURHtMCuIxr",
        "outputId": "2221697e-1441-410a-b8a5-481d30c4856b"
      },
      "outputs": [
        {
          "output_type": "stream",
          "name": "stdout",
          "text": [
            "time: 805 µs (started: 2023-06-30 15:47:07 +00:00)\n"
          ]
        }
      ],
      "source": [
        "%%capture\n",
        "def transformData(df):\n",
        "  df = df.drop(['Tiempo', 'DLC'], axis=1)\n",
        "  df['ID'] = df['ID'].astype('int16')\n",
        "  df[['M1', 'M2', 'M3', 'M4', 'M5', 'M6', 'M7', 'M8']] = df[['M1', 'M2', 'M3', 'M4', 'M5', 'M6', 'M7', 'M8']].astype('int8')\n",
        "  df['Etiqueta'] = df['Etiqueta'].astype('bool')\n",
        "\n",
        "  return df"
      ]
    },
    {
      "cell_type": "code",
      "source": [
        "%%capture\n",
        "def transformData(df):\n",
        "  df = df.drop(['Tiempo', 'DLC', 'Delta'], axis=1)\n",
        "  df['ID'] = df['ID'].astype('int16')\n",
        "  df[['M1', 'M2', 'M3', 'M4', 'M5', 'M6', 'M7', 'M8']] = df[['M1', 'M2', 'M3', 'M4', 'M5', 'M6', 'M7', 'M8']].astype('int8')\n",
        "  df['Etiqueta'] = df['Etiqueta'].astype('bool')\n",
        "\n",
        "  return df"
      ],
      "metadata": {
        "colab": {
          "base_uri": "https://localhost:8080/"
        },
        "id": "OAvYmqVa_TDm",
        "outputId": "f8e8e439-cd44-4276-f8a9-e638db68ee59"
      },
      "execution_count": null,
      "outputs": [
        {
          "output_type": "stream",
          "name": "stdout",
          "text": [
            "time: 820 µs (started: 2023-06-30 15:53:09 +00:00)\n"
          ]
        }
      ]
    },
    {
      "cell_type": "code",
      "execution_count": null,
      "metadata": {
        "colab": {
          "base_uri": "https://localhost:8080/"
        },
        "id": "iyGmhzVvuKDu",
        "outputId": "cde0e0bc-9327-4f33-83ff-7b1f1f8484b4"
      },
      "outputs": [
        {
          "output_type": "stream",
          "name": "stdout",
          "text": [
            "ID          int16\n",
            "M1           int8\n",
            "M2           int8\n",
            "M3           int8\n",
            "M4           int8\n",
            "M5           int8\n",
            "M6           int8\n",
            "M7           int8\n",
            "M8           int8\n",
            "Etiqueta     bool\n",
            "dtype: object\n",
            "time: 363 ms (started: 2023-06-30 15:53:15 +00:00)\n"
          ]
        }
      ],
      "source": [
        "df = transformData(df)\n",
        "print(df.dtypes)"
      ]
    },
    {
      "cell_type": "markdown",
      "metadata": {
        "id": "0T2WGv46iNKo"
      },
      "source": [
        "## Exportación de muestras"
      ]
    },
    {
      "cell_type": "code",
      "execution_count": null,
      "metadata": {
        "colab": {
          "base_uri": "https://localhost:8080/"
        },
        "id": "oVEfEXeWiQQd",
        "outputId": "f9183898-11be-4221-a71d-40de6c1e07d5"
      },
      "outputs": [
        {
          "name": "stdout",
          "output_type": "stream",
          "text": [
            "time: 1.03 ms (started: 2023-06-29 08:43:40 +00:00)\n"
          ]
        }
      ],
      "source": [
        "def writeDataset(df, original_path, sample_type=None):\n",
        "  path = original_path.split('/')[-1].split('_')[0] + '_' + str(sample_type) + '.csv'\n",
        "  df.to_csv(path, index=False)"
      ]
    },
    {
      "cell_type": "code",
      "execution_count": null,
      "metadata": {
        "colab": {
          "base_uri": "https://localhost:8080/",
          "height": 182
        },
        "id": "xfIJ4lGWiSNG",
        "outputId": "20eca257-29d9-490a-ea71-df0ed1ec2499"
      },
      "outputs": [
        {
          "ename": "NameError",
          "evalue": "ignored",
          "output_type": "error",
          "traceback": [
            "\u001b[0;31m---------------------------------------------------------------------------\u001b[0m",
            "\u001b[0;31mNameError\u001b[0m                                 Traceback (most recent call last)",
            "\u001b[0;32m<ipython-input-26-9f881eb68322>\u001b[0m in \u001b[0;36m<cell line: 1>\u001b[0;34m()\u001b[0m\n\u001b[0;32m----> 1\u001b[0;31m \u001b[0mwriteDataset\u001b[0m\u001b[0;34m(\u001b[0m\u001b[0mdf\u001b[0m\u001b[0;34m,\u001b[0m \u001b[0mpath\u001b[0m\u001b[0;34m,\u001b[0m \u001b[0;34m'optimized'\u001b[0m\u001b[0;34m)\u001b[0m\u001b[0;34m\u001b[0m\u001b[0;34m\u001b[0m\u001b[0m\n\u001b[0m",
            "\u001b[0;31mNameError\u001b[0m: name 'writeDataset' is not defined"
          ]
        },
        {
          "name": "stdout",
          "output_type": "stream",
          "text": [
            "time: 16.4 ms (started: 2023-06-29 16:51:25 +00:00)\n"
          ]
        }
      ],
      "source": [
        "writeDataset(df, path, 'optimized')"
      ]
    },
    {
      "cell_type": "markdown",
      "metadata": {
        "id": "v2ysSxSqvY6o"
      },
      "source": [
        "# Modeling"
      ]
    },
    {
      "cell_type": "markdown",
      "metadata": {
        "id": "Wd7nMcfvpyeh"
      },
      "source": [
        "## Computación clásica"
      ]
    },
    {
      "cell_type": "markdown",
      "metadata": {
        "id": "xEecgTc2p0nx"
      },
      "source": [
        "Por motivos de completitud, vamos a utilizar la técnica de hiperparametrización para los algoritmos clásicos. Esto nos va a permitir encontrar los mejores valores que podemos asignar a los parámetros para obtener los mejores resultados."
      ]
    },
    {
      "cell_type": "code",
      "execution_count": null,
      "metadata": {
        "colab": {
          "base_uri": "https://localhost:8080/"
        },
        "id": "pHd22TNlTAYZ",
        "outputId": "92b037da-358b-4bec-d26a-7f39800a4283"
      },
      "outputs": [
        {
          "output_type": "stream",
          "name": "stdout",
          "text": [
            "time: 1.6 s (started: 2023-06-30 15:47:08 +00:00)\n"
          ]
        }
      ],
      "source": [
        "ds = df\n",
        "\n",
        "train, test = train_test_split(ds, test_size=0.2, random_state=42)\n",
        "\n",
        "x_train = train[x_columns]\n",
        "y_train = train[y_columns]\n",
        "\n",
        "x_test = test[x_columns]\n",
        "y_test = test[y_columns]"
      ]
    },
    {
      "cell_type": "code",
      "execution_count": null,
      "metadata": {
        "colab": {
          "base_uri": "https://localhost:8080/"
        },
        "id": "y7Q23Pre5U17",
        "outputId": "ef1c6792-3d2e-4bf8-bcc6-addc3d52740b"
      },
      "outputs": [
        {
          "name": "stdout",
          "output_type": "stream",
          "text": [
            "1.0\n",
            "  Variable  Relevancia\n",
            "0       ID         1.0\n",
            "1       M1         0.0\n",
            "2       M2         0.0\n",
            "3       M3         0.0\n",
            "4       M4         0.0\n",
            "5       M5         0.0\n",
            "6       M6         0.0\n",
            "7       M7         0.0\n",
            "8       M8         0.0\n",
            "9    Delta         0.0\n",
            "time: 1.36 s (started: 2023-06-29 09:06:16 +00:00)\n"
          ]
        }
      ],
      "source": [
        "from sklearn.tree import DecisionTreeClassifier\n",
        "clf = DecisionTreeClassifier(random_state=0)\n",
        "clf.fit(x_train,y_train)\n",
        "y_pred = clf.predict(x_test)\n",
        "f1_sc = f1_score(y_test, y_pred, average='micro')\n",
        "print(f1_sc)\n",
        "df_relevancia = pd.DataFrame({'Variable': clf.feature_names_in_, 'Relevancia': clf.feature_importances_})\n",
        "df_relevancia = df_relevancia.sort_values('Relevancia', ascending=False)\n",
        "print(df_relevancia)\n"
      ]
    },
    {
      "cell_type": "markdown",
      "metadata": {
        "id": "qX3H3XkPqMQu"
      },
      "source": [
        "### SVM"
      ]
    },
    {
      "cell_type": "markdown",
      "metadata": {
        "id": "HDJupna0qMQu"
      },
      "source": [
        "Para utilizar la hiperparametrización, vamos a definir la siguiente matriz de parámetros."
      ]
    },
    {
      "cell_type": "code",
      "execution_count": null,
      "metadata": {
        "colab": {
          "base_uri": "https://localhost:8080/"
        },
        "id": "XvQ3WaApqMQu",
        "outputId": "af9bcc36-bbdc-4d4b-a2b9-ea0009410e28"
      },
      "outputs": [
        {
          "name": "stdout",
          "output_type": "stream",
          "text": [
            "time: 1h 17min 34s (started: 2023-06-30 00:28:15 +00:00)\n"
          ]
        }
      ],
      "source": [
        "%%capture\n",
        "param_grid = [{'C': [1, 2, 5], 'max_iter': [50, 100, 200, 500], 'kernel': ['linear', 'rbf', 'poly']}]\n",
        "\n",
        "svmClf = svm.SVC()\n",
        "clf = GridSearchCV(svmClf, param_grid)\n",
        "clf.fit(x_train, y_train)"
      ]
    },
    {
      "cell_type": "code",
      "execution_count": null,
      "metadata": {
        "colab": {
          "base_uri": "https://localhost:8080/"
        },
        "id": "dGsM_GwsqMQu",
        "outputId": "c8850210-bb34-4b6b-9fce-af982c7267e7"
      },
      "outputs": [
        {
          "name": "stdout",
          "output_type": "stream",
          "text": [
            "time: 10.2 s (started: 2023-06-30 01:45:49 +00:00)\n"
          ]
        }
      ],
      "source": [
        "y_pred = clf.predict(x_test)"
      ]
    },
    {
      "cell_type": "code",
      "execution_count": null,
      "metadata": {
        "colab": {
          "base_uri": "https://localhost:8080/"
        },
        "id": "SCHMvA7VqMQu",
        "outputId": "128ee647-ef42-4251-b0fd-6e41b714de59"
      },
      "outputs": [
        {
          "name": "stdout",
          "output_type": "stream",
          "text": [
            "F1 Score Result: 0.7107149174438392\n",
            "Best parameters: {'C': 1, 'kernel': 'poly', 'max_iter': 500}\n",
            "time: 178 ms (started: 2023-06-30 01:45:59 +00:00)\n"
          ]
        }
      ],
      "source": [
        "f1_sc = f1_score(y_test, y_pred, average='micro')\n",
        "print(f'F1 Score Result: {f1_sc}')\n",
        "print(f'Best parameters: {clf.best_params_}')"
      ]
    },
    {
      "cell_type": "code",
      "execution_count": null,
      "metadata": {
        "colab": {
          "base_uri": "https://localhost:8080/",
          "height": 466
        },
        "id": "xUHyPXMxqkzH",
        "outputId": "ff02f90b-e786-43a9-8c8a-f6c3ac58b610"
      },
      "outputs": [
        {
          "data": {
            "image/png": "[encoded data removed]",
            "text/plain": [
              "<Figure size 640x480 with 2 Axes>"
            ]
          },
          "metadata": {},
          "output_type": "display_data"
        },
        {
          "name": "stdout",
          "output_type": "stream",
          "text": [
            "time: 469 ms (started: 2023-06-30 01:46:00 +00:00)\n"
          ]
        }
      ],
      "source": [
        "cm = confusion_matrix(y_test, y_pred, labels=clf.classes_)\n",
        "disp = ConfusionMatrixDisplay(confusion_matrix=cm, display_labels=clf.classes_)\n",
        "disp.plot()\n",
        "plt.show()"
      ]
    },
    {
      "cell_type": "markdown",
      "metadata": {
        "id": "Nx_iRLfMqb7N"
      },
      "source": [
        "### AdaBoost"
      ]
    },
    {
      "cell_type": "code",
      "execution_count": null,
      "metadata": {
        "colab": {
          "background_save": true
        },
        "id": "N0wc95MQqb7T",
        "outputId": "04bd3fad-1137-452f-dca4-c9cecbed8cbb"
      },
      "outputs": [
        {
          "name": "stdout",
          "output_type": "stream",
          "text": [
            "time: 4h 31min 22s (started: 2023-06-30 07:52:51 +00:00)\n"
          ]
        }
      ],
      "source": [
        "%%capture\n",
        "param_grid = [{'n_estimators': [50, 100, 150, 200], 'learning_rate': [0.1, 0.25, 0.5, 1, 2], 'random_state': [42]}]\n",
        "\n",
        "adaClf = AdaBoostClassifier(n_estimators=100, random_state=42)\n",
        "clf = GridSearchCV(adaClf, param_grid)\n",
        "clf.fit(x_train, y_train)"
      ]
    },
    {
      "cell_type": "code",
      "execution_count": null,
      "metadata": {
        "colab": {
          "background_save": true
        },
        "id": "rK8pnxD-qb7T",
        "outputId": "469dff54-0aa8-47fb-921d-f725a508d687"
      },
      "outputs": [
        {
          "name": "stdout",
          "output_type": "stream",
          "text": [
            "time: 7.82 s (started: 2023-06-30 12:24:13 +00:00)\n"
          ]
        }
      ],
      "source": [
        "y_pred = clf.predict(x_test)"
      ]
    },
    {
      "cell_type": "code",
      "execution_count": null,
      "metadata": {
        "colab": {
          "background_save": true
        },
        "id": "9jNe065oqb7U",
        "outputId": "dc1ee336-c98d-455a-e32d-72def345c1cd"
      },
      "outputs": [
        {
          "name": "stdout",
          "output_type": "stream",
          "text": [
            "F1 Score Result: 0.9999664529823299\n",
            "Best parameters: {'learning_rate': 1, 'n_estimators': 200, 'random_state': 42}\n",
            "time: 131 ms (started: 2023-06-30 12:24:21 +00:00)\n"
          ]
        }
      ],
      "source": [
        "f1_sc = f1_score(y_test, y_pred, average='micro')\n",
        "print(f'F1 Score Result: {f1_sc}')\n",
        "print(f'Best parameters: {clf.best_params_}')"
      ]
    },
    {
      "cell_type": "code",
      "execution_count": null,
      "metadata": {
        "colab": {
          "background_save": true
        },
        "id": "wHcW9uWXqjgZ",
        "outputId": "a4d1e4fb-8c9b-4513-e20b-f5e95f31a2ca"
      },
      "outputs": [
        {
          "data": {
            "image/png": "[encoded data removed]",
            "text/plain": [
              "<Figure size 640x480 with 2 Axes>"
            ]
          },
          "metadata": {},
          "output_type": "display_data"
        },
        {
          "name": "stdout",
          "output_type": "stream",
          "text": [
            "time: 344 ms (started: 2023-06-30 12:24:21 +00:00)\n"
          ]
        }
      ],
      "source": [
        "cm = confusion_matrix(y_test, y_pred, labels=clf.classes_)\n",
        "disp = ConfusionMatrixDisplay(confusion_matrix=cm, display_labels=clf.classes_)\n",
        "disp.plot()\n",
        "plt.show()"
      ]
    },
    {
      "cell_type": "markdown",
      "metadata": {
        "id": "HxEEMUkwqNYa"
      },
      "source": [
        "## Comparación de algoritmos SVM"
      ]
    },
    {
      "cell_type": "markdown",
      "metadata": {
        "id": "EjKrGSoBEBhc"
      },
      "source": [
        "Gracias al preprocesamiento realizado en esta iteración, hemos podido aumentar el tamaño de los conjuntos que pueden tomar como entrada cada modelo.\n",
        "\n",
        "El objetivo de esta iteración es comprobar si normalizando los conjuntos de datos y utilizando la técnica de hiperparametrización podemos conseguir mejores resultados en los modelos cuánticos."
      ]
    },
    {
      "cell_type": "code",
      "execution_count": null,
      "metadata": {
        "colab": {
          "base_uri": "https://localhost:8080/"
        },
        "id": "ErSoB6ERF9fF",
        "outputId": "7a3b4984-a62a-4de8-983c-177d8db8d2bf"
      },
      "outputs": [
        {
          "output_type": "stream",
          "name": "stdout",
          "text": [
            "time: 1.8 s (started: 2023-06-30 15:53:36 +00:00)\n"
          ]
        }
      ],
      "source": [
        "d = preprocessing.normalize(df[x_columns])\n",
        "df_normalized = pd.DataFrame(d, columns=df.columns)\n",
        "df_normalized[y_columns] = df[y_columns]"
      ]
    },
    {
      "cell_type": "code",
      "execution_count": null,
      "metadata": {
        "colab": {
          "base_uri": "https://localhost:8080/"
        },
        "id": "Iv4cG6KxhSFU",
        "outputId": "79c6da4c-0a9c-4f09-fe71-e5436e388d6d"
      },
      "outputs": [
        {
          "output_type": "stream",
          "name": "stdout",
          "text": [
            "time: 485 ms (started: 2023-06-30 15:53:38 +00:00)\n"
          ]
        }
      ],
      "source": [
        "ds = df_normalized.sample(n=80, replace=False, random_state=42)"
      ]
    },
    {
      "cell_type": "code",
      "execution_count": null,
      "metadata": {
        "colab": {
          "base_uri": "https://localhost:8080/"
        },
        "id": "-Lpu7l24pNVp",
        "outputId": "ba4a7f83-f0ee-4fa0-e30f-766ef6ad4145"
      },
      "outputs": [
        {
          "output_type": "stream",
          "name": "stdout",
          "text": [
            "time: 22.5 ms (started: 2023-06-30 15:53:39 +00:00)\n"
          ]
        }
      ],
      "source": [
        "train, test = train_test_split(ds, test_size=0.2, random_state=42)\n",
        "\n",
        "x_train = train[x_columns]\n",
        "y_train = train[y_columns]\n",
        "\n",
        "x_test = test[x_columns]\n",
        "y_test = test[y_columns]"
      ]
    },
    {
      "cell_type": "markdown",
      "metadata": {
        "id": "xWllVOfdnH7W"
      },
      "source": [
        "### SVM"
      ]
    },
    {
      "cell_type": "markdown",
      "metadata": {
        "id": "yKH1MZ3uESi5"
      },
      "source": [
        "Para utilizar la hiperparametrización, vamos a definir la siguiente matriz de parámetros."
      ]
    },
    {
      "cell_type": "code",
      "execution_count": null,
      "metadata": {
        "colab": {
          "base_uri": "https://localhost:8080/",
          "height": 727
        },
        "id": "NjfNpSlpnLI1",
        "outputId": "7c37d3e1-3c0a-4c24-fcac-d87889630f42"
      },
      "outputs": [
        {
          "ename": "ValueError",
          "evalue": "ignored",
          "output_type": "error",
          "traceback": [
            "\u001b[0;31m---------------------------------------------------------------------------\u001b[0m",
            "\u001b[0;31mValueError\u001b[0m                                Traceback (most recent call last)",
            "\u001b[0;32m<ipython-input-23-23c724f87061>\u001b[0m in \u001b[0;36m<cell line: 8>\u001b[0;34m()\u001b[0m\n\u001b[1;32m      6\u001b[0m \u001b[0msvmClf\u001b[0m \u001b[0;34m=\u001b[0m \u001b[0msvm\u001b[0m\u001b[0;34m.\u001b[0m\u001b[0mSVC\u001b[0m\u001b[0;34m(\u001b[0m\u001b[0;34m)\u001b[0m\u001b[0;34m\u001b[0m\u001b[0;34m\u001b[0m\u001b[0m\n\u001b[1;32m      7\u001b[0m \u001b[0mclf\u001b[0m \u001b[0;34m=\u001b[0m \u001b[0mGridSearchCV\u001b[0m\u001b[0;34m(\u001b[0m\u001b[0msvmClf\u001b[0m\u001b[0;34m,\u001b[0m \u001b[0mparam_grid\u001b[0m\u001b[0;34m)\u001b[0m\u001b[0;34m\u001b[0m\u001b[0;34m\u001b[0m\u001b[0m\n\u001b[0;32m----> 8\u001b[0;31m \u001b[0mclf\u001b[0m\u001b[0;34m.\u001b[0m\u001b[0mfit\u001b[0m\u001b[0;34m(\u001b[0m\u001b[0mx_train\u001b[0m\u001b[0;34m,\u001b[0m \u001b[0my_train\u001b[0m\u001b[0;34m)\u001b[0m\u001b[0;34m\u001b[0m\u001b[0;34m\u001b[0m\u001b[0m\n\u001b[0m",
            "\u001b[0;32m/usr/local/lib/python3.10/dist-packages/sklearn/model_selection/_search.py\u001b[0m in \u001b[0;36mfit\u001b[0;34m(self, X, y, groups, **fit_params)\u001b[0m\n\u001b[1;32m    872\u001b[0m                 \u001b[0;32mreturn\u001b[0m \u001b[0mresults\u001b[0m\u001b[0;34m\u001b[0m\u001b[0;34m\u001b[0m\u001b[0m\n\u001b[1;32m    873\u001b[0m \u001b[0;34m\u001b[0m\u001b[0m\n\u001b[0;32m--> 874\u001b[0;31m             \u001b[0mself\u001b[0m\u001b[0;34m.\u001b[0m\u001b[0m_run_search\u001b[0m\u001b[0;34m(\u001b[0m\u001b[0mevaluate_candidates\u001b[0m\u001b[0;34m)\u001b[0m\u001b[0;34m\u001b[0m\u001b[0;34m\u001b[0m\u001b[0m\n\u001b[0m\u001b[1;32m    875\u001b[0m \u001b[0;34m\u001b[0m\u001b[0m\n\u001b[1;32m    876\u001b[0m             \u001b[0;31m# multimetric is determined here because in the case of a callable\u001b[0m\u001b[0;34m\u001b[0m\u001b[0;34m\u001b[0m\u001b[0m\n",
            "\u001b[0;32m/usr/local/lib/python3.10/dist-packages/sklearn/model_selection/_search.py\u001b[0m in \u001b[0;36m_run_search\u001b[0;34m(self, evaluate_candidates)\u001b[0m\n\u001b[1;32m   1386\u001b[0m     \u001b[0;32mdef\u001b[0m \u001b[0m_run_search\u001b[0m\u001b[0;34m(\u001b[0m\u001b[0mself\u001b[0m\u001b[0;34m,\u001b[0m \u001b[0mevaluate_candidates\u001b[0m\u001b[0;34m)\u001b[0m\u001b[0;34m:\u001b[0m\u001b[0;34m\u001b[0m\u001b[0;34m\u001b[0m\u001b[0m\n\u001b[1;32m   1387\u001b[0m         \u001b[0;34m\"\"\"Search all candidates in param_grid\"\"\"\u001b[0m\u001b[0;34m\u001b[0m\u001b[0;34m\u001b[0m\u001b[0m\n\u001b[0;32m-> 1388\u001b[0;31m         \u001b[0mevaluate_candidates\u001b[0m\u001b[0;34m(\u001b[0m\u001b[0mParameterGrid\u001b[0m\u001b[0;34m(\u001b[0m\u001b[0mself\u001b[0m\u001b[0;34m.\u001b[0m\u001b[0mparam_grid\u001b[0m\u001b[0;34m)\u001b[0m\u001b[0;34m)\u001b[0m\u001b[0;34m\u001b[0m\u001b[0;34m\u001b[0m\u001b[0m\n\u001b[0m\u001b[1;32m   1389\u001b[0m \u001b[0;34m\u001b[0m\u001b[0m\n\u001b[1;32m   1390\u001b[0m \u001b[0;34m\u001b[0m\u001b[0m\n",
            "\u001b[0;32m/usr/local/lib/python3.10/dist-packages/sklearn/model_selection/_search.py\u001b[0m in \u001b[0;36mevaluate_candidates\u001b[0;34m(candidate_params, cv, more_results)\u001b[0m\n\u001b[1;32m    849\u001b[0m                     )\n\u001b[1;32m    850\u001b[0m \u001b[0;34m\u001b[0m\u001b[0m\n\u001b[0;32m--> 851\u001b[0;31m                 \u001b[0m_warn_or_raise_about_fit_failures\u001b[0m\u001b[0;34m(\u001b[0m\u001b[0mout\u001b[0m\u001b[0;34m,\u001b[0m \u001b[0mself\u001b[0m\u001b[0;34m.\u001b[0m\u001b[0merror_score\u001b[0m\u001b[0;34m)\u001b[0m\u001b[0;34m\u001b[0m\u001b[0;34m\u001b[0m\u001b[0m\n\u001b[0m\u001b[1;32m    852\u001b[0m \u001b[0;34m\u001b[0m\u001b[0m\n\u001b[1;32m    853\u001b[0m                 \u001b[0;31m# For callable self.scoring, the return type is only know after\u001b[0m\u001b[0;34m\u001b[0m\u001b[0;34m\u001b[0m\u001b[0m\n",
            "\u001b[0;32m/usr/local/lib/python3.10/dist-packages/sklearn/model_selection/_validation.py\u001b[0m in \u001b[0;36m_warn_or_raise_about_fit_failures\u001b[0;34m(results, error_score)\u001b[0m\n\u001b[1;32m    365\u001b[0m                 \u001b[0;34mf\"Below are more details about the failures:\\n{fit_errors_summary}\"\u001b[0m\u001b[0;34m\u001b[0m\u001b[0;34m\u001b[0m\u001b[0m\n\u001b[1;32m    366\u001b[0m             )\n\u001b[0;32m--> 367\u001b[0;31m             \u001b[0;32mraise\u001b[0m \u001b[0mValueError\u001b[0m\u001b[0;34m(\u001b[0m\u001b[0mall_fits_failed_message\u001b[0m\u001b[0;34m)\u001b[0m\u001b[0;34m\u001b[0m\u001b[0;34m\u001b[0m\u001b[0m\n\u001b[0m\u001b[1;32m    368\u001b[0m \u001b[0;34m\u001b[0m\u001b[0m\n\u001b[1;32m    369\u001b[0m         \u001b[0;32melse\u001b[0m\u001b[0;34m:\u001b[0m\u001b[0;34m\u001b[0m\u001b[0;34m\u001b[0m\u001b[0m\n",
            "\u001b[0;31mValueError\u001b[0m: \nAll the 180 fits failed.\nIt is very likely that your model is misconfigured.\nYou can try to debug the error by setting error_score='raise'.\n\nBelow are more details about the failures:\n--------------------------------------------------------------------------------\n180 fits failed with the following error:\nTraceback (most recent call last):\n  File \"/usr/local/lib/python3.10/dist-packages/sklearn/model_selection/_validation.py\", line 686, in _fit_and_score\n    estimator.fit(X_train, y_train, **fit_params)\n  File \"/usr/local/lib/python3.10/dist-packages/sklearn/svm/_base.py\", line 201, in fit\n    y = self._validate_targets(y)\n  File \"/usr/local/lib/python3.10/dist-packages/sklearn/svm/_base.py\", line 745, in _validate_targets\n    check_classification_targets(y)\n  File \"/usr/local/lib/python3.10/dist-packages/sklearn/utils/multiclass.py\", line 218, in check_classification_targets\n    raise ValueError(\"Unknown label type: %r\" % y_type)\nValueError: Unknown label type: 'continuous'\n"
          ]
        },
        {
          "name": "stdout",
          "output_type": "stream",
          "text": [
            "time: 1.62 s (started: 2023-06-29 09:03:48 +00:00)\n"
          ]
        }
      ],
      "source": [
        "%%capture\n",
        "# param_grid = [{'C': [1, 2, 5], 'max_iter': [10000], 'kernel': ['linear']},\n",
        "#               {'C': [1, 2, 5], 'max_iter': [10000], 'kernel': ['rbf', 'poly']}]\n",
        "\n",
        "param_grid = [{'C': [1, 2, 5], 'max_iter': [50, 100, 200, 500], 'kernel': ['linear', 'rbf', 'poly']}]\n",
        "\n",
        "svmClf = svm.SVC()\n",
        "clf = GridSearchCV(svmClf, param_grid)\n",
        "clf.fit(x_train, y_train)"
      ]
    },
    {
      "cell_type": "code",
      "execution_count": null,
      "metadata": {
        "colab": {
          "base_uri": "https://localhost:8080/",
          "height": 363
        },
        "id": "lVxZxaIB9GaL",
        "outputId": "3d7a0dc1-1a1b-4991-dca9-2f9e4c51a82b"
      },
      "outputs": [
        {
          "ename": "NotFittedError",
          "evalue": "ignored",
          "output_type": "error",
          "traceback": [
            "\u001b[0;31m---------------------------------------------------------------------------\u001b[0m",
            "\u001b[0;31mNotFittedError\u001b[0m                            Traceback (most recent call last)",
            "\u001b[0;32m<ipython-input-22-3f5cd0c80b98>\u001b[0m in \u001b[0;36m<cell line: 1>\u001b[0;34m()\u001b[0m\n\u001b[0;32m----> 1\u001b[0;31m \u001b[0my_pred\u001b[0m \u001b[0;34m=\u001b[0m \u001b[0mclf\u001b[0m\u001b[0;34m.\u001b[0m\u001b[0mpredict\u001b[0m\u001b[0;34m(\u001b[0m\u001b[0mx_test\u001b[0m\u001b[0;34m)\u001b[0m\u001b[0;34m\u001b[0m\u001b[0;34m\u001b[0m\u001b[0m\n\u001b[0m",
            "\u001b[0;32m/usr/local/lib/python3.10/dist-packages/sklearn/model_selection/_search.py\u001b[0m in \u001b[0;36mpredict\u001b[0;34m(self, X)\u001b[0m\n\u001b[1;32m    496\u001b[0m             \u001b[0mthe\u001b[0m \u001b[0mbest\u001b[0m \u001b[0mfound\u001b[0m \u001b[0mparameters\u001b[0m\u001b[0;34m.\u001b[0m\u001b[0;34m\u001b[0m\u001b[0;34m\u001b[0m\u001b[0m\n\u001b[1;32m    497\u001b[0m         \"\"\"\n\u001b[0;32m--> 498\u001b[0;31m         \u001b[0mcheck_is_fitted\u001b[0m\u001b[0;34m(\u001b[0m\u001b[0mself\u001b[0m\u001b[0;34m)\u001b[0m\u001b[0;34m\u001b[0m\u001b[0;34m\u001b[0m\u001b[0m\n\u001b[0m\u001b[1;32m    499\u001b[0m         \u001b[0;32mreturn\u001b[0m \u001b[0mself\u001b[0m\u001b[0;34m.\u001b[0m\u001b[0mbest_estimator_\u001b[0m\u001b[0;34m.\u001b[0m\u001b[0mpredict\u001b[0m\u001b[0;34m(\u001b[0m\u001b[0mX\u001b[0m\u001b[0;34m)\u001b[0m\u001b[0;34m\u001b[0m\u001b[0;34m\u001b[0m\u001b[0m\n\u001b[1;32m    500\u001b[0m \u001b[0;34m\u001b[0m\u001b[0m\n",
            "\u001b[0;32m/usr/local/lib/python3.10/dist-packages/sklearn/utils/validation.py\u001b[0m in \u001b[0;36mcheck_is_fitted\u001b[0;34m(estimator, attributes, msg, all_or_any)\u001b[0m\n\u001b[1;32m   1388\u001b[0m \u001b[0;34m\u001b[0m\u001b[0m\n\u001b[1;32m   1389\u001b[0m     \u001b[0;32mif\u001b[0m \u001b[0;32mnot\u001b[0m \u001b[0mfitted\u001b[0m\u001b[0;34m:\u001b[0m\u001b[0;34m\u001b[0m\u001b[0;34m\u001b[0m\u001b[0m\n\u001b[0;32m-> 1390\u001b[0;31m         \u001b[0;32mraise\u001b[0m \u001b[0mNotFittedError\u001b[0m\u001b[0;34m(\u001b[0m\u001b[0mmsg\u001b[0m \u001b[0;34m%\u001b[0m \u001b[0;34m{\u001b[0m\u001b[0;34m\"name\"\u001b[0m\u001b[0;34m:\u001b[0m \u001b[0mtype\u001b[0m\u001b[0;34m(\u001b[0m\u001b[0mestimator\u001b[0m\u001b[0;34m)\u001b[0m\u001b[0;34m.\u001b[0m\u001b[0m__name__\u001b[0m\u001b[0;34m}\u001b[0m\u001b[0;34m)\u001b[0m\u001b[0;34m\u001b[0m\u001b[0;34m\u001b[0m\u001b[0m\n\u001b[0m\u001b[1;32m   1391\u001b[0m \u001b[0;34m\u001b[0m\u001b[0m\n\u001b[1;32m   1392\u001b[0m \u001b[0;34m\u001b[0m\u001b[0m\n",
            "\u001b[0;31mNotFittedError\u001b[0m: This GridSearchCV instance is not fitted yet. Call 'fit' with appropriate arguments before using this estimator."
          ]
        },
        {
          "name": "stdout",
          "output_type": "stream",
          "text": [
            "time: 14.5 ms (started: 2023-06-29 08:43:58 +00:00)\n"
          ]
        }
      ],
      "source": [
        "y_pred = clf.predict(x_test)"
      ]
    },
    {
      "cell_type": "code",
      "execution_count": null,
      "metadata": {
        "id": "KmxMAMwn9ZnN"
      },
      "outputs": [],
      "source": [
        "f1_sc = f1_score(y_test, y_pred, average='micro')\n",
        "print(f'F1 Score Result: {f1_sc}')"
      ]
    },
    {
      "cell_type": "code",
      "execution_count": null,
      "metadata": {
        "id": "buMLiGPzu12q"
      },
      "outputs": [],
      "source": [
        "cm = confusion_matrix(y_test, y_pred, labels=svmClf.classes_)\n",
        "disp = ConfusionMatrixDisplay(confusion_matrix=cm, display_labels=svmClf.classes_)\n",
        "disp.plot()\n",
        "plt.show()"
      ]
    },
    {
      "cell_type": "markdown",
      "metadata": {
        "id": "Cq560G5eQijz"
      },
      "source": [
        "### Adiabatic (QSVM)"
      ]
    },
    {
      "cell_type": "code",
      "execution_count": null,
      "metadata": {
        "colab": {
          "base_uri": "https://localhost:8080/"
        },
        "id": "y7IM3sbFQ2dJ",
        "outputId": "1086a7b0-18db-4d8b-a07d-6b2e3338502b"
      },
      "outputs": [
        {
          "output_type": "stream",
          "name": "stdout",
          "text": [
            "time: 5.14 ms (started: 2023-06-30 15:48:25 +00:00)\n"
          ]
        }
      ],
      "source": [
        "def kernel(xn, xm, gamma=-1):\n",
        "    if gamma == -1:\n",
        "        return xn @ xm.T\n",
        "    xn = np.atleast_2d(xn)\n",
        "    xm = np.atleast_2d(xm)\n",
        "    return np.exp(-gamma * np.sum((xn[:,None] - xm[None,:])**2, axis=-1))\n",
        "\n",
        "def gen_svm_qubos(B,K,xi,gamma, train, labels):\n",
        "    N = len(train)\n",
        "\n",
        "    Q = np.zeros((K*N,K*N))\n",
        "    print(f'Creating the QUBO of size {Q.shape}')\n",
        "    for n in range(N):\n",
        "        for m in range(N):\n",
        "            for k in range(K):\n",
        "                for j in range(K):\n",
        "                    Q[K*n+k,K*m+j] = 0.5 * B**(k+j) * labels[n] * labels[m] * (kernel(train[n], train[m], gamma) + xi)\n",
        "                    if n == m and k == j:\n",
        "                        Q[K*n+k,K*m+j] += - B**k\n",
        "\n",
        "    Q = np.triu(Q) + np.tril(Q,-1).T # turn the symmetric matrix into upper triangular\n",
        "\n",
        "    return Q\n",
        "\n",
        "def train_qsvm(B, K, xi, gamma, x_train, y_train):\n",
        "  Q = gen_svm_qubos(B, K, xi, gamma, x_train, y_train)\n",
        "\n",
        "  sampler = EmbeddingComposite(DWaveSampler(token=token, endpoint=endpoint))\n",
        "  response = sampler.sample_qubo(Q, label='QBoost')\n",
        "\n",
        "  return response\n",
        "\n",
        "def predict(B, K, xi, gamma, alphas, data, label, datatest):\n",
        "\n",
        "    C=(B**np.arange(K)).sum()\n",
        "\n",
        "    b = calculate_bias(alphas, data, label, gamma, C)\n",
        "\n",
        "    scoretest = distance_to_hyperplane(datatest, alphas, data, label, gamma, b)\n",
        "\n",
        "    return scoretest\n",
        "\n",
        "def distance_to_hyperplane(x, alphas, data, label, gamma, b=0): # evaluates the distance to the hyper plane according to 16.5.32 on p. 891 (Numerical Recipes); sign is the assigned class; x.shape = ...xD\n",
        "    return np.sum((alphas * label)[:,None] * kernel(data, x, gamma), axis=0) + b\n",
        "\n",
        "def calculate_bias(alphas, data, label, gamma, C): # evaluates offset b according to 16.5.33\n",
        "    cross = distance_to_hyperplane(data, alphas, data, label, gamma)\n",
        "    return np.sum(alphas * (C-alphas) * (label - cross)) / np.sum(alphas * (C-alphas))\n",
        "\n",
        "def decode(binary, B=10, K=3):\n",
        "    N = len(binary) // K\n",
        "    Bvec = B ** np.arange(K)\n",
        "    return np.fromiter(binary,float).reshape(N,K) @ Bvec\n",
        "\n",
        "def predict_score_qsvm(B, K, xi, gamma, data, label, x_test, response):\n",
        "  samples = np.array([''.join(map(str,sample)) for sample in response.record['sample']])\n",
        "  unique_samples, unique_idx, unique_counts = np.unique(samples, return_index=True, return_counts=True)\n",
        "  unique_records = response.record[unique_idx]\n",
        "  result = rfn.merge_arrays((unique_samples, unique_records['energy'], unique_counts, unique_records['chain_break_fraction']))\n",
        "  result = result[np.argsort(result['f1'])]\n",
        "  MAXRESULTS = 20\n",
        "\n",
        "  alphas = np.array([decode(sample,B,K) for sample in result['f0'][:MAXRESULTS]])\n",
        "  alphas = alphas.reshape(len(alphas[0]), 1)\n",
        "  scores = predict(B, K, xi, gamma, alphas, data, label, x_test)\n",
        "\n",
        "  return scores\n",
        "\n",
        "def predict_labels_qsvm(scores):\n",
        "  avg_scores=np.zeros((scores[0].shape[0]))\n",
        "  Y_predicted=np.zeros((scores[0].shape[0]),int)\n",
        "  average = np.average(scores)\n",
        "\n",
        "  for i in range(0,scores[0].shape[0]):\n",
        "      tmp=0\n",
        "      for y in range(0,1):\n",
        "          tmp=tmp+scores[y][i]\n",
        "      avg_scores[i]=tmp/1\n",
        "\n",
        "  for i in range(0,scores[0].shape[0]):\n",
        "      if(avg_scores[i]<0):\n",
        "          Y_predicted[i]=-1\n",
        "      else:\n",
        "          Y_predicted[i]=1\n",
        "\n",
        "\n",
        "  return Y_predicted\n",
        "\n",
        "def f1_score_qsvm(y_pred, y_test):\n",
        "  tp = 0\n",
        "  fn = 0\n",
        "  fp = 0\n",
        "\n",
        "  for i in range(len(y_pred)):\n",
        "    if(y_pred[i] == y_test[i] and y_pred[i] == 1):\n",
        "      tp += 1\n",
        "    elif(y_pred[i] == 1 and y_test[i] == -1):\n",
        "      fp += 1\n",
        "    elif(y_pred[i] == -1 and y_test[i] == 1):\n",
        "      fn += 1\n",
        "\n",
        "  if tp + fn == 0 or tp + fp == 0:\n",
        "    return 0\n",
        "\n",
        "  recall = tp / (tp + fn)\n",
        "  precision = tp / (tp + fp)\n",
        "  f1_score = 2 * precision * recall / (precision + recall)\n",
        "\n",
        "  return f1_score"
      ]
    },
    {
      "cell_type": "code",
      "execution_count": null,
      "metadata": {
        "colab": {
          "base_uri": "https://localhost:8080/"
        },
        "id": "tFKf2K49QzpW",
        "outputId": "d664c779-c326-4013-80cf-c26e4f15ad2a"
      },
      "outputs": [
        {
          "output_type": "stream",
          "name": "stdout",
          "text": [
            "time: 25.3 ms (started: 2023-06-30 15:54:15 +00:00)\n"
          ]
        },
        {
          "output_type": "stream",
          "name": "stderr",
          "text": [
            "<ipython-input-35-3e0a7d7ff7f9>:5: SettingWithCopyWarning: \n",
            "A value is trying to be set on a copy of a slice from a DataFrame.\n",
            "Try using .loc[row_indexer,col_indexer] = value instead\n",
            "\n",
            "See the caveats in the documentation: https://pandas.pydata.org/pandas-docs/stable/user_guide/indexing.html#returning-a-view-versus-a-copy\n",
            "  y_train['Etiqueta'] = y_train['Etiqueta'].apply(lambda cell : -1 if cell == 0 else 1)\n",
            "<ipython-input-35-3e0a7d7ff7f9>:10: SettingWithCopyWarning: \n",
            "A value is trying to be set on a copy of a slice from a DataFrame.\n",
            "Try using .loc[row_indexer,col_indexer] = value instead\n",
            "\n",
            "See the caveats in the documentation: https://pandas.pydata.org/pandas-docs/stable/user_guide/indexing.html#returning-a-view-versus-a-copy\n",
            "  y_test['Etiqueta'] = y_test['Etiqueta'].apply(lambda cell : -1 if cell == 0 else 1)\n"
          ]
        }
      ],
      "source": [
        "train, test = train_test_split(ds, test_size=0.2, random_state=42)\n",
        "\n",
        "x_train = preprocessing.scale(train[x_columns].to_numpy())\n",
        "y_train = train[y_columns]\n",
        "y_train['Etiqueta'] = y_train['Etiqueta'].apply(lambda cell : -1 if cell == 0 else 1)\n",
        "y_train = y_train.to_numpy()\n",
        "\n",
        "x_test = preprocessing.scale(test[x_columns].to_numpy())\n",
        "y_test = test[y_columns]\n",
        "y_test['Etiqueta'] = y_test['Etiqueta'].apply(lambda cell : -1 if cell == 0 else 1)\n",
        "y_test = y_test.to_numpy()"
      ]
    },
    {
      "cell_type": "markdown",
      "metadata": {
        "id": "tFaeHgxjEm0s"
      },
      "source": [
        "Las matrices de los elementos que utilizan en el repositorio original eran más amplias. Sin embargo, los mejores resultados se encontraban alrededor de"
      ]
    },
    {
      "cell_type": "code",
      "execution_count": null,
      "metadata": {
        "colab": {
          "base_uri": "https://localhost:8080/"
        },
        "id": "j5-TbsoSRE8h",
        "outputId": "0838c6f3-f9cb-4a02-9b5a-7199552a35dd"
      },
      "outputs": [
        {
          "name": "stdout",
          "output_type": "stream",
          "text": [
            "Creating the QUBO of size (128, 128)\n",
            "0.7692307692307692\n",
            "Creating the QUBO of size (128, 128)\n",
            "0\n",
            "Creating the QUBO of size (128, 128)\n",
            "0\n",
            "Creating the QUBO of size (128, 128)\n",
            "0.8571428571428571\n",
            "Creating the QUBO of size (128, 128)\n",
            "0.8571428571428571\n",
            "Creating the QUBO of size (128, 128)\n",
            "0\n",
            "Creating the QUBO of size (128, 128)\n",
            "0.7692307692307692\n",
            "Creating the QUBO of size (128, 128)\n",
            "0\n",
            "Creating the QUBO of size (128, 128)\n",
            "0\n",
            "Creating the QUBO of size (128, 128)\n",
            "0\n",
            "Creating the QUBO of size (128, 128)\n",
            "0\n",
            "Creating the QUBO of size (128, 128)\n",
            "0\n",
            "Creating the QUBO of size (128, 128)\n",
            "0.8571428571428571\n",
            "Creating the QUBO of size (128, 128)\n",
            "0\n",
            "Creating the QUBO of size (128, 128)\n",
            "0.8571428571428571\n",
            "Creating the QUBO of size (128, 128)\n",
            "0\n",
            "Creating the QUBO of size (128, 128)\n",
            "0.8571428571428571\n",
            "Creating the QUBO of size (128, 128)\n",
            "0\n",
            "Creating the QUBO of size (128, 128)\n",
            "0.7272727272727272\n",
            "Creating the QUBO of size (128, 128)\n",
            "0.8571428571428571\n",
            "Creating the QUBO of size (128, 128)\n",
            "0.8571428571428571\n",
            "Creating the QUBO of size (128, 128)\n",
            "0.8571428571428571\n",
            "Creating the QUBO of size (128, 128)\n",
            "0\n",
            "Creating the QUBO of size (128, 128)\n",
            "0\n",
            "Creating the QUBO of size (128, 128)\n",
            "0.5263157894736842\n",
            "Creating the QUBO of size (128, 128)\n",
            "0\n",
            "Creating the QUBO of size (128, 128)\n",
            "0.8571428571428571\n",
            "Creating the QUBO of size (128, 128)\n",
            "0\n",
            "Creating the QUBO of size (128, 128)\n",
            "0.8571428571428571\n",
            "Creating the QUBO of size (128, 128)\n",
            "0\n",
            "Creating the QUBO of size (128, 128)\n",
            "0.6666666666666666\n",
            "Creating the QUBO of size (128, 128)\n",
            "0\n",
            "Creating the QUBO of size (128, 128)\n",
            "0\n",
            "Creating the QUBO of size (128, 128)\n",
            "0\n",
            "Creating the QUBO of size (128, 128)\n",
            "0.8571428571428571\n",
            "Creating the QUBO of size (128, 128)\n",
            "0.8571428571428571\n",
            "0.8571428571428571\n",
            "B: 2\n",
            "K: 2\n",
            "xi: 0\n",
            "gamma: 0.5\n",
            "time: 3h 49min 14s (started: 2023-06-24 15:10:56 +00:00)\n"
          ]
        }
      ],
      "source": [
        "# B=[2,3,5,10]\n",
        "B=[2,10]\n",
        "K=[2]\n",
        "xi=[0,3,5]\n",
        "gamma=[-1,0.125,0.25,0.5,1,2]\n",
        "# gamma=[-1,0.5,1,2,8]\n",
        "\n",
        "best_acc = 0\n",
        "best_B = 0\n",
        "best_K = 0\n",
        "best_xi = 0\n",
        "best_gamma = 0\n",
        "for i in B:\n",
        "  for j in K:\n",
        "    for k in xi:\n",
        "      for l in gamma:\n",
        "        response = train_qsvm(i, j, k, l, x_train, y_train)\n",
        "        scores = predict_score_qsvm(i, j, k, l, x_train, y_train, x_test, response)\n",
        "        y_pred = predict_labels_qsvm(scores)\n",
        "        accuracy = f1_score_qsvm(y_pred, y_test)\n",
        "        print(accuracy)\n",
        "\n",
        "        if (accuracy > best_acc):\n",
        "          best_acc = accuracy\n",
        "          best_B = i\n",
        "          best_K = j\n",
        "          best_xi = k\n",
        "          best_gamma = l\n",
        "\n",
        "print(best_acc)\n",
        "print('B: ' + str(best_B))\n",
        "print('K: ' + str(best_K))\n",
        "print('xi: ' + str(best_xi))\n",
        "print('gamma: ' + str(best_gamma))"
      ]
    },
    {
      "cell_type": "code",
      "execution_count": null,
      "metadata": {
        "colab": {
          "base_uri": "https://localhost:8080/"
        },
        "id": "qo99EsELwPjm",
        "outputId": "235cf7eb-43e3-495f-f37f-016fd2e5cd01"
      },
      "outputs": [
        {
          "output_type": "stream",
          "name": "stdout",
          "text": [
            "time: 9.55 ms (started: 2023-06-30 15:48:56 +00:00)\n"
          ]
        }
      ],
      "source": [
        "best_B = 10\n",
        "best_K = 3\n",
        "best_xi = 5\n",
        "best_gamma = -1"
      ]
    },
    {
      "cell_type": "code",
      "execution_count": null,
      "metadata": {
        "colab": {
          "base_uri": "https://localhost:8080/",
          "height": 363
        },
        "id": "faaKD8JhRm-d",
        "outputId": "d9573398-1c58-4089-e46d-c8fbca2c459b"
      },
      "outputs": [
        {
          "output_type": "stream",
          "name": "stdout",
          "text": [
            "Creating the QUBO of size (192, 192)\n"
          ]
        },
        {
          "output_type": "error",
          "ename": "ValueError",
          "evalue": "ignored",
          "traceback": [
            "\u001b[0;31m---------------------------------------------------------------------------\u001b[0m",
            "\u001b[0;31mValueError\u001b[0m                                Traceback (most recent call last)",
            "\u001b[0;32m<ipython-input-36-4c40aad71f34>\u001b[0m in \u001b[0;36m<cell line: 1>\u001b[0;34m()\u001b[0m\n\u001b[0;32m----> 1\u001b[0;31m \u001b[0mresponse\u001b[0m \u001b[0;34m=\u001b[0m \u001b[0mtrain_qsvm\u001b[0m\u001b[0;34m(\u001b[0m\u001b[0mbest_B\u001b[0m\u001b[0;34m,\u001b[0m \u001b[0mbest_K\u001b[0m\u001b[0;34m,\u001b[0m \u001b[0mbest_xi\u001b[0m\u001b[0;34m,\u001b[0m \u001b[0mbest_gamma\u001b[0m\u001b[0;34m,\u001b[0m \u001b[0mx_train\u001b[0m\u001b[0;34m,\u001b[0m \u001b[0my_train\u001b[0m\u001b[0;34m)\u001b[0m\u001b[0;34m\u001b[0m\u001b[0;34m\u001b[0m\u001b[0m\n\u001b[0m",
            "\u001b[0;32m<ipython-input-22-03eeec0ec790>\u001b[0m in \u001b[0;36mtrain_qsvm\u001b[0;34m(B, K, xi, gamma, x_train, y_train)\u001b[0m\n\u001b[1;32m     27\u001b[0m \u001b[0;34m\u001b[0m\u001b[0m\n\u001b[1;32m     28\u001b[0m   \u001b[0msampler\u001b[0m \u001b[0;34m=\u001b[0m \u001b[0mEmbeddingComposite\u001b[0m\u001b[0;34m(\u001b[0m\u001b[0mDWaveSampler\u001b[0m\u001b[0;34m(\u001b[0m\u001b[0mtoken\u001b[0m\u001b[0;34m=\u001b[0m\u001b[0mtoken\u001b[0m\u001b[0;34m,\u001b[0m \u001b[0mendpoint\u001b[0m\u001b[0;34m=\u001b[0m\u001b[0mendpoint\u001b[0m\u001b[0;34m)\u001b[0m\u001b[0;34m)\u001b[0m\u001b[0;34m\u001b[0m\u001b[0;34m\u001b[0m\u001b[0m\n\u001b[0;32m---> 29\u001b[0;31m   \u001b[0mresponse\u001b[0m \u001b[0;34m=\u001b[0m \u001b[0msampler\u001b[0m\u001b[0;34m.\u001b[0m\u001b[0msample_qubo\u001b[0m\u001b[0;34m(\u001b[0m\u001b[0mQ\u001b[0m\u001b[0;34m,\u001b[0m \u001b[0mlabel\u001b[0m\u001b[0;34m=\u001b[0m\u001b[0;34m'QBoost'\u001b[0m\u001b[0;34m)\u001b[0m\u001b[0;34m\u001b[0m\u001b[0;34m\u001b[0m\u001b[0m\n\u001b[0m\u001b[1;32m     30\u001b[0m \u001b[0;34m\u001b[0m\u001b[0m\n\u001b[1;32m     31\u001b[0m   \u001b[0;32mreturn\u001b[0m \u001b[0mresponse\u001b[0m\u001b[0;34m\u001b[0m\u001b[0;34m\u001b[0m\u001b[0m\n",
            "\u001b[0;32m/usr/local/lib/python3.10/dist-packages/dimod/core/sampler.py\u001b[0m in \u001b[0;36msample_qubo\u001b[0;34m(self, Q, **parameters)\u001b[0m\n\u001b[1;32m    289\u001b[0m         \"\"\"\n\u001b[1;32m    290\u001b[0m         \u001b[0mbqm\u001b[0m \u001b[0;34m=\u001b[0m \u001b[0mBinaryQuadraticModel\u001b[0m\u001b[0;34m.\u001b[0m\u001b[0mfrom_qubo\u001b[0m\u001b[0;34m(\u001b[0m\u001b[0mQ\u001b[0m\u001b[0;34m)\u001b[0m\u001b[0;34m\u001b[0m\u001b[0;34m\u001b[0m\u001b[0m\n\u001b[0;32m--> 291\u001b[0;31m         \u001b[0;32mreturn\u001b[0m \u001b[0mself\u001b[0m\u001b[0;34m.\u001b[0m\u001b[0msample\u001b[0m\u001b[0;34m(\u001b[0m\u001b[0mbqm\u001b[0m\u001b[0;34m,\u001b[0m \u001b[0;34m**\u001b[0m\u001b[0mparameters\u001b[0m\u001b[0;34m)\u001b[0m\u001b[0;34m\u001b[0m\u001b[0;34m\u001b[0m\u001b[0m\n\u001b[0m\u001b[1;32m    292\u001b[0m \u001b[0;34m\u001b[0m\u001b[0m\n\u001b[1;32m    293\u001b[0m     \u001b[0;32mdef\u001b[0m \u001b[0mremove_unknown_kwargs\u001b[0m\u001b[0;34m(\u001b[0m\u001b[0mself\u001b[0m\u001b[0;34m,\u001b[0m \u001b[0;34m**\u001b[0m\u001b[0mkwargs\u001b[0m\u001b[0;34m)\u001b[0m \u001b[0;34m->\u001b[0m \u001b[0mtyping\u001b[0m\u001b[0;34m.\u001b[0m\u001b[0mDict\u001b[0m\u001b[0;34m[\u001b[0m\u001b[0mstr\u001b[0m\u001b[0;34m,\u001b[0m \u001b[0mtyping\u001b[0m\u001b[0;34m.\u001b[0m\u001b[0mAny\u001b[0m\u001b[0;34m]\u001b[0m\u001b[0;34m:\u001b[0m\u001b[0;34m\u001b[0m\u001b[0;34m\u001b[0m\u001b[0m\n",
            "\u001b[0;32m/usr/local/lib/python3.10/dist-packages/dwave/system/composites/embedding.py\u001b[0m in \u001b[0;36msample\u001b[0;34m(self, bqm, chain_strength, chain_break_method, chain_break_fraction, embedding_parameters, return_embedding, warnings, **parameters)\u001b[0m\n\u001b[1;32m    237\u001b[0m \u001b[0;34m\u001b[0m\u001b[0m\n\u001b[1;32m    238\u001b[0m         \u001b[0;32mif\u001b[0m \u001b[0mbqm\u001b[0m \u001b[0;32mand\u001b[0m \u001b[0;32mnot\u001b[0m \u001b[0membedding\u001b[0m\u001b[0;34m:\u001b[0m\u001b[0;34m\u001b[0m\u001b[0;34m\u001b[0m\u001b[0m\n\u001b[0;32m--> 239\u001b[0;31m             \u001b[0;32mraise\u001b[0m \u001b[0mValueError\u001b[0m\u001b[0;34m(\u001b[0m\u001b[0;34m\"no embedding found\"\u001b[0m\u001b[0;34m)\u001b[0m\u001b[0;34m\u001b[0m\u001b[0;34m\u001b[0m\u001b[0m\n\u001b[0m\u001b[1;32m    240\u001b[0m \u001b[0;34m\u001b[0m\u001b[0m\n\u001b[1;32m    241\u001b[0m         \u001b[0;32mif\u001b[0m \u001b[0;32mnot\u001b[0m \u001b[0mhasattr\u001b[0m\u001b[0;34m(\u001b[0m\u001b[0membedding\u001b[0m\u001b[0;34m,\u001b[0m \u001b[0;34m'embed_bqm'\u001b[0m\u001b[0;34m)\u001b[0m\u001b[0;34m:\u001b[0m\u001b[0;34m\u001b[0m\u001b[0;34m\u001b[0m\u001b[0m\n",
            "\u001b[0;31mValueError\u001b[0m: no embedding found"
          ]
        },
        {
          "output_type": "stream",
          "name": "stdout",
          "text": [
            "time: 17min 5s (started: 2023-06-30 15:54:19 +00:00)\n"
          ]
        }
      ],
      "source": [
        "response = train_qsvm(best_B, best_K, best_xi, best_gamma, x_train, y_train)"
      ]
    },
    {
      "cell_type": "code",
      "execution_count": null,
      "metadata": {
        "colab": {
          "base_uri": "https://localhost:8080/"
        },
        "id": "TIh87p4wRr66",
        "outputId": "ed74f733-da17-499d-faec-2e0c407a797d"
      },
      "outputs": [
        {
          "name": "stdout",
          "output_type": "stream",
          "text": [
            "time: 796 ms (started: 2023-06-23 11:26:47 +00:00)\n"
          ]
        }
      ],
      "source": [
        "scores = predict_score_qsvm(best_B, best_K, best_xi, best_gamma, x_train, y_train, x_test, response)\n",
        "y_pred = predict_labels_qsvm(scores)"
      ]
    },
    {
      "cell_type": "code",
      "execution_count": null,
      "metadata": {
        "colab": {
          "base_uri": "https://localhost:8080/"
        },
        "id": "jrDh-uEUXwPl",
        "outputId": "31a82924-2de6-45c9-ad18-067d862ebdf4"
      },
      "outputs": [
        {
          "name": "stdout",
          "output_type": "stream",
          "text": [
            "[[-1.27221691 -1.25414121  0.43638359  0.31866942 -1.13616672 -1.27236162\n",
            "  -1.23572173  0.34137302]\n",
            " [-1.27183905 -1.27010715 -0.71742098 -1.16309807 -1.26932505 -1.27233985\n",
            "  -0.70041812 -1.16039418]\n",
            " [-1.2722834  -1.2723626  -1.27193849 -1.27235474 -1.27235856 -1.27236265\n",
            "  -1.27236238 -1.2723589 ]\n",
            " [-1.26975466 -1.25959573  0.26130013 -0.89318384 -1.24324491 -1.27235496\n",
            "  -1.24452632  0.33273655]\n",
            " [-1.26975596 -1.2595684   0.26003848 -0.89268689 -1.24327003 -1.27235495\n",
            "  -1.24446338  0.33069326]\n",
            " [-1.27236265 -1.27236264 -1.27235927 -1.27236265 -1.27236081 -1.27236263\n",
            "  -1.27236204 -1.27236009]\n",
            " [-1.27236236 -1.2646277   0.91334877 -1.1144814  -0.63864439 -1.27235537\n",
            "  -1.22487427 -1.04657424]\n",
            " [-1.2713334  -1.26137055  0.41443072 -1.04615403 -1.21684009 -1.2723611\n",
            "  -1.2644286   1.0767356 ]\n",
            " [-1.27236265 -1.27236265 -1.27236265 -1.27236265 -1.27236265 -1.27236265\n",
            "  -1.27236265 -1.27236265]\n",
            " [-1.27236208 -1.27178032 -1.18731416 -1.26698104  0.04734351 -1.27235028\n",
            "  -1.26954089 -1.23569515]\n",
            " [-1.27236262 -1.27227654 -1.26645697 -1.25379103 -1.2723474  -1.27236147\n",
            "  -1.27209779 -1.23366679]\n",
            " [-1.27236259 -1.25348453 -1.11276773 -1.18892953 -1.04624844 -1.27234088\n",
            "  -1.24966789 -1.26294245]\n",
            " [-1.26736583 -1.26266224  0.26081118 -0.97703858 -1.25266058 -1.27235526\n",
            "  -1.2309423   0.30800311]\n",
            " [-1.27236257 -1.27170455 -1.272329   -1.26938868 -1.27236248 -1.27236085\n",
            "  -1.03681564 -1.27236078]\n",
            " [-1.27204458 -1.26593452 -0.99353226 -1.08074048 -1.27087169 -1.27231295\n",
            "   0.47681247 -1.22916787]\n",
            " [-1.27186214 -1.26944194 -0.76130439 -1.14374144 -1.26957808 -1.27233464\n",
            "  -0.52140463 -1.17446266]\n",
            " [-1.27183914 -1.27010383 -0.71763014 -1.16299383 -1.26932627 -1.27233982\n",
            "  -0.69953351 -1.16046786]\n",
            " [-1.27232283 -1.26999627 -1.10628762  0.24065832 -1.27098748 -1.27236219\n",
            "  -1.27089407 -1.2030595 ]\n",
            " [-1.27221676 -1.25419263  0.43893247  0.31609665 -1.13595562 -1.27236162\n",
            "  -1.23583154  0.34484264]\n",
            " [-1.27236265 -1.27236264 -1.27236169 -1.27236265 -1.27236206 -1.27236264\n",
            "  -1.27236142 -1.27236075]\n",
            " [-1.27236239 -1.26627361  0.83670519 -1.15893592 -0.66779618 -1.27235836\n",
            "  -1.23375623 -1.04710221]\n",
            " [-1.27236134 -1.26818304 -1.26908594 -1.27233876 -1.27179199 -1.27236265\n",
            "  -1.27233491 -1.27171939]\n",
            " [-1.27233805 -1.2708096  -1.16269416  0.06644521 -1.2715832  -1.27236238\n",
            "  -1.2714035  -1.23050497]\n",
            " [-1.27236261 -1.25103836 -1.17730435 -1.19861246 -1.13846452 -1.27234168\n",
            "  -1.24798016 -1.26706308]\n",
            " [-1.27232144 -1.26972264 -1.10270453  0.1010077  -1.27067416 -1.27236157\n",
            "  -1.27090904 -1.19942094]\n",
            " [-1.27183972 -1.27008301 -0.71894509 -1.16234197 -1.26933394 -1.27233965\n",
            "  -0.69398364 -1.16092915]\n",
            " [-1.27205191 -1.26580812 -1.00138275 -1.07958068 -1.2709146  -1.27231235\n",
            "   0.51469132 -1.23068988]\n",
            " [-1.2723605  -1.26149351 -1.25510912 -1.06813565 -1.26766371 -1.27235645\n",
            "  -1.26918291 -1.16600945]\n",
            " [-1.2697479  -1.25973864  0.26789165 -0.89579416 -1.24311364 -1.27235503\n",
            "  -1.24485531  0.34345495]\n",
            " [-1.27236257 -1.27235779 -1.26143839 -1.27233059 -1.21018555 -1.27236256\n",
            "  -1.27235235 -1.27234596]\n",
            " [-1.27183993 -1.27007549 -0.71942171 -1.16210716 -1.26933672 -1.27233959\n",
            "  -0.69197675 -1.16109555]\n",
            " [-1.2723625  -1.2491054  -0.13712052 -0.92666076 -0.95005482 -1.27233179\n",
            "  -1.13456913 -1.1902125 ]]\n",
            "time: 10.2 ms (started: 2023-06-23 08:11:10 +00:00)\n"
          ]
        }
      ],
      "source": [
        "print(scores)"
      ]
    },
    {
      "cell_type": "code",
      "execution_count": null,
      "metadata": {
        "colab": {
          "base_uri": "https://localhost:8080/"
        },
        "id": "WFXziiJsRt0-",
        "outputId": "7bc111ad-b640-407b-d83f-7a1ec860c4d4"
      },
      "outputs": [
        {
          "name": "stdout",
          "output_type": "stream",
          "text": [
            "[1 1 1 1 1 1 1 1]\n",
            "[-1  1  1  1  1  1  1  1]\n",
            "0.9333333333333333\n",
            "time: 2.05 ms (started: 2023-06-23 11:28:41 +00:00)\n"
          ]
        }
      ],
      "source": [
        "print(y_pred)\n",
        "test_labels = y_test.reshape(1, len(y_test))[0]\n",
        "print(test_labels)\n",
        "print(f1_score_qsvm(y_pred, test_labels))"
      ]
    },
    {
      "cell_type": "markdown",
      "metadata": {
        "id": "R0cVQCIAs0MI"
      },
      "source": [
        "## Comparación de algoritmos Gradient Boosting"
      ]
    },
    {
      "cell_type": "code",
      "execution_count": null,
      "metadata": {
        "id": "4hjsWA2OUwAL"
      },
      "outputs": [],
      "source": [
        "ds = df_normalized.sample(n=30000, replace=False, random_state=42)"
      ]
    },
    {
      "cell_type": "code",
      "execution_count": null,
      "metadata": {
        "id": "sM02BrOVs_ZE"
      },
      "outputs": [],
      "source": [
        "train, test = train_test_split(ds, test_size=0.2, random_state=42)\n",
        "\n",
        "x_train = train[x_columns]\n",
        "y_train = train[y_columns]\n",
        "\n",
        "x_test = test[x_columns]\n",
        "y_test = test[y_columns]"
      ]
    },
    {
      "cell_type": "markdown",
      "metadata": {
        "id": "9fS1zJBXpUYV"
      },
      "source": [
        "### AdaBoost"
      ]
    },
    {
      "cell_type": "code",
      "execution_count": null,
      "metadata": {
        "id": "ss7Zt_ZNpXXA"
      },
      "outputs": [],
      "source": [
        "%%capture\n",
        "param_grid = [{'n_estimators': [50, 100, 150, 200], 'learning_rate': [0.1, 0.25, 0.5, 1, 2], 'random_state': [42]}]\n",
        "\n",
        "adaClf = AdaBoostClassifier(n_estimators=100, random_state=42)\n",
        "clf = GridSearchCV(adaClf, param_grid)\n",
        "clf.fit(x_train, y_train)"
      ]
    },
    {
      "cell_type": "code",
      "execution_count": null,
      "metadata": {
        "id": "3yMpn3Ejw0Hn"
      },
      "outputs": [],
      "source": [
        "y_pred = clf.predict(x_test)"
      ]
    },
    {
      "cell_type": "code",
      "execution_count": null,
      "metadata": {
        "id": "tsnGPieTw1Vn"
      },
      "outputs": [],
      "source": [
        "f1_sc = f1_score(y_test, y_pred, average='micro')\n",
        "print(f'F1 Score Result: {f1_sc}')"
      ]
    },
    {
      "cell_type": "code",
      "execution_count": null,
      "metadata": {
        "id": "vVP5NnB-clYh"
      },
      "outputs": [],
      "source": [
        "cm = confusion_matrix(y_test, y_pred, labels=adaClf.classes_)\n",
        "disp = ConfusionMatrixDisplay(confusion_matrix=cm, display_labels=adaClf.classes_)\n",
        "disp.plot()\n",
        "plt.show()"
      ]
    },
    {
      "cell_type": "markdown",
      "metadata": {
        "id": "C-FULehpUsil"
      },
      "source": [
        "### Adiabatic (QBoost)"
      ]
    },
    {
      "cell_type": "code",
      "execution_count": null,
      "metadata": {
        "id": "-93TElpOU1od",
        "colab": {
          "base_uri": "https://localhost:8080/"
        },
        "outputId": "3f8087bb-f267-4091-f64b-241e05795958"
      },
      "outputs": [
        {
          "output_type": "stream",
          "name": "stdout",
          "text": [
            "time: 1.26 s (started: 2023-06-30 15:47:14 +00:00)\n"
          ]
        },
        {
          "output_type": "stream",
          "name": "stderr",
          "text": [
            "<ipython-input-17-372b33ff9e50>:1: SettingWithCopyWarning: \n",
            "A value is trying to be set on a copy of a slice from a DataFrame.\n",
            "Try using .loc[row_indexer,col_indexer] = value instead\n",
            "\n",
            "See the caveats in the documentation: https://pandas.pydata.org/pandas-docs/stable/user_guide/indexing.html#returning-a-view-versus-a-copy\n",
            "  y_train['Etiqueta'] = y_train['Etiqueta'].apply(lambda cell : -1 if cell == 0 else 1)\n",
            "<ipython-input-17-372b33ff9e50>:5: SettingWithCopyWarning: \n",
            "A value is trying to be set on a copy of a slice from a DataFrame.\n",
            "Try using .loc[row_indexer,col_indexer] = value instead\n",
            "\n",
            "See the caveats in the documentation: https://pandas.pydata.org/pandas-docs/stable/user_guide/indexing.html#returning-a-view-versus-a-copy\n",
            "  y_test['Etiqueta'] = y_test['Etiqueta'].apply(lambda cell : -1 if cell == 0 else 1)\n"
          ]
        }
      ],
      "source": [
        "y_train['Etiqueta'] = y_train['Etiqueta'].apply(lambda cell : -1 if cell == 0 else 1)\n",
        "y_train = y_train.to_numpy()\n",
        "x_train = x_train.to_numpy()\n",
        "\n",
        "y_test['Etiqueta'] = y_test['Etiqueta'].apply(lambda cell : -1 if cell == 0 else 1)\n",
        "y_test = y_test.to_numpy()\n",
        "x_test = x_test.to_numpy()"
      ]
    },
    {
      "cell_type": "code",
      "execution_count": null,
      "metadata": {
        "id": "52OijAZYU40f",
        "colab": {
          "base_uri": "https://localhost:8080/"
        },
        "outputId": "d8d87743-4f29-499d-d322-cc65432c1966"
      },
      "outputs": [
        {
          "output_type": "stream",
          "name": "stdout",
          "text": [
            "time: 3.66 ms (started: 2023-06-30 15:47:15 +00:00)\n"
          ]
        }
      ],
      "source": [
        "class DecisionStumpClassifier:\n",
        "    \"\"\"Decision tree classifier that operates on a single feature with a single splitting rule.\n",
        "\n",
        "    The index of the feature used in the decision rule is stored\n",
        "    relative to the original data frame.\n",
        "    \"\"\"\n",
        "\n",
        "    def __init__(self, X, y, feature_index):\n",
        "        \"\"\"Initialize and fit the classifier.\n",
        "\n",
        "        Args:\n",
        "            X (array):\n",
        "                2D array of feature vectors.  Note that the array\n",
        "                contains all features, while the weak classifier\n",
        "                itself uses only a single feature.\n",
        "            y (array):\n",
        "                1D array of class labels, as ints.  Labels should be\n",
        "                +/- 1.\n",
        "            feature_index (int):\n",
        "                Index for the feature used by the weak classifier,\n",
        "                relative to the overall data frame.\n",
        "        \"\"\"\n",
        "        self.i = feature_index\n",
        "\n",
        "        self.clf = DecisionTreeClassifier(max_depth=1)\n",
        "        self.clf.fit(X[:, [feature_index]], y)\n",
        "\n",
        "    def predict(self, X):\n",
        "        \"\"\"Predict class.\n",
        "\n",
        "        Args:\n",
        "            X (array):\n",
        "                2D array of feature vectors.  Note that the array\n",
        "                contains all features, while the weak classifier\n",
        "                itself will make a prediction based only a single\n",
        "                feature.\n",
        "\n",
        "        Returns:\n",
        "            Array of class labels.\n",
        "        \"\"\"\n",
        "        return self.clf.predict(X[:, [self.i]])\n",
        "\n",
        "class EnsembleClassifier:\n",
        "    \"\"\"Ensemble of weak classifiers.\"\"\"\n",
        "\n",
        "    def __init__(self, weak_classifiers, weights, weak_classifier_scaling, offset=1e-9):\n",
        "        \"\"\"Initialize ensemble from list of weak classifiers and weights.\n",
        "\n",
        "        Args:\n",
        "            weak_classifiers (list):\n",
        "                List of classifier instances.\n",
        "            weights (array):\n",
        "                Weights associated with the weak classifiers.\n",
        "            weak_classifier_scaling (float):\n",
        "                Scaling for weak classifier outputs.\n",
        "            offset (float):\n",
        "                Offset value for ensemble classifier.  The default\n",
        "                value is a small positive number used to prevent\n",
        "                ambiguous 0 predictions when weak classifiers exactly\n",
        "                balance each other out.\n",
        "        \"\"\"\n",
        "        self.classifiers = weak_classifiers\n",
        "        self.w = weights\n",
        "        self.weak_clf_scale = weak_classifier_scaling\n",
        "        self.offset = offset\n",
        "\n",
        "    def predict(self, X):\n",
        "        \"\"\"Compute ensemble prediction.\n",
        "\n",
        "        Note that this function returns the numerical value of the\n",
        "        ensemble predictor, not the class label.  The predicted class\n",
        "        is sign(predict()).\n",
        "        \"\"\"\n",
        "        H = _build_H(self.classifiers, X, self.weak_clf_scale)\n",
        "\n",
        "        # If we've already filtered out those with w=0 and we are only\n",
        "        # using binary weights, this is just a sum\n",
        "        preds = np.dot(H, self.w)\n",
        "        return preds - self.offset\n",
        "\n",
        "    def predict_class(self, X):\n",
        "        \"\"\"Compute ensemble prediction of class label.\"\"\"\n",
        "        preds = self.predict(X)\n",
        "\n",
        "        # Add a small perturbation to any predictions that are exactly\n",
        "        # 0, because these will not count towards either class when\n",
        "        # passed through the sign function.  Such zero predictions can\n",
        "        # happen when the weak classifiers exactly balance each other\n",
        "        # out.\n",
        "        preds[preds == 0] = 1e-9\n",
        "\n",
        "        return np.sign(preds)\n",
        "\n",
        "    def score(self, X, y):\n",
        "        \"\"\"Compute accuracy score on given data.\"\"\"\n",
        "        if sum(self.w) == 0:\n",
        "            # Avoid difficulties that occur with handling this below\n",
        "            return 0.0\n",
        "        return f1_score(y, self.predict_class(X))\n",
        "\n",
        "    def squared_error(self, X, y):\n",
        "        \"\"\"Compute squared error between predicted and true labels.\n",
        "\n",
        "        Provided for testing purposes.\n",
        "        \"\"\"\n",
        "        p = self.predict(X)\n",
        "        return sum((p - y)**2)\n",
        "\n",
        "    def fit_offset(self, X):\n",
        "        \"\"\"Fit offset value based on class-balanced feature vectors.\n",
        "\n",
        "        Currently, this assumes that the feature vectors in X\n",
        "        correspond to an even split between both classes.\n",
        "        \"\"\"\n",
        "        self.offset = 0.0\n",
        "        # Todo: review whether it would be appropriate to subtract\n",
        "        # mean(y) here to account for unbalanced classes.\n",
        "        self.offset = np.mean(self.predict(X))\n",
        "\n",
        "    def get_selected_features(self):\n",
        "        \"\"\"Return list of features corresponding to the selected weak classifiers.\"\"\"\n",
        "        return [clf.i for clf, w in zip(self.classifiers, self.w) if w > 0]\n",
        "\n",
        "    def get_confusion_matrix(self, X, y):\n",
        "        return confusion_matrix(y, self.predict_class(X), labels=[-1, 1])\n",
        "\n",
        "class QBoostClassifier(EnsembleClassifier):\n",
        "    \"\"\"Construct an ensemble classifier using quadratic loss minimization.\n",
        "\n",
        "    \"\"\"\n",
        "\n",
        "    def __init__(self, X, y, lam, weak_clf_scale=None, drop_unused=True):\n",
        "        \"\"\"Initialize and fit QBoost classifier.\n",
        "\n",
        "        X should already include all candidate features (e.g., interactions).\n",
        "\n",
        "        Args:\n",
        "            X (array):\n",
        "                2D array of feature vectors.\n",
        "            y (array):\n",
        "                1D array of class labels (+/- 1).\n",
        "            lam (float):\n",
        "                regularization parameter.\n",
        "            weak_clf_scale (float or None):\n",
        "                scale factor to apply to weak classifier outputs.  If\n",
        "                None, scale by 1/num_classifiers.\n",
        "            drop_unused (bool):\n",
        "                if True, only retain the nonzero weighted classifiers.\n",
        "        \"\"\"\n",
        "        if not all(np.isin(y, [-1, 1])):\n",
        "            raise ValueError(\"Class labels should be +/- 1\")\n",
        "\n",
        "        num_features = np.size(X, 1)\n",
        "\n",
        "        if weak_clf_scale is None:\n",
        "            weak_clf_scale = 1 / num_features\n",
        "\n",
        "        wclf_candidates = [DecisionStumpClassifier(\n",
        "            X, y, i) for i in range(num_features)]\n",
        "\n",
        "        H = _build_H(wclf_candidates, X, weak_clf_scale)\n",
        "\n",
        "        # For reference, store individual weak classifier scores.\n",
        "        # Note: we don't check equality h==y here because H might be rescaled.\n",
        "        self.weak_scores = np.array([np.mean(np.sign(h) * y > 0) for h in H.T])\n",
        "\n",
        "        weights, self.energy = _minimize_squared_loss_binary(H, y, lam)\n",
        "\n",
        "        # Store only the selected classifiers\n",
        "        if drop_unused:\n",
        "            weak_classifiers = [wclf for wclf, w in zip(\n",
        "                wclf_candidates, weights) if w > 0]\n",
        "            weights = weights[weights > 0]\n",
        "        else:\n",
        "            weak_classifiers = wclf_candidates\n",
        "\n",
        "        super().__init__(weak_classifiers, weights, weak_clf_scale)\n",
        "        self.fit_offset(X)\n",
        "\n",
        "        # Save candidates so we can provide a baseline accuracy report.\n",
        "        self._wclf_candidates = wclf_candidates\n",
        "\n",
        "    def report_baseline(self, X, y):\n",
        "        \"\"\"Report accuracy of weak classifiers.\n",
        "\n",
        "        This provides context for interpreting the performance of the boosted\n",
        "        classifier.\n",
        "        \"\"\"\n",
        "        scores = np.array([accuracy_score(y, clf.predict(X))\n",
        "                           for clf in self._wclf_candidates])\n",
        "        data = [[len(scores), scores.min(), scores.mean(), scores.max(), scores.std()]]\n",
        "        headers = ['count', 'min', 'mean', 'max', 'std']\n",
        "\n",
        "        print('Accuracy of weak classifiers (score on test set):')\n",
        "        print(tabulate(data, headers=headers, floatfmt='.3f'))\n",
        "\n",
        "def _build_H(classifiers, X, output_scale):\n",
        "    \"\"\"Construct matrix of weak classifier predictions on given set of input vectors.\"\"\"\n",
        "    H = np.array([clf.predict(X) for clf in classifiers], dtype=float).T\n",
        "\n",
        "    # Rescale H\n",
        "    H *= output_scale\n",
        "\n",
        "    return H\n",
        "\n",
        "def qboost_lambda_sweep(X, y, lambda_vals, val_fraction=0.4, verbose=False, **kwargs):\n",
        "    \"\"\"Run QBoost using a series of lambda values and check accuracy against a validation set.\n",
        "\n",
        "    Args:\n",
        "        X (array):\n",
        "            2D array of feature vectors.\n",
        "        y (array):\n",
        "            1D array of class labels (+/- 1).\n",
        "        lambda_vals (array):\n",
        "            Array of values for regularization parameter, lambda.\n",
        "        val_fraction (float):\n",
        "            Fraction of given data to set aside for validation.\n",
        "        verbose (bool):\n",
        "            Print out diagnostic information to screen.\n",
        "        kwargs:\n",
        "            Passed to QBoost.__init__.\n",
        "\n",
        "    Returns:\n",
        "        QBoostClassifier:\n",
        "            QBoost instance with best validation score.\n",
        "        lambda:\n",
        "            Lambda value corresponding to the best validation score.\n",
        "    \"\"\"\n",
        "    X_train, X_val, y_train, y_val = train_test_split(\n",
        "        X, y, test_size=val_fraction)\n",
        "\n",
        "    best_score = -1\n",
        "    best_lambda = None\n",
        "    best_clf = None\n",
        "\n",
        "    if verbose:\n",
        "        print('{:7} {} {}:'.format('lambda', 'n_features', 'score'))\n",
        "\n",
        "    for lam in lambda_vals:\n",
        "        qb = QBoostClassifier(X_train, y_train, lam, **kwargs)\n",
        "        score = qb.score(X_val, y_val)\n",
        "        if verbose:\n",
        "            print('{:<7.4f} {:<10} {:<6.3f}'.format(\n",
        "                lam, len(qb.get_selected_features()), score))\n",
        "        if score > best_score:\n",
        "            best_score = score\n",
        "            best_clf = qb\n",
        "            best_lambda = lam\n",
        "\n",
        "    return best_clf, lam\n",
        "\n",
        "def _build_bqm(H, y, lam):\n",
        "    \"\"\"Build BQM.\n",
        "\n",
        "    Args:\n",
        "        H (array):\n",
        "            2D array of weak classifier predictions.  Each row is a\n",
        "            sample point, each column is a classifier.\n",
        "        y (array):\n",
        "            Outputs\n",
        "        lam (float):\n",
        "            Coefficient that controls strength of regularization term\n",
        "            (larger values encourage decreased model complexity).\n",
        "    \"\"\"\n",
        "    n_samples = np.size(H, 0)\n",
        "    n_classifiers = np.size(H, 1)\n",
        "\n",
        "    # samples_factor is a factor that appears in front of the squared\n",
        "    # loss term in the objective.  In theory, it does not affect the\n",
        "    # problem solution, but it does affect the relative weighting of\n",
        "    # the loss and regularization terms, which is otherwise absorbed\n",
        "    # into the lambda parameter.\n",
        "\n",
        "    # Using an average seems to be more intuitive, otherwise, lambda\n",
        "    # is sample-size dependent.\n",
        "    samples_factor = 1.0 / n_samples\n",
        "\n",
        "    bqm = dimod.BQM('BINARY')\n",
        "    bqm.offset = samples_factor * n_samples\n",
        "\n",
        "    for i in range(n_classifiers):\n",
        "        # Note: the last term with h_i^2 is part of the first term in\n",
        "        # Eq. (12) of Neven et al. (2008), where i=j.\n",
        "        bqm.add_variable(i, lam - 2.0 * samples_factor *\n",
        "                         np.dot(H[:, i], y) + samples_factor * np.dot(H[:, i], H[:, i]))\n",
        "\n",
        "    for i in range(n_classifiers):\n",
        "        for j in range(i+1, n_classifiers):\n",
        "            # Relative to Eq. (12) from Neven et al. (2008), the\n",
        "            # factor of 2 appears here because each term appears twice\n",
        "            # in a sum over all i,j.\n",
        "            bqm.add_interaction(\n",
        "                i, j, 2.0 * samples_factor * np.dot(H[:, i], H[:, j]))\n",
        "\n",
        "    return bqm\n",
        "\n",
        "\n",
        "def _minimize_squared_loss_binary(H, y, lam):\n",
        "    \"\"\"Minimize squared loss using binary weight variables.\"\"\"\n",
        "    bqm = _build_bqm(H, y, lam)\n",
        "\n",
        "    sampler = EmbeddingComposite(DWaveSampler(token=token, endpoint=endpoint))\n",
        "    results = sampler.sample(bqm, label='QBoost')\n",
        "    weights = np.array(list(results.first.sample.values()))\n",
        "    energy = results.first.energy\n",
        "\n",
        "    return weights, energy"
      ]
    },
    {
      "cell_type": "code",
      "execution_count": null,
      "metadata": {
        "id": "tphAME_sU9G1"
      },
      "outputs": [],
      "source": [
        "normalized_lambdas = np.linspace(0.0, 0.5, 50)\n",
        "lambdas = normalized_lambdas / len(ds)\n",
        "print('Performing cross-validation using {} values of lambda, this may take several minutes...'.format(len(lambdas)))\n",
        "qboost, lam = qboost_lambda_sweep(\n",
        "    x_train, y_train, lambdas, verbose=False)"
      ]
    },
    {
      "cell_type": "code",
      "execution_count": null,
      "metadata": {
        "id": "kMX5Ry4pN8GT"
      },
      "outputs": [],
      "source": [
        "lam = 0.0006944444444444445\n",
        "qboost = QBoostClassifier(x_train, y_train, lam)"
      ]
    },
    {
      "cell_type": "code",
      "execution_count": null,
      "metadata": {
        "id": "Gs2jldM-SXCF"
      },
      "outputs": [],
      "source": [
        "print(lam)"
      ]
    },
    {
      "cell_type": "code",
      "execution_count": null,
      "metadata": {
        "id": "tGkMssI-U_8E"
      },
      "outputs": [],
      "source": [
        "print('Score on test set: {:.3f}'.format(qboost.score(x_test, y_test)))"
      ]
    },
    {
      "cell_type": "code",
      "execution_count": null,
      "metadata": {
        "id": "NIrIBgFxfbH6"
      },
      "outputs": [],
      "source": [
        "cm = qboost.get_confusion_matrix(x_test, y_test)\n",
        "disp = ConfusionMatrixDisplay(confusion_matrix=cm)\n",
        "disp.plot()\n",
        "plt.show()"
      ]
    }
  ],
  "metadata": {
    "colab": {
      "provenance": []
    },
    "kernelspec": {
      "display_name": "Python 3",
      "name": "python3"
    },
    "language_info": {
      "name": "python"
    },
    "widgets": {
      "application/vnd.jupyter.widget-state+json": {
        "2f78724cb699434c86ac2f46f8b20a03": {
          "model_module": "@jupyter-widgets/controls",
          "model_name": "DropdownModel",
          "model_module_version": "1.5.0",
          "state": {
            "_dom_classes": [],
            "_model_module": "@jupyter-widgets/controls",
            "_model_module_version": "1.5.0",
            "_model_name": "DropdownModel",
            "_options_labels": [
              "DoS",
              "Fuzzy",
              "Gear",
              "RPM"
            ],
            "_view_count": null,
            "_view_module": "@jupyter-widgets/controls",
            "_view_module_version": "1.5.0",
            "_view_name": "DropdownView",
            "description": "",
            "description_tooltip": null,
            "disabled": false,
            "index": 0,
            "layout": "IPY_MODEL_6672e14199024f33b7ca368a30acd1ae",
            "style": "IPY_MODEL_038eec08751447f0ac7c2c551baa70e1"
          }
        },
        "6672e14199024f33b7ca368a30acd1ae": {
          "model_module": "@jupyter-widgets/base",
          "model_name": "LayoutModel",
          "model_module_version": "1.2.0",
          "state": {
            "_model_module": "@jupyter-widgets/base",
            "_model_module_version": "1.2.0",
            "_model_name": "LayoutModel",
            "_view_count": null,
            "_view_module": "@jupyter-widgets/base",
            "_view_module_version": "1.2.0",
            "_view_name": "LayoutView",
            "align_content": null,
            "align_items": null,
            "align_self": null,
            "border": null,
            "bottom": null,
            "display": null,
            "flex": null,
            "flex_flow": null,
            "grid_area": null,
            "grid_auto_columns": null,
            "grid_auto_flow": null,
            "grid_auto_rows": null,
            "grid_column": null,
            "grid_gap": null,
            "grid_row": null,
            "grid_template_areas": null,
            "grid_template_columns": null,
            "grid_template_rows": null,
            "height": null,
            "justify_content": null,
            "justify_items": null,
            "left": null,
            "margin": null,
            "max_height": null,
            "max_width": null,
            "min_height": null,
            "min_width": null,
            "object_fit": null,
            "object_position": null,
            "order": null,
            "overflow": null,
            "overflow_x": null,
            "overflow_y": null,
            "padding": null,
            "right": null,
            "top": null,
            "visibility": null,
            "width": null
          }
        },
        "038eec08751447f0ac7c2c551baa70e1": {
          "model_module": "@jupyter-widgets/controls",
          "model_name": "DescriptionStyleModel",
          "model_module_version": "1.5.0",
          "state": {
            "_model_module": "@jupyter-widgets/controls",
            "_model_module_version": "1.5.0",
            "_model_name": "DescriptionStyleModel",
            "_view_count": null,
            "_view_module": "@jupyter-widgets/base",
            "_view_module_version": "1.2.0",
            "_view_name": "StyleView",
            "description_width": ""
          }
        },
        "14b32bf499674a98b659880b76f69c17": {
          "model_module": "@jupyter-widgets/output",
          "model_name": "OutputModel",
          "model_module_version": "1.0.0",
          "state": {
            "_dom_classes": [],
            "_model_module": "@jupyter-widgets/output",
            "_model_module_version": "1.0.0",
            "_model_name": "OutputModel",
            "_view_count": null,
            "_view_module": "@jupyter-widgets/output",
            "_view_module_version": "1.0.0",
            "_view_name": "OutputView",
            "layout": "IPY_MODEL_7a498f2deb6c43cb86c00056ece70682",
            "msg_id": "",
            "outputs": []
          }
        },
        "7a498f2deb6c43cb86c00056ece70682": {
          "model_module": "@jupyter-widgets/base",
          "model_name": "LayoutModel",
          "model_module_version": "1.2.0",
          "state": {
            "_model_module": "@jupyter-widgets/base",
            "_model_module_version": "1.2.0",
            "_model_name": "LayoutModel",
            "_view_count": null,
            "_view_module": "@jupyter-widgets/base",
            "_view_module_version": "1.2.0",
            "_view_name": "LayoutView",
            "align_content": null,
            "align_items": null,
            "align_self": null,
            "border": null,
            "bottom": null,
            "display": null,
            "flex": null,
            "flex_flow": null,
            "grid_area": null,
            "grid_auto_columns": null,
            "grid_auto_flow": null,
            "grid_auto_rows": null,
            "grid_column": null,
            "grid_gap": null,
            "grid_row": null,
            "grid_template_areas": null,
            "grid_template_columns": null,
            "grid_template_rows": null,
            "height": null,
            "justify_content": null,
            "justify_items": null,
            "left": null,
            "margin": null,
            "max_height": null,
            "max_width": null,
            "min_height": null,
            "min_width": null,
            "object_fit": null,
            "object_position": null,
            "order": null,
            "overflow": null,
            "overflow_x": null,
            "overflow_y": null,
            "padding": null,
            "right": null,
            "top": null,
            "visibility": null,
            "width": null
          }
        }
      }
    }
  },
  "nbformat": 4,
  "nbformat_minor": 0
}